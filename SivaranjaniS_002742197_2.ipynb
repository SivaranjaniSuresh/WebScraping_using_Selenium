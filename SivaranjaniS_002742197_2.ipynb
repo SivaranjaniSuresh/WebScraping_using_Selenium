{
 "cells": [
  {
   "cell_type": "code",
   "execution_count": 1,
   "metadata": {
    "_cell_guid": "b1076dfc-b9ad-4769-8c92-a6c4dae69d19",
    "_uuid": "8f2839f25d086af736a60e9eeb907d3b93b6e0e5"
   },
   "outputs": [],
   "source": [
    "import numpy as np # linear algebra\n",
    "import pandas as pd "
   ]
  },
  {
   "cell_type": "code",
   "execution_count": 2,
   "metadata": {
    "_cell_guid": "79c7e3d0-c299-4dcb-8224-4455121ee9b0",
    "_uuid": "d629ff2d2480ee46fbb7e2d37f6b5fab8052498a"
   },
   "outputs": [],
   "source": [
    "import seaborn as sns\n",
    "import matplotlib.pyplot as plt"
   ]
  },
  {
   "cell_type": "code",
   "execution_count": 3,
   "metadata": {},
   "outputs": [
    {
     "data": {
      "text/html": [
       "<div>\n",
       "<style scoped>\n",
       "    .dataframe tbody tr th:only-of-type {\n",
       "        vertical-align: middle;\n",
       "    }\n",
       "\n",
       "    .dataframe tbody tr th {\n",
       "        vertical-align: top;\n",
       "    }\n",
       "\n",
       "    .dataframe thead th {\n",
       "        text-align: right;\n",
       "    }\n",
       "</style>\n",
       "<table border=\"1\" class=\"dataframe\">\n",
       "  <thead>\n",
       "    <tr style=\"text-align: right;\">\n",
       "      <th></th>\n",
       "      <th>Unnamed: 0</th>\n",
       "      <th>Job Title</th>\n",
       "      <th>Salary Estimate</th>\n",
       "      <th>Job Description</th>\n",
       "      <th>Rating</th>\n",
       "      <th>Company Name</th>\n",
       "      <th>Location</th>\n",
       "      <th>Headquarters</th>\n",
       "      <th>Size</th>\n",
       "      <th>Founded</th>\n",
       "      <th>Type of ownership</th>\n",
       "      <th>Industry</th>\n",
       "      <th>Sector</th>\n",
       "      <th>Revenue</th>\n",
       "      <th>Competitors</th>\n",
       "    </tr>\n",
       "  </thead>\n",
       "  <tbody>\n",
       "    <tr>\n",
       "      <th>0</th>\n",
       "      <td>0</td>\n",
       "      <td>Data Scientist</td>\n",
       "      <td>$53K-$91K (Glassdoor est.)</td>\n",
       "      <td>Data Scientist\\nLocation: Albuquerque, NM\\nEdu...</td>\n",
       "      <td>3.8</td>\n",
       "      <td>Tecolote Research\\n3.8</td>\n",
       "      <td>Albuquerque, NM</td>\n",
       "      <td>Goleta, CA</td>\n",
       "      <td>501 to 1000 employees</td>\n",
       "      <td>1973</td>\n",
       "      <td>Company - Private</td>\n",
       "      <td>Aerospace &amp; Defense</td>\n",
       "      <td>Aerospace &amp; Defense</td>\n",
       "      <td>$50 to $100 million (USD)</td>\n",
       "      <td>-1</td>\n",
       "    </tr>\n",
       "    <tr>\n",
       "      <th>1</th>\n",
       "      <td>1</td>\n",
       "      <td>Healthcare Data Scientist</td>\n",
       "      <td>$63K-$112K (Glassdoor est.)</td>\n",
       "      <td>What You Will Do:\\n\\nI. General Summary\\n\\nThe...</td>\n",
       "      <td>3.4</td>\n",
       "      <td>University of Maryland Medical System\\n3.4</td>\n",
       "      <td>Linthicum, MD</td>\n",
       "      <td>Baltimore, MD</td>\n",
       "      <td>10000+ employees</td>\n",
       "      <td>1984</td>\n",
       "      <td>Other Organization</td>\n",
       "      <td>Health Care Services &amp; Hospitals</td>\n",
       "      <td>Health Care</td>\n",
       "      <td>$2 to $5 billion (USD)</td>\n",
       "      <td>-1</td>\n",
       "    </tr>\n",
       "    <tr>\n",
       "      <th>2</th>\n",
       "      <td>2</td>\n",
       "      <td>Data Scientist</td>\n",
       "      <td>$80K-$90K (Glassdoor est.)</td>\n",
       "      <td>KnowBe4, Inc. is a high growth information sec...</td>\n",
       "      <td>4.8</td>\n",
       "      <td>KnowBe4\\n4.8</td>\n",
       "      <td>Clearwater, FL</td>\n",
       "      <td>Clearwater, FL</td>\n",
       "      <td>501 to 1000 employees</td>\n",
       "      <td>2010</td>\n",
       "      <td>Company - Private</td>\n",
       "      <td>Security Services</td>\n",
       "      <td>Business Services</td>\n",
       "      <td>$100 to $500 million (USD)</td>\n",
       "      <td>-1</td>\n",
       "    </tr>\n",
       "    <tr>\n",
       "      <th>3</th>\n",
       "      <td>3</td>\n",
       "      <td>Data Scientist</td>\n",
       "      <td>$56K-$97K (Glassdoor est.)</td>\n",
       "      <td>*Organization and Job ID**\\nJob ID: 310709\\n\\n...</td>\n",
       "      <td>3.8</td>\n",
       "      <td>PNNL\\n3.8</td>\n",
       "      <td>Richland, WA</td>\n",
       "      <td>Richland, WA</td>\n",
       "      <td>1001 to 5000 employees</td>\n",
       "      <td>1965</td>\n",
       "      <td>Government</td>\n",
       "      <td>Energy</td>\n",
       "      <td>Oil, Gas, Energy &amp; Utilities</td>\n",
       "      <td>$500 million to $1 billion (USD)</td>\n",
       "      <td>Oak Ridge National Laboratory, National Renewa...</td>\n",
       "    </tr>\n",
       "    <tr>\n",
       "      <th>4</th>\n",
       "      <td>4</td>\n",
       "      <td>Data Scientist</td>\n",
       "      <td>$86K-$143K (Glassdoor est.)</td>\n",
       "      <td>Data Scientist\\nAffinity Solutions / Marketing...</td>\n",
       "      <td>2.9</td>\n",
       "      <td>Affinity Solutions\\n2.9</td>\n",
       "      <td>New York, NY</td>\n",
       "      <td>New York, NY</td>\n",
       "      <td>51 to 200 employees</td>\n",
       "      <td>1998</td>\n",
       "      <td>Company - Private</td>\n",
       "      <td>Advertising &amp; Marketing</td>\n",
       "      <td>Business Services</td>\n",
       "      <td>Unknown / Non-Applicable</td>\n",
       "      <td>Commerce Signals, Cardlytics, Yodlee</td>\n",
       "    </tr>\n",
       "    <tr>\n",
       "      <th>...</th>\n",
       "      <td>...</td>\n",
       "      <td>...</td>\n",
       "      <td>...</td>\n",
       "      <td>...</td>\n",
       "      <td>...</td>\n",
       "      <td>...</td>\n",
       "      <td>...</td>\n",
       "      <td>...</td>\n",
       "      <td>...</td>\n",
       "      <td>...</td>\n",
       "      <td>...</td>\n",
       "      <td>...</td>\n",
       "      <td>...</td>\n",
       "      <td>...</td>\n",
       "      <td>...</td>\n",
       "    </tr>\n",
       "    <tr>\n",
       "      <th>951</th>\n",
       "      <td>951</td>\n",
       "      <td>Senior Data Engineer</td>\n",
       "      <td>$72K-$133K (Glassdoor est.)</td>\n",
       "      <td>THE CHALLENGE\\nEventbrite has a world-class da...</td>\n",
       "      <td>4.4</td>\n",
       "      <td>Eventbrite\\n4.4</td>\n",
       "      <td>Nashville, TN</td>\n",
       "      <td>San Francisco, CA</td>\n",
       "      <td>1001 to 5000 employees</td>\n",
       "      <td>2006</td>\n",
       "      <td>Company - Public</td>\n",
       "      <td>Internet</td>\n",
       "      <td>Information Technology</td>\n",
       "      <td>$100 to $500 million (USD)</td>\n",
       "      <td>See Tickets, TicketWeb, Vendini</td>\n",
       "    </tr>\n",
       "    <tr>\n",
       "      <th>952</th>\n",
       "      <td>952</td>\n",
       "      <td>Project Scientist - Auton Lab, Robotics Institute</td>\n",
       "      <td>$56K-$91K (Glassdoor est.)</td>\n",
       "      <td>The Auton Lab at Carnegie Mellon University is...</td>\n",
       "      <td>2.6</td>\n",
       "      <td>Software Engineering Institute\\n2.6</td>\n",
       "      <td>Pittsburgh, PA</td>\n",
       "      <td>Pittsburgh, PA</td>\n",
       "      <td>501 to 1000 employees</td>\n",
       "      <td>1984</td>\n",
       "      <td>College / University</td>\n",
       "      <td>Colleges &amp; Universities</td>\n",
       "      <td>Education</td>\n",
       "      <td>Unknown / Non-Applicable</td>\n",
       "      <td>-1</td>\n",
       "    </tr>\n",
       "    <tr>\n",
       "      <th>953</th>\n",
       "      <td>953</td>\n",
       "      <td>Data Science Manager</td>\n",
       "      <td>$95K-$160K (Glassdoor est.)</td>\n",
       "      <td>Data Science ManagerResponsibilities:\\n\\nOvers...</td>\n",
       "      <td>3.2</td>\n",
       "      <td>Numeric, LLC\\n3.2</td>\n",
       "      <td>Allentown, PA</td>\n",
       "      <td>Chadds Ford, PA</td>\n",
       "      <td>1 to 50 employees</td>\n",
       "      <td>-1</td>\n",
       "      <td>Company - Private</td>\n",
       "      <td>Staffing &amp; Outsourcing</td>\n",
       "      <td>Business Services</td>\n",
       "      <td>$5 to $10 million (USD)</td>\n",
       "      <td>-1</td>\n",
       "    </tr>\n",
       "    <tr>\n",
       "      <th>954</th>\n",
       "      <td>954</td>\n",
       "      <td>Data Engineer</td>\n",
       "      <td>-1</td>\n",
       "      <td>Loading...\\n\\nTitle: Data Engineer\\n\\nLocation...</td>\n",
       "      <td>4.8</td>\n",
       "      <td>IGNW\\n4.8</td>\n",
       "      <td>Austin, TX</td>\n",
       "      <td>Portland, OR</td>\n",
       "      <td>201 to 500 employees</td>\n",
       "      <td>2015</td>\n",
       "      <td>Company - Private</td>\n",
       "      <td>IT Services</td>\n",
       "      <td>Information Technology</td>\n",
       "      <td>$25 to $50 million (USD)</td>\n",
       "      <td>Slalom</td>\n",
       "    </tr>\n",
       "    <tr>\n",
       "      <th>955</th>\n",
       "      <td>955</td>\n",
       "      <td>Research Scientist – Security and Privacy</td>\n",
       "      <td>$61K-$126K (Glassdoor est.)</td>\n",
       "      <td>Returning Candidate? Log back in to the Career...</td>\n",
       "      <td>3.6</td>\n",
       "      <td>Riverside Research Institute\\n3.6</td>\n",
       "      <td>Beavercreek, OH</td>\n",
       "      <td>Arlington, VA</td>\n",
       "      <td>501 to 1000 employees</td>\n",
       "      <td>1967</td>\n",
       "      <td>Nonprofit Organization</td>\n",
       "      <td>Federal Agencies</td>\n",
       "      <td>Government</td>\n",
       "      <td>$50 to $100 million (USD)</td>\n",
       "      <td>-1</td>\n",
       "    </tr>\n",
       "  </tbody>\n",
       "</table>\n",
       "<p>956 rows × 15 columns</p>\n",
       "</div>"
      ],
      "text/plain": [
       "     Unnamed: 0                                          Job Title  \\\n",
       "0             0                                     Data Scientist   \n",
       "1             1                          Healthcare Data Scientist   \n",
       "2             2                                     Data Scientist   \n",
       "3             3                                     Data Scientist   \n",
       "4             4                                     Data Scientist   \n",
       "..          ...                                                ...   \n",
       "951         951                               Senior Data Engineer   \n",
       "952         952  Project Scientist - Auton Lab, Robotics Institute   \n",
       "953         953                               Data Science Manager   \n",
       "954         954                                      Data Engineer   \n",
       "955         955          Research Scientist – Security and Privacy   \n",
       "\n",
       "                 Salary Estimate  \\\n",
       "0     $53K-$91K (Glassdoor est.)   \n",
       "1    $63K-$112K (Glassdoor est.)   \n",
       "2     $80K-$90K (Glassdoor est.)   \n",
       "3     $56K-$97K (Glassdoor est.)   \n",
       "4    $86K-$143K (Glassdoor est.)   \n",
       "..                           ...   \n",
       "951  $72K-$133K (Glassdoor est.)   \n",
       "952   $56K-$91K (Glassdoor est.)   \n",
       "953  $95K-$160K (Glassdoor est.)   \n",
       "954                           -1   \n",
       "955  $61K-$126K (Glassdoor est.)   \n",
       "\n",
       "                                       Job Description  Rating  \\\n",
       "0    Data Scientist\\nLocation: Albuquerque, NM\\nEdu...     3.8   \n",
       "1    What You Will Do:\\n\\nI. General Summary\\n\\nThe...     3.4   \n",
       "2    KnowBe4, Inc. is a high growth information sec...     4.8   \n",
       "3    *Organization and Job ID**\\nJob ID: 310709\\n\\n...     3.8   \n",
       "4    Data Scientist\\nAffinity Solutions / Marketing...     2.9   \n",
       "..                                                 ...     ...   \n",
       "951  THE CHALLENGE\\nEventbrite has a world-class da...     4.4   \n",
       "952  The Auton Lab at Carnegie Mellon University is...     2.6   \n",
       "953  Data Science ManagerResponsibilities:\\n\\nOvers...     3.2   \n",
       "954  Loading...\\n\\nTitle: Data Engineer\\n\\nLocation...     4.8   \n",
       "955  Returning Candidate? Log back in to the Career...     3.6   \n",
       "\n",
       "                                   Company Name         Location  \\\n",
       "0                        Tecolote Research\\n3.8  Albuquerque, NM   \n",
       "1    University of Maryland Medical System\\n3.4    Linthicum, MD   \n",
       "2                                  KnowBe4\\n4.8   Clearwater, FL   \n",
       "3                                     PNNL\\n3.8     Richland, WA   \n",
       "4                       Affinity Solutions\\n2.9     New York, NY   \n",
       "..                                          ...              ...   \n",
       "951                             Eventbrite\\n4.4    Nashville, TN   \n",
       "952         Software Engineering Institute\\n2.6   Pittsburgh, PA   \n",
       "953                           Numeric, LLC\\n3.2    Allentown, PA   \n",
       "954                                   IGNW\\n4.8       Austin, TX   \n",
       "955           Riverside Research Institute\\n3.6  Beavercreek, OH   \n",
       "\n",
       "          Headquarters                    Size  Founded  \\\n",
       "0           Goleta, CA   501 to 1000 employees     1973   \n",
       "1        Baltimore, MD        10000+ employees     1984   \n",
       "2       Clearwater, FL   501 to 1000 employees     2010   \n",
       "3         Richland, WA  1001 to 5000 employees     1965   \n",
       "4         New York, NY     51 to 200 employees     1998   \n",
       "..                 ...                     ...      ...   \n",
       "951  San Francisco, CA  1001 to 5000 employees     2006   \n",
       "952     Pittsburgh, PA   501 to 1000 employees     1984   \n",
       "953    Chadds Ford, PA       1 to 50 employees       -1   \n",
       "954       Portland, OR    201 to 500 employees     2015   \n",
       "955      Arlington, VA   501 to 1000 employees     1967   \n",
       "\n",
       "          Type of ownership                          Industry  \\\n",
       "0         Company - Private               Aerospace & Defense   \n",
       "1        Other Organization  Health Care Services & Hospitals   \n",
       "2         Company - Private                 Security Services   \n",
       "3                Government                            Energy   \n",
       "4         Company - Private           Advertising & Marketing   \n",
       "..                      ...                               ...   \n",
       "951        Company - Public                          Internet   \n",
       "952    College / University           Colleges & Universities   \n",
       "953       Company - Private            Staffing & Outsourcing   \n",
       "954       Company - Private                       IT Services   \n",
       "955  Nonprofit Organization                  Federal Agencies   \n",
       "\n",
       "                           Sector                           Revenue  \\\n",
       "0             Aerospace & Defense         $50 to $100 million (USD)   \n",
       "1                     Health Care            $2 to $5 billion (USD)   \n",
       "2               Business Services        $100 to $500 million (USD)   \n",
       "3    Oil, Gas, Energy & Utilities  $500 million to $1 billion (USD)   \n",
       "4               Business Services          Unknown / Non-Applicable   \n",
       "..                            ...                               ...   \n",
       "951        Information Technology        $100 to $500 million (USD)   \n",
       "952                     Education          Unknown / Non-Applicable   \n",
       "953             Business Services           $5 to $10 million (USD)   \n",
       "954        Information Technology          $25 to $50 million (USD)   \n",
       "955                    Government         $50 to $100 million (USD)   \n",
       "\n",
       "                                           Competitors  \n",
       "0                                                   -1  \n",
       "1                                                   -1  \n",
       "2                                                   -1  \n",
       "3    Oak Ridge National Laboratory, National Renewa...  \n",
       "4                 Commerce Signals, Cardlytics, Yodlee  \n",
       "..                                                 ...  \n",
       "951                    See Tickets, TicketWeb, Vendini  \n",
       "952                                                 -1  \n",
       "953                                                 -1  \n",
       "954                                             Slalom  \n",
       "955                                                 -1  \n",
       "\n",
       "[956 rows x 15 columns]"
      ]
     },
     "execution_count": 3,
     "metadata": {},
     "output_type": "execute_result"
    }
   ],
   "source": [
    "# loading the data\n",
    "data = pd.read_csv('glassdoor_jobs.csv')\n",
    "data"
   ]
  },
  {
   "cell_type": "markdown",
   "metadata": {},
   "source": [
    "\n",
    "### Data Cleaning\n"
   ]
  },
  {
   "cell_type": "code",
   "execution_count": 4,
   "metadata": {},
   "outputs": [
    {
     "name": "stdout",
     "output_type": "stream",
     "text": [
      "<class 'pandas.core.frame.DataFrame'>\n",
      "RangeIndex: 956 entries, 0 to 955\n",
      "Data columns (total 15 columns):\n",
      " #   Column             Non-Null Count  Dtype  \n",
      "---  ------             --------------  -----  \n",
      " 0   Unnamed: 0         956 non-null    int64  \n",
      " 1   Job Title          956 non-null    object \n",
      " 2   Salary Estimate    956 non-null    object \n",
      " 3   Job Description    956 non-null    object \n",
      " 4   Rating             956 non-null    float64\n",
      " 5   Company Name       956 non-null    object \n",
      " 6   Location           956 non-null    object \n",
      " 7   Headquarters       956 non-null    object \n",
      " 8   Size               956 non-null    object \n",
      " 9   Founded            956 non-null    int64  \n",
      " 10  Type of ownership  956 non-null    object \n",
      " 11  Industry           956 non-null    object \n",
      " 12  Sector             956 non-null    object \n",
      " 13  Revenue            956 non-null    object \n",
      " 14  Competitors        956 non-null    object \n",
      "dtypes: float64(1), int64(2), object(12)\n",
      "memory usage: 112.2+ KB\n"
     ]
    }
   ],
   "source": [
    "data.info()"
   ]
  },
  {
   "cell_type": "code",
   "execution_count": 5,
   "metadata": {},
   "outputs": [
    {
     "data": {
      "text/plain": [
       "Index(['Unnamed: 0', 'Job Title', 'Salary Estimate', 'Job Description',\n",
       "       'Rating', 'Company Name', 'Location', 'Headquarters', 'Size', 'Founded',\n",
       "       'Type of ownership', 'Industry', 'Sector', 'Revenue', 'Competitors'],\n",
       "      dtype='object')"
      ]
     },
     "execution_count": 5,
     "metadata": {},
     "output_type": "execute_result"
    }
   ],
   "source": [
    "data.columns"
   ]
  },
  {
   "cell_type": "code",
   "execution_count": 6,
   "metadata": {},
   "outputs": [
    {
     "data": {
      "text/plain": [
       "Unnamed: 0           0\n",
       "Job Title            0\n",
       "Salary Estimate      0\n",
       "Job Description      0\n",
       "Rating               0\n",
       "Company Name         0\n",
       "Location             0\n",
       "Headquarters         0\n",
       "Size                 0\n",
       "Founded              0\n",
       "Type of ownership    0\n",
       "Industry             0\n",
       "Sector               0\n",
       "Revenue              0\n",
       "Competitors          0\n",
       "dtype: int64"
      ]
     },
     "execution_count": 6,
     "metadata": {},
     "output_type": "execute_result"
    }
   ],
   "source": [
    "data.isna().sum()"
   ]
  },
  {
   "cell_type": "code",
   "execution_count": 7,
   "metadata": {},
   "outputs": [
    {
     "data": {
      "text/html": [
       "<div>\n",
       "<style scoped>\n",
       "    .dataframe tbody tr th:only-of-type {\n",
       "        vertical-align: middle;\n",
       "    }\n",
       "\n",
       "    .dataframe tbody tr th {\n",
       "        vertical-align: top;\n",
       "    }\n",
       "\n",
       "    .dataframe thead th {\n",
       "        text-align: right;\n",
       "    }\n",
       "</style>\n",
       "<table border=\"1\" class=\"dataframe\">\n",
       "  <thead>\n",
       "    <tr style=\"text-align: right;\">\n",
       "      <th></th>\n",
       "      <th>Job Title</th>\n",
       "      <th>Salary Estimate</th>\n",
       "      <th>Job Description</th>\n",
       "      <th>Rating</th>\n",
       "      <th>Company Name</th>\n",
       "      <th>Location</th>\n",
       "      <th>Headquarters</th>\n",
       "      <th>Size</th>\n",
       "      <th>Founded</th>\n",
       "      <th>Type of ownership</th>\n",
       "      <th>Industry</th>\n",
       "      <th>Sector</th>\n",
       "      <th>Revenue</th>\n",
       "      <th>Competitors</th>\n",
       "    </tr>\n",
       "  </thead>\n",
       "  <tbody>\n",
       "    <tr>\n",
       "      <th>0</th>\n",
       "      <td>Data Scientist</td>\n",
       "      <td>$53K-$91K (Glassdoor est.)</td>\n",
       "      <td>Data Scientist\\nLocation: Albuquerque, NM\\nEdu...</td>\n",
       "      <td>3.8</td>\n",
       "      <td>Tecolote Research\\n3.8</td>\n",
       "      <td>Albuquerque, NM</td>\n",
       "      <td>Goleta, CA</td>\n",
       "      <td>501 to 1000 employees</td>\n",
       "      <td>1973</td>\n",
       "      <td>Company - Private</td>\n",
       "      <td>Aerospace &amp; Defense</td>\n",
       "      <td>Aerospace &amp; Defense</td>\n",
       "      <td>$50 to $100 million (USD)</td>\n",
       "      <td>-1</td>\n",
       "    </tr>\n",
       "    <tr>\n",
       "      <th>1</th>\n",
       "      <td>Healthcare Data Scientist</td>\n",
       "      <td>$63K-$112K (Glassdoor est.)</td>\n",
       "      <td>What You Will Do:\\n\\nI. General Summary\\n\\nThe...</td>\n",
       "      <td>3.4</td>\n",
       "      <td>University of Maryland Medical System\\n3.4</td>\n",
       "      <td>Linthicum, MD</td>\n",
       "      <td>Baltimore, MD</td>\n",
       "      <td>10000+ employees</td>\n",
       "      <td>1984</td>\n",
       "      <td>Other Organization</td>\n",
       "      <td>Health Care Services &amp; Hospitals</td>\n",
       "      <td>Health Care</td>\n",
       "      <td>$2 to $5 billion (USD)</td>\n",
       "      <td>-1</td>\n",
       "    </tr>\n",
       "    <tr>\n",
       "      <th>2</th>\n",
       "      <td>Data Scientist</td>\n",
       "      <td>$80K-$90K (Glassdoor est.)</td>\n",
       "      <td>KnowBe4, Inc. is a high growth information sec...</td>\n",
       "      <td>4.8</td>\n",
       "      <td>KnowBe4\\n4.8</td>\n",
       "      <td>Clearwater, FL</td>\n",
       "      <td>Clearwater, FL</td>\n",
       "      <td>501 to 1000 employees</td>\n",
       "      <td>2010</td>\n",
       "      <td>Company - Private</td>\n",
       "      <td>Security Services</td>\n",
       "      <td>Business Services</td>\n",
       "      <td>$100 to $500 million (USD)</td>\n",
       "      <td>-1</td>\n",
       "    </tr>\n",
       "    <tr>\n",
       "      <th>3</th>\n",
       "      <td>Data Scientist</td>\n",
       "      <td>$56K-$97K (Glassdoor est.)</td>\n",
       "      <td>*Organization and Job ID**\\nJob ID: 310709\\n\\n...</td>\n",
       "      <td>3.8</td>\n",
       "      <td>PNNL\\n3.8</td>\n",
       "      <td>Richland, WA</td>\n",
       "      <td>Richland, WA</td>\n",
       "      <td>1001 to 5000 employees</td>\n",
       "      <td>1965</td>\n",
       "      <td>Government</td>\n",
       "      <td>Energy</td>\n",
       "      <td>Oil, Gas, Energy &amp; Utilities</td>\n",
       "      <td>$500 million to $1 billion (USD)</td>\n",
       "      <td>Oak Ridge National Laboratory, National Renewa...</td>\n",
       "    </tr>\n",
       "    <tr>\n",
       "      <th>4</th>\n",
       "      <td>Data Scientist</td>\n",
       "      <td>$86K-$143K (Glassdoor est.)</td>\n",
       "      <td>Data Scientist\\nAffinity Solutions / Marketing...</td>\n",
       "      <td>2.9</td>\n",
       "      <td>Affinity Solutions\\n2.9</td>\n",
       "      <td>New York, NY</td>\n",
       "      <td>New York, NY</td>\n",
       "      <td>51 to 200 employees</td>\n",
       "      <td>1998</td>\n",
       "      <td>Company - Private</td>\n",
       "      <td>Advertising &amp; Marketing</td>\n",
       "      <td>Business Services</td>\n",
       "      <td>Unknown / Non-Applicable</td>\n",
       "      <td>Commerce Signals, Cardlytics, Yodlee</td>\n",
       "    </tr>\n",
       "  </tbody>\n",
       "</table>\n",
       "</div>"
      ],
      "text/plain": [
       "                   Job Title              Salary Estimate  \\\n",
       "0             Data Scientist   $53K-$91K (Glassdoor est.)   \n",
       "1  Healthcare Data Scientist  $63K-$112K (Glassdoor est.)   \n",
       "2             Data Scientist   $80K-$90K (Glassdoor est.)   \n",
       "3             Data Scientist   $56K-$97K (Glassdoor est.)   \n",
       "4             Data Scientist  $86K-$143K (Glassdoor est.)   \n",
       "\n",
       "                                     Job Description  Rating  \\\n",
       "0  Data Scientist\\nLocation: Albuquerque, NM\\nEdu...     3.8   \n",
       "1  What You Will Do:\\n\\nI. General Summary\\n\\nThe...     3.4   \n",
       "2  KnowBe4, Inc. is a high growth information sec...     4.8   \n",
       "3  *Organization and Job ID**\\nJob ID: 310709\\n\\n...     3.8   \n",
       "4  Data Scientist\\nAffinity Solutions / Marketing...     2.9   \n",
       "\n",
       "                                 Company Name         Location  \\\n",
       "0                      Tecolote Research\\n3.8  Albuquerque, NM   \n",
       "1  University of Maryland Medical System\\n3.4    Linthicum, MD   \n",
       "2                                KnowBe4\\n4.8   Clearwater, FL   \n",
       "3                                   PNNL\\n3.8     Richland, WA   \n",
       "4                     Affinity Solutions\\n2.9     New York, NY   \n",
       "\n",
       "     Headquarters                    Size  Founded   Type of ownership  \\\n",
       "0      Goleta, CA   501 to 1000 employees     1973   Company - Private   \n",
       "1   Baltimore, MD        10000+ employees     1984  Other Organization   \n",
       "2  Clearwater, FL   501 to 1000 employees     2010   Company - Private   \n",
       "3    Richland, WA  1001 to 5000 employees     1965          Government   \n",
       "4    New York, NY     51 to 200 employees     1998   Company - Private   \n",
       "\n",
       "                           Industry                        Sector  \\\n",
       "0               Aerospace & Defense           Aerospace & Defense   \n",
       "1  Health Care Services & Hospitals                   Health Care   \n",
       "2                 Security Services             Business Services   \n",
       "3                            Energy  Oil, Gas, Energy & Utilities   \n",
       "4           Advertising & Marketing             Business Services   \n",
       "\n",
       "                            Revenue  \\\n",
       "0         $50 to $100 million (USD)   \n",
       "1            $2 to $5 billion (USD)   \n",
       "2        $100 to $500 million (USD)   \n",
       "3  $500 million to $1 billion (USD)   \n",
       "4          Unknown / Non-Applicable   \n",
       "\n",
       "                                         Competitors  \n",
       "0                                                 -1  \n",
       "1                                                 -1  \n",
       "2                                                 -1  \n",
       "3  Oak Ridge National Laboratory, National Renewa...  \n",
       "4               Commerce Signals, Cardlytics, Yodlee  "
      ]
     },
     "execution_count": 7,
     "metadata": {},
     "output_type": "execute_result"
    }
   ],
   "source": [
    "data = data.copy(deep= True)\n",
    "#We can remove the Unnamed column as a dataframe already has index attached to it\n",
    "data.drop(columns= ['Unnamed: 0'], inplace = True)\n",
    "data.head()"
   ]
  },
  {
   "cell_type": "code",
   "execution_count": 8,
   "metadata": {},
   "outputs": [
    {
     "data": {
      "text/plain": [
       "Index(['Job Title', 'Salary Estimate', 'Job Description', 'Rating',\n",
       "       'Company Name', 'Location', 'Headquarters', 'Size', 'Founded',\n",
       "       'Type of ownership', 'Industry', 'Sector', 'Revenue', 'Competitors'],\n",
       "      dtype='object')"
      ]
     },
     "execution_count": 8,
     "metadata": {},
     "output_type": "execute_result"
    }
   ],
   "source": [
    "data.columns"
   ]
  },
  {
   "cell_type": "markdown",
   "metadata": {},
   "source": [
    "### Job Title Handling"
   ]
  },
  {
   "cell_type": "code",
   "execution_count": 9,
   "metadata": {},
   "outputs": [
    {
     "data": {
      "text/plain": [
       "array(['Data Scientist', 'Healthcare Data Scientist',\n",
       "       'Research Scientist', 'Staff Data Scientist - Technology',\n",
       "       'Data Analyst', 'Data Engineer I', 'Scientist I/II, Biology',\n",
       "       'Customer Data Scientist',\n",
       "       'Data Scientist - Health Data Analytics',\n",
       "       'Senior Data Scientist / Machine Learning',\n",
       "       'Data Scientist - Quantitative', 'Digital Health Data Scientist',\n",
       "       'Associate Data Analyst', 'Clinical Data Scientist',\n",
       "       'Data Scientist / Machine Learning Expert', 'Web Data Analyst',\n",
       "       'Senior Data Scientist', 'Data Engineer',\n",
       "       'Data Scientist - Algorithms & Inference', 'Scientist',\n",
       "       'Data Science Analyst', 'Lead Data Scientist',\n",
       "       'Spectral Scientist/Engineer',\n",
       "       'College Hire - Data Scientist - Open to December 2019 Graduates',\n",
       "       'Data Scientist, Office of Data Science',\n",
       "       'Business Intelligence Analyst', 'Senior Risk Data Scientist',\n",
       "       'Data Scientist in Artificial Intelligence Early Career',\n",
       "       'Data Scientist - Research', 'R&D Data Analysis Scientist',\n",
       "       'Analytics Consultant', 'Director, Data Science',\n",
       "       'Data Scientist SR', 'R&D Sr Data Scientist',\n",
       "       'Customer Data Scientist/Sales Engineer (Bay',\n",
       "       'Jr. Business Data Analyst', 'Data Management Specialist',\n",
       "       'Machine Learning Engineer', 'E-Commerce Data Analyst',\n",
       "       'Data Engineer Intern', 'Sr. Scientist II',\n",
       "       'Insurance Data Scientist', 'Data Scientist Analyst',\n",
       "       'Data Modeler', 'Data Analyst / Scientist',\n",
       "       'Scientist, Stem Cells and Genomics',\n",
       "       'Data Scientist, Rice University', 'Financial Data Analyst',\n",
       "       'Postdoc Scientist - T cell engineering', 'Senior Data Analyst',\n",
       "       'Ag Data Scientist', 'Principal Data Scientist',\n",
       "       'Data Platform Engineer', 'Chief Data Scientist',\n",
       "       'Data Scientist II', 'Senior Data Engineer', 'Project Scientist',\n",
       "       'Senior Data Scientist - AI Forecasting, Finance team',\n",
       "       'Data Analytics Manager',\n",
       "       'Senior Machine Learning (ML) Engineer / Data Scientist - Cyber Security Analytics',\n",
       "       'Weapons and Sensors Engineer/Scientist – Entry Level',\n",
       "       'Associate Scientist', 'Scientist 2, QC Viral Vector',\n",
       "       'Data Scientist/ML Engineer', 'Senior Scientist - Bioanalytical',\n",
       "       'Sr. Data Scientist', 'Scientist, Biomarker Science',\n",
       "       'Data Engineer 4 - Contract', 'Data Analyst - Asset Management',\n",
       "       'Senior Research Scientist - Embedded System Development for DevOps',\n",
       "       'Data Scientist - Bioinformatics',\n",
       "       'Customer Data Scientist/Sales Engineer', 'Data Analyst II',\n",
       "       'MongoDB Data Engineer II', 'Senior Data Scientist Statistics',\n",
       "       'Senior Analytical Scientist',\n",
       "       'Senior Spark Engineer (Data Science)',\n",
       "       'BI & Platform Analytics Manager',\n",
       "       'Sr. Data Scientist - Analytics, Personalized Healthcare (PHC)',\n",
       "       'Data Scientist (Active TS SCI with Polygraph)',\n",
       "       'Pricipal Scientist Molecular and cellular biologist',\n",
       "       'Data Scientist (Actuary, FSA or ASA)', 'Staff Data Scientist',\n",
       "       'Front-End, Back-End, Fullstack Developers & Data Scientist / Researchers - Cleared OR CLEARABLE (Up to 25% Profit Sharing Benefit!)',\n",
       "       'Data Engineer 5 - Contract (Remote)',\n",
       "       'Senior Scientist - Neuroscience',\n",
       "       'Senior Director Biometrics and Clinical Data Management',\n",
       "       'Medical Lab Scientist', 'Risk and Analytics IT, Data Scientist',\n",
       "       'Scientist, Analytical Development', 'Analytics Manager',\n",
       "       'Digital Marketing & ECommerce Data Analyst',\n",
       "       'Sr. Scientist - Digital & Image Analysis/Computational Pathology',\n",
       "       'Principal Scientist - Immunologist',\n",
       "       'Principal Data Scientist with over 10 years experience',\n",
       "       'MED TECH/LAB SCIENTIST - LABORATORY',\n",
       "       'Sr. Scientist, Quantitative Translational Sciences',\n",
       "       'Sr. Data Scientist II', 'Excel / VBA / SQL Data Analyst',\n",
       "       'Machine Learning Research Scientist', 'VP, Data Science',\n",
       "       'Radar Data Analyst', 'Quality Control Scientist',\n",
       "       'AWS Data Engineer', 'PL Actuarial-Lead Data Scientist',\n",
       "       'Deep Learning/Computer Vision Scientist', 'PV Scientist',\n",
       "       'Senior Data & Machine Learning Scientist',\n",
       "       'Principal Data Scientist (Computational Chemistry)',\n",
       "       'Data Systems Specialist 2',\n",
       "       'Principal Scientist, Chemistry & Immunology',\n",
       "       'Software Engineer - Data Visualization',\n",
       "       'Scientist/Senior Scientist, Autoimmune',\n",
       "       'Data Engineer 4 - Contract (Remote)',\n",
       "       'UX Data Scientist (Python)', 'Staff Machine Learning Engineer',\n",
       "       'Principal Scientist, Hematology', 'Lead Data Engineer',\n",
       "       'Pharmacovigilance Scientist (Senior Pharmacovigilance)',\n",
       "       'Data Science Manager', 'Marketing Data Analyst',\n",
       "       'Medical Laboratory Scientist', 'R&D Specialist/ Food Scientist',\n",
       "       'Senior Research Scientist-Machine Learning',\n",
       "       'Data Engineer with R', 'Analytics Manager - Data Mart',\n",
       "       'Sr. Data Engineer - Contract-to-Hire (Java)',\n",
       "       'MED TECH/LAB SCIENTIST- SOUTH COASTAL LAB',\n",
       "       'Food Scientist - Developer', 'Data Engineer 5 - Contract',\n",
       "       'Staff Scientist-Downstream Process Development',\n",
       "       'Sr. Data Engineer',\n",
       "       'Senior Research Statistician- Data Scientist',\n",
       "       'Business Data Analyst, SQL',\n",
       "       'Medical Technologist / Clinical Laboratory Scientist',\n",
       "       'ATL - Data & Analytics (DA)',\n",
       "       'Associate Data Scientist/Computer Scientist',\n",
       "       'Business Intelligence Analyst / Developer',\n",
       "       'System and Data Analyst', 'Data Science Intern',\n",
       "       'Environmental Scientist', 'Environmental Data Specialist',\n",
       "       'Data & Analytics Consultant (NYC)',\n",
       "       'Big Data Engineer - Chicago - Future Opportunity',\n",
       "       'Real World Evidence (RWE) Scientist', 'Survey Data Analyst',\n",
       "       'Data Scientist - Consultant - National',\n",
       "       'Lead Health Data Analyst - Front End', 'Junior Data Analyst',\n",
       "       'SQL Data Engineer',\n",
       "       'Sr. Data Scientist, Cyber-Security LT Contract',\n",
       "       'MSP - Data & Analytics (DA)', 'Insurance Financial Data Analyst',\n",
       "       'Data Engineer I - Azure', 'Information Security Data Analyst',\n",
       "       'Data Scientist, Senior', 'CONSULTANT– DATA ANALYTICS GROUP',\n",
       "       'Data Analyst Level III',\n",
       "       'Data Engineer, Data Engineering and Artifical Intelligence',\n",
       "       'Staff Scientist',\n",
       "       'Associate Scientist/Scientist, Process Analytical Technology - Small Molecule Analytical Chemistry',\n",
       "       'Sr. Data Analyst', 'Program/Data Analyst',\n",
       "       'Senior Data Scientist: Causal & Predictive analytics AI Innovation Lab',\n",
       "       'Health Data Analyst/Developer',\n",
       "       'Principal Data Engineer, Data Platform & Insights',\n",
       "       'RESEARCH SCIENTIST - BIOLOGICAL SAFETY', 'Data Operations Lead',\n",
       "       'Big Data Engineer', 'Clinical Data Analyst',\n",
       "       'Computational Chemist/Data Scientist',\n",
       "       'Product Engineer – Data Science', 'Market Data Analyst',\n",
       "       'Staff Data Engineer', 'Associate Data Engineer',\n",
       "       'Scientist – Cancer Drug Discovery', 'Staff BI and Data Engineer',\n",
       "       'Director - Data, Privacy and AI Governance',\n",
       "       'Scientist Manufacturing - Kentucky BioProcessing',\n",
       "       'Data Analytics Project Manager',\n",
       "       'Consultant - Analytics Consulting',\n",
       "       'Senior Scientist (Neuroscience)',\n",
       "       'Machine Learning Engineer - Regulatory',\n",
       "       'Scientist, Bacteriology',\n",
       "       'Associate Director, Platform and DevOps- Data Engineering and Aritifical Intelligence',\n",
       "       'Clinical Laboratory Scientist', 'Chief Data Officer',\n",
       "       'Head Data Scientist – NLP lead, Novartis AI Innovation Lab',\n",
       "       'Senior Data Scientist - R&D Oncology',\n",
       "       'Director II, Data Science - GRM Actuarial',\n",
       "       'Clinical Data Manager', 'Scientist, Molecular/Cellular Biologist',\n",
       "       'Scientist - Analytical Services',\n",
       "       'Associate Data Analyst- Graduate Development Program',\n",
       "       'Head Data Scientist – Image Analytics lead, Novartis AI Innovation Lab',\n",
       "       'Senior Insurance Data Scientist',\n",
       "       'Senior Data Science Systems Engineer',\n",
       "       'ENVIRONMENTAL ENGINEER/SCIENTIST',\n",
       "       'Scientist, Product Development',\n",
       "       'Senior Scientist - Regulatory Submissions',\n",
       "       'Scientist - Biomarker and Flow Cytometry',\n",
       "       'Revenue Analytics Manager',\n",
       "       'Associate Scientist, LC/MS Biologics',\n",
       "       'Sr. Scientist Method Development', 'IT - Data Engineer II',\n",
       "       'Research Scientist, Immunology - Cancer Biology',\n",
       "       'Project Scientist - Auton Lab, Robotics Institute',\n",
       "       'Staff Machine Learning Scientist, AI Foundation',\n",
       "       'Sr. Enterprise Account Exec- Data Science / ML - NYC',\n",
       "       'Enterprise Architect, Data', 'Advanced Analytics Manager',\n",
       "       'Senior Manager, Epidemiologic Data Scientist',\n",
       "       'Corporate Risk Data Analyst (SQL Based) - Milwaukee or',\n",
       "       'Senior Imagery Scientist - SAR TO 11 #78 (TS/SCI)',\n",
       "       'Marketing Data Analyst, May 2020 Undergrad',\n",
       "       'Data Modeler - Data Solutions Engineer',\n",
       "       'Associate Environmental Scientist - Wildlife Biologist',\n",
       "       'Associate, Data Science, Internal Audit',\n",
       "       'Sr Data Engineer (Sr BI Developer)',\n",
       "       'Senior LiDAR Data Scientist', 'Salesforce Analytics Consultant',\n",
       "       'Technology-Minded, Data Professional Opportunities',\n",
       "       'Managing Data Scientist/ML Engineer',\n",
       "       'Scientist, Pharmacometrics', 'Staff Scientist- Upstream PD',\n",
       "       'Scientist Manufacturing Pharma - Kentucky BioProcessing',\n",
       "       'Senior Clinical Lab Scientist, Clinical Lab Svcs - FT/Nights (8hr)',\n",
       "       'Lead Big Data Engineer',\n",
       "       'Product Engineer – Spatial Data Science and Statistical Analysis',\n",
       "       'Sr Software Engineer (Data Scientist)',\n",
       "       'Sr. Data Engineer (ETL Developer)', 'Sr. Microsoft Data Engineer',\n",
       "       'Senior Data Scientist Artificial Intelligence',\n",
       "       'Scientist, Upstream Process Development (Bioreactors)',\n",
       "       'Diversity and Inclusion Data Analyst',\n",
       "       'Lab Head, Principle Scientist, Dupixent/Type 2 Inflammation & Fibrosis - Cambridge, MA',\n",
       "       'Analytics - Business Assurance Data Analyst',\n",
       "       'Associate Director/Director, Safety Scientist',\n",
       "       'Senior Scientist, Cell Pharmacology/Assay Development',\n",
       "       'Data Analyst Senior', 'Lead Data Engineer (Python)',\n",
       "       'Senior Data Scientist 4 Artificial Intelligence',\n",
       "       'Medical Lab Scientist - MLT',\n",
       "       'Senior Operations Data Analyst, Call Center Operations',\n",
       "       'Director II, Data Science - GRS Predictive Analytics',\n",
       "       'RESEARCH COMPUTER SCIENTIST - RESEARCH ENGINEER - SR. COMPUTER SCIENTIST - SOFTWARE DEVELOPMENT',\n",
       "       'Geospatial Software Developer and Data Scientist',\n",
       "       'Chief Scientist - Emerging Technology Center',\n",
       "       'Senior Scientist - Toxicologist - Product Integrity (Stewardship)',\n",
       "       'Senior Scientist Protein/Oligonucleotides',\n",
       "       'Systems Engineer II - Data Analyst',\n",
       "       'Senior Research Analytical Scientist-Non-Targeted Analysis',\n",
       "       'Director Data Science', 'Sr Data Analyst - IT',\n",
       "       'Senior Scientist, Logic Gated CAR T Cell Therapy',\n",
       "       'Associate Machine Learning Engineer / Data Scientist May 2020 Undergrad',\n",
       "       'Senior Scientist - Biostatistician',\n",
       "       'Principal Machine Learning Scientist', 'Sr. BI Data Engineer III',\n",
       "       'Data Analyst, Performance Partnership', 'Data Scientist Manager',\n",
       "       'Process Development Scientist', 'Sr Data Scientist',\n",
       "       'Software Data Engineer - College',\n",
       "       'Senior Data Scientist - Algorithms',\n",
       "       'Senior Data Scientist Oncology',\n",
       "       'Data Scientist - Alpha Insights',\n",
       "       'Associate Principal Scientist, Pharmacogenomics',\n",
       "       'Data Scientist - Systems Engineering',\n",
       "       'Data Engineer - Consultant (Charlotte Based)',\n",
       "       'Data Analyst 1, full-time contract worker for up to 12 months',\n",
       "       'Scientist, Immuno-Oncology', 'Products Data Analyst II',\n",
       "       'Lead Data Analyst', 'Data Science Engineer - Mobile',\n",
       "       'Scientist - Analytical Development - Pharmaceutics',\n",
       "       'Sr Expert Data Science, Advanced Visual Analytics (Associate level)',\n",
       "       'IT Associate Data Analyst', 'Business Data Analyst',\n",
       "       'Data Scientist - Sales',\n",
       "       'Principal, Data Science - Advanced Analytics',\n",
       "       'Data Science Project Manager',\n",
       "       'Sr Scientist, Immuno-Oncology - Oncology',\n",
       "       'Research Scientist – Security and Privacy',\n",
       "       'Data Analyst 2 (Missionary Department)',\n",
       "       'Supply Chain Data Analyst', 'Data Engineer - ETL',\n",
       "       'Clinical Document Review Scientist',\n",
       "       'Data Modeler (Analytical Systems)',\n",
       "       'Data Scientist in Translational Medicine',\n",
       "       'Product Manager/Data Evangelist',\n",
       "       'Senior Data Scientist – Visualization, Novartis AI Innovation Lab',\n",
       "       'Senior Data Analyst/Scientist', 'Machine Learning Scientist',\n",
       "       'Scientist – Cancer Discovery, Molecular Assay',\n",
       "       'Data Engineering Analyst', 'Manager of Data Science',\n",
       "       'Software Engineer (Data Scientist/Software Engineer) - SISW - MG',\n",
       "       'Associate Research Scientist I (Protein Expression and Production)',\n",
       "       'Head Data Scientist, Predictive Analytics Lead AI Innovation Lab',\n",
       "       'Director, Precision Medicine Clinical Biomarker Scientist',\n",
       "       'Senior Formulations Scientist II', 'Senior Quantitative Analyst',\n",
       "       'Tech Manager, Software Engineering - Data',\n",
       "       'Business Development - Data Supply Partnerships (Veraset)',\n",
       "       'Research Scientist or Senior Research Scientist - Computer Vision',\n",
       "       'Data Analyst Chemist - Quality System Contractor',\n",
       "       'Sr. Manager, Data Science - Marketing Mix Media',\n",
       "       'Sr. Scientist, Toxicology',\n",
       "       'Research Scientist / Principal Research Scientist - Multiphysical Systems',\n",
       "       'Research Scientist, Machine Learning Department',\n",
       "       'Foundational Community Supports Data Analyst',\n",
       "       'Senior Health Data Analyst, Star Ratings',\n",
       "       'Principal Research Scientist/Team Lead, Medicinal Chemistry - Oncology',\n",
       "       'Senior Engineer, Data Management Engineering',\n",
       "       'Quality Control Scientist III- Analytical Development',\n",
       "       'Clinical Scientist, Clinical Development',\n",
       "       'Software Engineer Staff Scientist: Human Language Technologies',\n",
       "       'Manager, Safety Scientist, Medical Safety & Risk Management',\n",
       "       'Assistant Director/Director, Office of Data Science',\n",
       "       'Sr. Data Engineer | Big Data SaaS Pipeline',\n",
       "       'Scientist - CVRM Metabolism - in vivo pharmacology',\n",
       "       'Data Scientist (Warehouse Automation)', 'Jr. Data Scientist',\n",
       "       'Data Architect / Data Modeler', 'Data Scientists',\n",
       "       'Associate Scientist / Sr. Associate Scientist, Antibody Discovery',\n",
       "       'Machine Learning Engineer (NLP)'], dtype=object)"
      ]
     },
     "execution_count": 9,
     "metadata": {},
     "output_type": "execute_result"
    }
   ],
   "source": [
    "data['Job Title'].unique()"
   ]
  },
  {
   "cell_type": "markdown",
   "metadata": {},
   "source": [
    "The 'jobtitle_cleaner' function maps job titles to specific categories based on certain keywords in the job titles."
   ]
  },
  {
   "cell_type": "code",
   "execution_count": 10,
   "metadata": {},
   "outputs": [],
   "source": [
    "\n",
    "# job title cleaning\n",
    "\n",
    "def jobtitle_cleaner(title):\n",
    "    if 'data scientist' in title.lower():\n",
    "        return 'D-sci'\n",
    "    elif 'data engineer' in title.lower():\n",
    "        return 'D-eng'\n",
    "    elif 'analyst' in title.lower():\n",
    "        return 'analyst'\n",
    "    elif 'machine learning' in title.lower():\n",
    "        return 'ML'\n",
    "    elif 'manager' in title.lower():\n",
    "        return 'manager'\n",
    "    elif 'director' in title.lower():\n",
    "        return 'director'\n",
    "    elif 'research' in title.lower():\n",
    "        return 'R&D'\n",
    "    else:\n",
    "        return 'na'"
   ]
  },
  {
   "cell_type": "code",
   "execution_count": 11,
   "metadata": {},
   "outputs": [],
   "source": [
    "data['JobTitles'] = data['Job Title'].apply(jobtitle_cleaner)"
   ]
  },
  {
   "cell_type": "code",
   "execution_count": 12,
   "metadata": {},
   "outputs": [
    {
     "data": {
      "text/plain": [
       "array(['Data Scientist', 'Healthcare Data Scientist',\n",
       "       'Research Scientist', 'Staff Data Scientist - Technology',\n",
       "       'Data Analyst', 'Data Engineer I', 'Scientist I/II, Biology',\n",
       "       'Customer Data Scientist',\n",
       "       'Data Scientist - Health Data Analytics',\n",
       "       'Senior Data Scientist / Machine Learning',\n",
       "       'Data Scientist - Quantitative', 'Digital Health Data Scientist',\n",
       "       'Associate Data Analyst', 'Clinical Data Scientist',\n",
       "       'Data Scientist / Machine Learning Expert', 'Web Data Analyst',\n",
       "       'Senior Data Scientist', 'Data Engineer',\n",
       "       'Data Scientist - Algorithms & Inference', 'Scientist',\n",
       "       'Data Science Analyst', 'Lead Data Scientist',\n",
       "       'Spectral Scientist/Engineer',\n",
       "       'College Hire - Data Scientist - Open to December 2019 Graduates',\n",
       "       'Data Scientist, Office of Data Science',\n",
       "       'Business Intelligence Analyst', 'Senior Risk Data Scientist',\n",
       "       'Data Scientist in Artificial Intelligence Early Career',\n",
       "       'Data Scientist - Research', 'R&D Data Analysis Scientist',\n",
       "       'Analytics Consultant', 'Director, Data Science',\n",
       "       'Data Scientist SR', 'R&D Sr Data Scientist',\n",
       "       'Customer Data Scientist/Sales Engineer (Bay',\n",
       "       'Jr. Business Data Analyst', 'Data Management Specialist',\n",
       "       'Machine Learning Engineer', 'E-Commerce Data Analyst',\n",
       "       'Data Engineer Intern', 'Sr. Scientist II',\n",
       "       'Insurance Data Scientist', 'Data Scientist Analyst',\n",
       "       'Data Modeler', 'Data Analyst / Scientist',\n",
       "       'Scientist, Stem Cells and Genomics',\n",
       "       'Data Scientist, Rice University', 'Financial Data Analyst',\n",
       "       'Postdoc Scientist - T cell engineering', 'Senior Data Analyst',\n",
       "       'Ag Data Scientist', 'Principal Data Scientist',\n",
       "       'Data Platform Engineer', 'Chief Data Scientist',\n",
       "       'Data Scientist II', 'Senior Data Engineer', 'Project Scientist',\n",
       "       'Senior Data Scientist - AI Forecasting, Finance team',\n",
       "       'Data Analytics Manager',\n",
       "       'Senior Machine Learning (ML) Engineer / Data Scientist - Cyber Security Analytics',\n",
       "       'Weapons and Sensors Engineer/Scientist – Entry Level',\n",
       "       'Associate Scientist', 'Scientist 2, QC Viral Vector',\n",
       "       'Data Scientist/ML Engineer', 'Senior Scientist - Bioanalytical',\n",
       "       'Sr. Data Scientist', 'Scientist, Biomarker Science',\n",
       "       'Data Engineer 4 - Contract', 'Data Analyst - Asset Management',\n",
       "       'Senior Research Scientist - Embedded System Development for DevOps',\n",
       "       'Data Scientist - Bioinformatics',\n",
       "       'Customer Data Scientist/Sales Engineer', 'Data Analyst II',\n",
       "       'MongoDB Data Engineer II', 'Senior Data Scientist Statistics',\n",
       "       'Senior Analytical Scientist',\n",
       "       'Senior Spark Engineer (Data Science)',\n",
       "       'BI & Platform Analytics Manager',\n",
       "       'Sr. Data Scientist - Analytics, Personalized Healthcare (PHC)',\n",
       "       'Data Scientist (Active TS SCI with Polygraph)',\n",
       "       'Pricipal Scientist Molecular and cellular biologist',\n",
       "       'Data Scientist (Actuary, FSA or ASA)', 'Staff Data Scientist',\n",
       "       'Front-End, Back-End, Fullstack Developers & Data Scientist / Researchers - Cleared OR CLEARABLE (Up to 25% Profit Sharing Benefit!)',\n",
       "       'Data Engineer 5 - Contract (Remote)',\n",
       "       'Senior Scientist - Neuroscience',\n",
       "       'Senior Director Biometrics and Clinical Data Management',\n",
       "       'Medical Lab Scientist', 'Risk and Analytics IT, Data Scientist',\n",
       "       'Scientist, Analytical Development', 'Analytics Manager',\n",
       "       'Digital Marketing & ECommerce Data Analyst',\n",
       "       'Sr. Scientist - Digital & Image Analysis/Computational Pathology',\n",
       "       'Principal Scientist - Immunologist',\n",
       "       'Principal Data Scientist with over 10 years experience',\n",
       "       'MED TECH/LAB SCIENTIST - LABORATORY',\n",
       "       'Sr. Scientist, Quantitative Translational Sciences',\n",
       "       'Sr. Data Scientist II', 'Excel / VBA / SQL Data Analyst',\n",
       "       'Machine Learning Research Scientist', 'VP, Data Science',\n",
       "       'Radar Data Analyst', 'Quality Control Scientist',\n",
       "       'AWS Data Engineer', 'PL Actuarial-Lead Data Scientist',\n",
       "       'Deep Learning/Computer Vision Scientist', 'PV Scientist',\n",
       "       'Senior Data & Machine Learning Scientist',\n",
       "       'Principal Data Scientist (Computational Chemistry)',\n",
       "       'Data Systems Specialist 2',\n",
       "       'Principal Scientist, Chemistry & Immunology',\n",
       "       'Software Engineer - Data Visualization',\n",
       "       'Scientist/Senior Scientist, Autoimmune',\n",
       "       'Data Engineer 4 - Contract (Remote)',\n",
       "       'UX Data Scientist (Python)', 'Staff Machine Learning Engineer',\n",
       "       'Principal Scientist, Hematology', 'Lead Data Engineer',\n",
       "       'Pharmacovigilance Scientist (Senior Pharmacovigilance)',\n",
       "       'Data Science Manager', 'Marketing Data Analyst',\n",
       "       'Medical Laboratory Scientist', 'R&D Specialist/ Food Scientist',\n",
       "       'Senior Research Scientist-Machine Learning',\n",
       "       'Data Engineer with R', 'Analytics Manager - Data Mart',\n",
       "       'Sr. Data Engineer - Contract-to-Hire (Java)',\n",
       "       'MED TECH/LAB SCIENTIST- SOUTH COASTAL LAB',\n",
       "       'Food Scientist - Developer', 'Data Engineer 5 - Contract',\n",
       "       'Staff Scientist-Downstream Process Development',\n",
       "       'Sr. Data Engineer',\n",
       "       'Senior Research Statistician- Data Scientist',\n",
       "       'Business Data Analyst, SQL',\n",
       "       'Medical Technologist / Clinical Laboratory Scientist',\n",
       "       'ATL - Data & Analytics (DA)',\n",
       "       'Associate Data Scientist/Computer Scientist',\n",
       "       'Business Intelligence Analyst / Developer',\n",
       "       'System and Data Analyst', 'Data Science Intern',\n",
       "       'Environmental Scientist', 'Environmental Data Specialist',\n",
       "       'Data & Analytics Consultant (NYC)',\n",
       "       'Big Data Engineer - Chicago - Future Opportunity',\n",
       "       'Real World Evidence (RWE) Scientist', 'Survey Data Analyst',\n",
       "       'Data Scientist - Consultant - National',\n",
       "       'Lead Health Data Analyst - Front End', 'Junior Data Analyst',\n",
       "       'SQL Data Engineer',\n",
       "       'Sr. Data Scientist, Cyber-Security LT Contract',\n",
       "       'MSP - Data & Analytics (DA)', 'Insurance Financial Data Analyst',\n",
       "       'Data Engineer I - Azure', 'Information Security Data Analyst',\n",
       "       'Data Scientist, Senior', 'CONSULTANT– DATA ANALYTICS GROUP',\n",
       "       'Data Analyst Level III',\n",
       "       'Data Engineer, Data Engineering and Artifical Intelligence',\n",
       "       'Staff Scientist',\n",
       "       'Associate Scientist/Scientist, Process Analytical Technology - Small Molecule Analytical Chemistry',\n",
       "       'Sr. Data Analyst', 'Program/Data Analyst',\n",
       "       'Senior Data Scientist: Causal & Predictive analytics AI Innovation Lab',\n",
       "       'Health Data Analyst/Developer',\n",
       "       'Principal Data Engineer, Data Platform & Insights',\n",
       "       'RESEARCH SCIENTIST - BIOLOGICAL SAFETY', 'Data Operations Lead',\n",
       "       'Big Data Engineer', 'Clinical Data Analyst',\n",
       "       'Computational Chemist/Data Scientist',\n",
       "       'Product Engineer – Data Science', 'Market Data Analyst',\n",
       "       'Staff Data Engineer', 'Associate Data Engineer',\n",
       "       'Scientist – Cancer Drug Discovery', 'Staff BI and Data Engineer',\n",
       "       'Director - Data, Privacy and AI Governance',\n",
       "       'Scientist Manufacturing - Kentucky BioProcessing',\n",
       "       'Data Analytics Project Manager',\n",
       "       'Consultant - Analytics Consulting',\n",
       "       'Senior Scientist (Neuroscience)',\n",
       "       'Machine Learning Engineer - Regulatory',\n",
       "       'Scientist, Bacteriology',\n",
       "       'Associate Director, Platform and DevOps- Data Engineering and Aritifical Intelligence',\n",
       "       'Clinical Laboratory Scientist', 'Chief Data Officer',\n",
       "       'Head Data Scientist – NLP lead, Novartis AI Innovation Lab',\n",
       "       'Senior Data Scientist - R&D Oncology',\n",
       "       'Director II, Data Science - GRM Actuarial',\n",
       "       'Clinical Data Manager', 'Scientist, Molecular/Cellular Biologist',\n",
       "       'Scientist - Analytical Services',\n",
       "       'Associate Data Analyst- Graduate Development Program',\n",
       "       'Head Data Scientist – Image Analytics lead, Novartis AI Innovation Lab',\n",
       "       'Senior Insurance Data Scientist',\n",
       "       'Senior Data Science Systems Engineer',\n",
       "       'ENVIRONMENTAL ENGINEER/SCIENTIST',\n",
       "       'Scientist, Product Development',\n",
       "       'Senior Scientist - Regulatory Submissions',\n",
       "       'Scientist - Biomarker and Flow Cytometry',\n",
       "       'Revenue Analytics Manager',\n",
       "       'Associate Scientist, LC/MS Biologics',\n",
       "       'Sr. Scientist Method Development', 'IT - Data Engineer II',\n",
       "       'Research Scientist, Immunology - Cancer Biology',\n",
       "       'Project Scientist - Auton Lab, Robotics Institute',\n",
       "       'Staff Machine Learning Scientist, AI Foundation',\n",
       "       'Sr. Enterprise Account Exec- Data Science / ML - NYC',\n",
       "       'Enterprise Architect, Data', 'Advanced Analytics Manager',\n",
       "       'Senior Manager, Epidemiologic Data Scientist',\n",
       "       'Corporate Risk Data Analyst (SQL Based) - Milwaukee or',\n",
       "       'Senior Imagery Scientist - SAR TO 11 #78 (TS/SCI)',\n",
       "       'Marketing Data Analyst, May 2020 Undergrad',\n",
       "       'Data Modeler - Data Solutions Engineer',\n",
       "       'Associate Environmental Scientist - Wildlife Biologist',\n",
       "       'Associate, Data Science, Internal Audit',\n",
       "       'Sr Data Engineer (Sr BI Developer)',\n",
       "       'Senior LiDAR Data Scientist', 'Salesforce Analytics Consultant',\n",
       "       'Technology-Minded, Data Professional Opportunities',\n",
       "       'Managing Data Scientist/ML Engineer',\n",
       "       'Scientist, Pharmacometrics', 'Staff Scientist- Upstream PD',\n",
       "       'Scientist Manufacturing Pharma - Kentucky BioProcessing',\n",
       "       'Senior Clinical Lab Scientist, Clinical Lab Svcs - FT/Nights (8hr)',\n",
       "       'Lead Big Data Engineer',\n",
       "       'Product Engineer – Spatial Data Science and Statistical Analysis',\n",
       "       'Sr Software Engineer (Data Scientist)',\n",
       "       'Sr. Data Engineer (ETL Developer)', 'Sr. Microsoft Data Engineer',\n",
       "       'Senior Data Scientist Artificial Intelligence',\n",
       "       'Scientist, Upstream Process Development (Bioreactors)',\n",
       "       'Diversity and Inclusion Data Analyst',\n",
       "       'Lab Head, Principle Scientist, Dupixent/Type 2 Inflammation & Fibrosis - Cambridge, MA',\n",
       "       'Analytics - Business Assurance Data Analyst',\n",
       "       'Associate Director/Director, Safety Scientist',\n",
       "       'Senior Scientist, Cell Pharmacology/Assay Development',\n",
       "       'Data Analyst Senior', 'Lead Data Engineer (Python)',\n",
       "       'Senior Data Scientist 4 Artificial Intelligence',\n",
       "       'Medical Lab Scientist - MLT',\n",
       "       'Senior Operations Data Analyst, Call Center Operations',\n",
       "       'Director II, Data Science - GRS Predictive Analytics',\n",
       "       'RESEARCH COMPUTER SCIENTIST - RESEARCH ENGINEER - SR. COMPUTER SCIENTIST - SOFTWARE DEVELOPMENT',\n",
       "       'Geospatial Software Developer and Data Scientist',\n",
       "       'Chief Scientist - Emerging Technology Center',\n",
       "       'Senior Scientist - Toxicologist - Product Integrity (Stewardship)',\n",
       "       'Senior Scientist Protein/Oligonucleotides',\n",
       "       'Systems Engineer II - Data Analyst',\n",
       "       'Senior Research Analytical Scientist-Non-Targeted Analysis',\n",
       "       'Director Data Science', 'Sr Data Analyst - IT',\n",
       "       'Senior Scientist, Logic Gated CAR T Cell Therapy',\n",
       "       'Associate Machine Learning Engineer / Data Scientist May 2020 Undergrad',\n",
       "       'Senior Scientist - Biostatistician',\n",
       "       'Principal Machine Learning Scientist', 'Sr. BI Data Engineer III',\n",
       "       'Data Analyst, Performance Partnership', 'Data Scientist Manager',\n",
       "       'Process Development Scientist', 'Sr Data Scientist',\n",
       "       'Software Data Engineer - College',\n",
       "       'Senior Data Scientist - Algorithms',\n",
       "       'Senior Data Scientist Oncology',\n",
       "       'Data Scientist - Alpha Insights',\n",
       "       'Associate Principal Scientist, Pharmacogenomics',\n",
       "       'Data Scientist - Systems Engineering',\n",
       "       'Data Engineer - Consultant (Charlotte Based)',\n",
       "       'Data Analyst 1, full-time contract worker for up to 12 months',\n",
       "       'Scientist, Immuno-Oncology', 'Products Data Analyst II',\n",
       "       'Lead Data Analyst', 'Data Science Engineer - Mobile',\n",
       "       'Scientist - Analytical Development - Pharmaceutics',\n",
       "       'Sr Expert Data Science, Advanced Visual Analytics (Associate level)',\n",
       "       'IT Associate Data Analyst', 'Business Data Analyst',\n",
       "       'Data Scientist - Sales',\n",
       "       'Principal, Data Science - Advanced Analytics',\n",
       "       'Data Science Project Manager',\n",
       "       'Sr Scientist, Immuno-Oncology - Oncology',\n",
       "       'Research Scientist – Security and Privacy',\n",
       "       'Data Analyst 2 (Missionary Department)',\n",
       "       'Supply Chain Data Analyst', 'Data Engineer - ETL',\n",
       "       'Clinical Document Review Scientist',\n",
       "       'Data Modeler (Analytical Systems)',\n",
       "       'Data Scientist in Translational Medicine',\n",
       "       'Product Manager/Data Evangelist',\n",
       "       'Senior Data Scientist – Visualization, Novartis AI Innovation Lab',\n",
       "       'Senior Data Analyst/Scientist', 'Machine Learning Scientist',\n",
       "       'Scientist – Cancer Discovery, Molecular Assay',\n",
       "       'Data Engineering Analyst', 'Manager of Data Science',\n",
       "       'Software Engineer (Data Scientist/Software Engineer) - SISW - MG',\n",
       "       'Associate Research Scientist I (Protein Expression and Production)',\n",
       "       'Head Data Scientist, Predictive Analytics Lead AI Innovation Lab',\n",
       "       'Director, Precision Medicine Clinical Biomarker Scientist',\n",
       "       'Senior Formulations Scientist II', 'Senior Quantitative Analyst',\n",
       "       'Tech Manager, Software Engineering - Data',\n",
       "       'Business Development - Data Supply Partnerships (Veraset)',\n",
       "       'Research Scientist or Senior Research Scientist - Computer Vision',\n",
       "       'Data Analyst Chemist - Quality System Contractor',\n",
       "       'Sr. Manager, Data Science - Marketing Mix Media',\n",
       "       'Sr. Scientist, Toxicology',\n",
       "       'Research Scientist / Principal Research Scientist - Multiphysical Systems',\n",
       "       'Research Scientist, Machine Learning Department',\n",
       "       'Foundational Community Supports Data Analyst',\n",
       "       'Senior Health Data Analyst, Star Ratings',\n",
       "       'Principal Research Scientist/Team Lead, Medicinal Chemistry - Oncology',\n",
       "       'Senior Engineer, Data Management Engineering',\n",
       "       'Quality Control Scientist III- Analytical Development',\n",
       "       'Clinical Scientist, Clinical Development',\n",
       "       'Software Engineer Staff Scientist: Human Language Technologies',\n",
       "       'Manager, Safety Scientist, Medical Safety & Risk Management',\n",
       "       'Assistant Director/Director, Office of Data Science',\n",
       "       'Sr. Data Engineer | Big Data SaaS Pipeline',\n",
       "       'Scientist - CVRM Metabolism - in vivo pharmacology',\n",
       "       'Data Scientist (Warehouse Automation)', 'Jr. Data Scientist',\n",
       "       'Data Architect / Data Modeler', 'Data Scientists',\n",
       "       'Associate Scientist / Sr. Associate Scientist, Antibody Discovery',\n",
       "       'Machine Learning Engineer (NLP)'], dtype=object)"
      ]
     },
     "execution_count": 12,
     "metadata": {},
     "output_type": "execute_result"
    }
   ],
   "source": [
    "data['Job Title'].unique()"
   ]
  },
  {
   "cell_type": "code",
   "execution_count": 13,
   "metadata": {},
   "outputs": [
    {
     "data": {
      "text/plain": [
       "array(['D-sci', 'R&D', 'analyst', 'D-eng', 'na', 'director', 'ML',\n",
       "       'manager'], dtype=object)"
      ]
     },
     "execution_count": 13,
     "metadata": {},
     "output_type": "execute_result"
    }
   ],
   "source": [
    "data['JobTitles'].unique()"
   ]
  },
  {
   "cell_type": "code",
   "execution_count": 14,
   "metadata": {},
   "outputs": [
    {
     "data": {
      "text/plain": [
       "D-sci       358\n",
       "na          219\n",
       "D-eng       158\n",
       "analyst     124\n",
       "manager      36\n",
       "ML           26\n",
       "R&D          19\n",
       "director     16\n",
       "Name: JobTitles, dtype: int64"
      ]
     },
     "execution_count": 14,
     "metadata": {},
     "output_type": "execute_result"
    }
   ],
   "source": [
    "\n",
    "data['JobTitles'].value_counts()"
   ]
  },
  {
   "cell_type": "markdown",
   "metadata": {},
   "source": [
    "The jobseniority function categorizes job titles into different seniority levels: 'Senior Prof' for senior-level roles, 'Junior Prof' for junior-level roles, and 'No Desc' for job titles that do not contain any keywords indicating seniority."
   ]
  },
  {
   "cell_type": "code",
   "execution_count": 15,
   "metadata": {},
   "outputs": [],
   "source": [
    "senior_list = ['sr','sr.','senior','principal', 'research', 'lead', 'R&D','II', 'III']\n",
    "junior_list = ['jr','jr.','junior']\n",
    "\n",
    "\n",
    "def jobseniority(title):\n",
    "    for i in senior_list:\n",
    "        if i in title.lower():\n",
    "            return 'Senior Prof'\n",
    "            \n",
    "    for j in junior_list:\n",
    "        if j in title.lower():\n",
    "            return 'Junior Prof'\n",
    "        else:\n",
    "            return 'No Desc'"
   ]
  },
  {
   "cell_type": "code",
   "execution_count": 16,
   "metadata": {},
   "outputs": [],
   "source": [
    "\n",
    "data['Job Seniority'] = data['Job Title'].apply(jobseniority)"
   ]
  },
  {
   "cell_type": "code",
   "execution_count": 17,
   "metadata": {},
   "outputs": [
    {
     "data": {
      "text/plain": [
       "array(['No Desc', 'Senior Prof', 'Junior Prof'], dtype=object)"
      ]
     },
     "execution_count": 17,
     "metadata": {},
     "output_type": "execute_result"
    }
   ],
   "source": [
    "\n",
    "data['Job Seniority'].unique()"
   ]
  },
  {
   "cell_type": "code",
   "execution_count": 18,
   "metadata": {},
   "outputs": [
    {
     "data": {
      "text/plain": [
       "No Desc        671\n",
       "Senior Prof    283\n",
       "Junior Prof      2\n",
       "Name: Job Seniority, dtype: int64"
      ]
     },
     "execution_count": 18,
     "metadata": {},
     "output_type": "execute_result"
    }
   ],
   "source": [
    "data['Job Seniority'].value_counts()"
   ]
  },
  {
   "cell_type": "markdown",
   "metadata": {},
   "source": [
    "### Job Description Handling"
   ]
  },
  {
   "cell_type": "markdown",
   "metadata": {},
   "source": [
    "The below function processes job descriptions to create binary features for specific skills - (Python, Excel, R Studio, Spark, AWS). These binary features that are createed are then being used in models to predict/ analyze job  based on the presence or absence of these skills in job descriptions.\n",
    "\n",
    "\n",
    "\n",
    "\n"
   ]
  },
  {
   "cell_type": "code",
   "execution_count": 19,
   "metadata": {},
   "outputs": [],
   "source": [
    "# job descriptions\n",
    "jobs_list = ['python', 'excel','r studio', 'spark','aws']\n",
    "\n",
    "for i in jobs_list:\n",
    "    data[i+'_'+'job'] = data['Job Description'].apply(lambda x : 1 if i in x.lower() else 0)\n"
   ]
  },
  {
   "cell_type": "code",
   "execution_count": 20,
   "metadata": {},
   "outputs": [
    {
     "name": "stdout",
     "output_type": "stream",
     "text": [
      "1    496\n",
      "0    460\n",
      "Name: python_job, dtype: int64\n",
      "1    486\n",
      "0    470\n",
      "Name: excel_job, dtype: int64\n",
      "0    955\n",
      "1      1\n",
      "Name: r studio_job, dtype: int64\n",
      "0    742\n",
      "1    214\n",
      "Name: spark_job, dtype: int64\n",
      "0    714\n",
      "1    242\n",
      "Name: aws_job, dtype: int64\n"
     ]
    }
   ],
   "source": [
    "\n",
    "for i in jobs_list:\n",
    "    print(data[i+'_'+'job'].value_counts())"
   ]
  },
  {
   "cell_type": "markdown",
   "metadata": {},
   "source": [
    "### Company Name Handling"
   ]
  },
  {
   "cell_type": "code",
   "execution_count": 21,
   "metadata": {},
   "outputs": [
    {
     "data": {
      "text/plain": [
       "array(['Tecolote Research\\n3.8',\n",
       "       'University of Maryland Medical System\\n3.4', 'KnowBe4\\n4.8',\n",
       "       'PNNL\\n3.8', 'Affinity Solutions\\n2.9', 'CyrusOne\\n3.4',\n",
       "       'ClearOne Advantage\\n4.1', 'Logic20/20\\n3.8',\n",
       "       'Rochester Regional Health\\n3.3', '<intent>\\n4.6', 'Wish\\n3.5',\n",
       "       'ManTech\\n4.1', 'Walmart\\n3.2', 'Yesler\\n4.1',\n",
       "       'Takeda Pharmaceuticals\\n3.7', 'Audible\\n3.6',\n",
       "       'Blueprint Medicines\\n3.9', 'h2o.ai\\n4.3', 'Nuna\\n4.2',\n",
       "       'Pinnacol Assurance\\n4.0', 'Porch\\n3.2', 'Health IQ\\n3.9',\n",
       "       'Truckstop.com\\n3.8', 'SMC 3\\n4.3', 'Mars\\n3.9', 'Novetta\\n4.0',\n",
       "       'Pfizer\\n4.0', 'First Tech Federal Credit Union\\n3.5',\n",
       "       'The Hanover Insurance Group\\n3.7', 'Amrock\\n3.6', 'Novartis\\n3.8',\n",
       "       'Juniper Networks\\n3.8', 'New England Biolabs\\n4.7',\n",
       "       'Clarity Insights\\n4.2', 'Esri\\n3.5',\n",
       "       'Systems & Technology Research\\n4.7', 'Sartorius\\n3.5',\n",
       "       'Lancer Insurance\\n3.5', 'Sauce Labs\\n4.2', 'Amount\\n4.1',\n",
       "       'Persivia\\n3.6', 'Edgewell Personal Care\\n3.4',\n",
       "       'Equity Residential\\n4.3', 'Brightside\\n5.0', 'BPA Services\\n5.0',\n",
       "       'Visa Inc.\\n3.7', 'Intrado\\n3.1', 'Centauri\\n4.7',\n",
       "       'Caterpillar\\n3.7', 'Anson McCade\\n4.5',\n",
       "       'Zimmerman Advertising\\n3.8', 'Liberty Mutual Insurance\\n3.3',\n",
       "       'Torch Technologies, Inc.\\n4.6', 'Swiss Re\\n3.7',\n",
       "       'Northrop Grumman\\n3.7', 'Netskope\\n4.1', '1904labs\\n4.7',\n",
       "       'Amica Mutual\\n3.1', 'The David J. Joseph Company\\n4.4',\n",
       "       'USEReady\\n4.3', 'Bill.com\\n3.8',\n",
       "       'Pacific Northwest National Laboratory\\n3.8', 'Blue Owl\\n4.5',\n",
       "       \"DICK'S Sporting Goods - Corporate\\n3.8\",\n",
       "       'Great-Circle Technologies\\n2.2', 'Berg Health\\n2.8',\n",
       "       'Oversight Systems\\n4.7', 'Avlino\\n4.9', 'C Space\\n3.1',\n",
       "       'Numeric, LLC\\n3.2', 'HP Inc.\\n4.0', 'SpringML\\n4.4',\n",
       "       'Grainger\\n3.6', 'EAG Laboratories\\n2.7', 'The Buffalo Group\\n3.9',\n",
       "       'Carmeuse\\n3.1', 'GNS Healthcare\\n1.9', 'Peraton\\n3.3',\n",
       "       'Pactera\\n4.4', 'Nurx\\n3.9', 'webfx.com\\n4.7',\n",
       "       'Johns Hopkins University Applied Physics Laboratory\\n4.5',\n",
       "       'Productive Edge\\n4.3', 'Excella Consulting\\n4.0', 'Gensco\\n4.4',\n",
       "       'goTRG\\n4.2', 'NMR Consulting\\n4.5', 'Kodiak Robotics\\n4.9',\n",
       "       'iSeatz\\n3.5', 'ThousandEyes\\n4.7', 'Nektar Therapeutics\\n3.5',\n",
       "       'TransUnion\\n3.9', 'Peterson Technology Partners\\n4.0',\n",
       "       'IT Concepts\\n4.7', 'Scientific Research Corporation\\n4.2',\n",
       "       'General Dynamics Information Technology\\n3.4', 'MITRE\\n3.2',\n",
       "       'DentaQuest\\n3.1', 'Redjack\\n4.1', 'Alector\\n5.0',\n",
       "       '7Park Data\\n3.8', 'Rapid Response Monitoring\\n4.7',\n",
       "       'Bridgerock Data', 'NuWave Solutions\\n4.5', 'Trilogy Ed\\n4.3',\n",
       "       'Gallup\\n4.2', 'CapTech\\n3.9',\n",
       "       'American Axle & Manufacturing\\n3.3', 'CentralReach\\n4.7',\n",
       "       'LEAH Labs', 'Integrate\\n4.3', 'Boys Town Hospital\\n2.9',\n",
       "       'Demandbase\\n4.5', 'Sapphire Digital\\n3.4', 'Formation\\n3.2',\n",
       "       'Autodesk\\n4.0', \"Beck's Hybrids\\n4.6\", 'DrFirst\\n2.8',\n",
       "       'Object Partners\\n4.7', 'Briq\\n4.9', 'Geomagical Labs',\n",
       "       'Teaching Strategies, LLC\\n3.1', 'L.A. Care Health Plan\\n3.0',\n",
       "       'Red Ventures\\n3.2', 'Quick Base\\n4.4',\n",
       "       'The E.W. Scripps Company\\n3.5', 'Upside Business Travel\\n4.0',\n",
       "       'Synagro\\n2.3', 'Alliance Source Testing\\n4.0',\n",
       "       'Accuride International\\n3.6', 'Full Potential Solutions\\n3.8',\n",
       "       'Maven Wave Partners\\n4.4', 'My Job Tank\\n3.6', 'Dynetics\\n3.8',\n",
       "       'First Command Financial Services, Inc.\\n3.2', 'Pharmavite\\n2.9',\n",
       "       'BioMarin Pharmaceutical\\n3.8', 'ShorePoint\\n4.5',\n",
       "       'Stratagem Group\\n4.3', 'PA Consulting\\n3.4',\n",
       "       'Apellis Pharmaceuticals\\n4.1', 'Gridiron IT\\n5.0', 'Hygiena\\n4.0',\n",
       "       'Evolve Vacation Rental\\n3.7',\n",
       "       'The Church of Jesus Christ of Latter-day Saints\\n4.2',\n",
       "       'Maximus Real Estate Partners\\n4.3',\n",
       "       'Software Engineering Institute\\n2.6', 'AVANADE\\n3.9',\n",
       "       'PatientPoint\\n3.8', 'Insight Enterprises, Inc.\\n4.1',\n",
       "       'BlueCross BlueShield of Tennessee\\n3.8', 'KSM Consulting\\n4.4',\n",
       "       'Cogo Labs\\n3.9', 'Church & Dwight\\n3.4', 'MassMutual\\n3.6',\n",
       "       'Genentech\\n3.9', 'Volume Integration, LLC\\n4.4',\n",
       "       'Legal & General America\\n3.8', 'Western Digital\\n3.5',\n",
       "       'CACI International\\n3.5', 'Sunovion\\n3.5',\n",
       "       'National Student Clearinghouse\\n2.9', 'Hamilton Porter LLC\\n5.0',\n",
       "       'Tower Health\\n3.6', 'State of Wisconsin Investment Board\\n2.7',\n",
       "       'Rubius Therapeutics\\n4.4', 'OneMagnify\\n4.3', 'IZEA\\n4.2',\n",
       "       'Vionic Group\\n3.6', 'Dodge Data & Analytics\\n2.8',\n",
       "       'Plymouth Rock Assurance\\n3.3', 'CA-One Tech Cloud',\n",
       "       'Beebe Healthcare\\n3.6', 'Argo Group US\\n3.4',\n",
       "       'Associated Electric Cooperative\\n4.1', 'Seen by Indeed',\n",
       "       'PennyMac\\n3.2', 'Zest AI\\n3.9',\n",
       "       'DECISIVE ANALYTICS Corporation\\n4.7', 'Aptonet Inc\\n5.0',\n",
       "       'Karyopharm Therapeutics Inc.\\n2.9', 'Tempus Labs\\n3.0',\n",
       "       'Recursion Pharmaceuticals\\n4.7', 'P2 Energy Solutions\\n3.7',\n",
       "       'ClearEdge\\n4.0', 'OSI Engineering\\n4.4', 'Tapjoy\\n3.9',\n",
       "       'Credit Sesame\\n4.1', 'Octane\\n4.2', 'Greenwich Biosciences\\n4.6',\n",
       "       'Decode_M', 'San Manuel Casino\\n3.6',\n",
       "       'Texas Health Huguley Hospital\\n4.0', 'GSN Games\\n4.5',\n",
       "       'Teasdale Latin Foods\\n2.4', 'Redstream Technology\\n4.1',\n",
       "       'Central California Alliance for Health\\n3.5',\n",
       "       'Pilot Flying J Travel Centers LLC\\n3.0', \"Palermo's Pizza\\n3.3\",\n",
       "       'Advanced BioScience Laboratories\\n2.7',\n",
       "       'Echo Global Logistics\\n3.4', 'Lockheed Martin\\n3.7',\n",
       "       'Acuity Insurance\\n4.8', 'Fareportal\\n3.8',\n",
       "       'Veterans Affairs, Veterans Health Administration\\n3.4',\n",
       "       'Credera\\n4.3', 'Daugherty Business Solutions\\n4.3',\n",
       "       'Spectrum Communications and Consulting\\n3.4', 'NCSOFT\\n3.1',\n",
       "       'Dayton Freight Lines, Inc.\\n4.3',\n",
       "       'Community Action Partnership of San Luis Obispo\\n2.8',\n",
       "       'TrueAccord\\n3.4', 'DRB Systems\\n4.0', 'Corcentric\\n3.7',\n",
       "       'Blend360\\n4.6', 'U.Group\\n3.5', 'Calista\\n2.4',\n",
       "       'Sandhills Global\\n2.5', 'Hire Resolve\\n3.8',\n",
       "       'Systems Evolution Inc.\\n4.7', 'Eventbrite\\n4.4', 'Centro\\n4.1',\n",
       "       'comScore\\n2.5', 'Genesis Research\\n5.0', 'SullivanCotter\\n4.2',\n",
       "       'NPD\\n3.9', 'Bakery Agency\\n4.3', 'Service Express\\n4.3',\n",
       "       'Rose International\\n4.5',\n",
       "       'Blue Cross & Blue Shield of Rhode Island\\n3.4', 'Boys Town\\n3.8',\n",
       "       'The HSC Health Care System\\n3.3', 'Pro-Sphere Tek\\n3.4',\n",
       "       'Ameritas Life Insurance Corp\\n3.0', 'Genworth\\n3.7', '605\\n5.0',\n",
       "       'Trace Data\\n3.9', 'Clearwater Analytics\\n4.2', 'NS8\\n5.0',\n",
       "       'Tekvalley, Corp.\\n4.0', 'SmartNews, Inc.\\n4.6',\n",
       "       'BWX Technologies\\n3.5', 'Vermeer\\n3.9',\n",
       "       'Cambridge Trust Company\\n3.6', 'Zylotech\\n3.7', 'Redapt\\n3.6',\n",
       "       'L&T Infotech\\n3.5', 'OceanFirst Financial\\n4.3',\n",
       "       'Northpointe Bank\\n4.7', \"Sotheby's\\n3.6\",\n",
       "       'Vanda Pharmaceuticals\\n2.3', 'CK-12 Foundation\\n4.1',\n",
       "       'Opinion Dynamics\\n4.2', 'Applied Information Sciences\\n4.6',\n",
       "       'PM2CM', 'WK Dickson\\n4.4', 'Freedman Healthcare\\n5.0',\n",
       "       'Randstad\\n3.6', 'Southwest Research Institute\\n3.9', 'Muso',\n",
       "       'CyberCoders\\n4.2', 'The Integer Group\\n2.2',\n",
       "       'McCarthy Building Co\\n4.3', 'SciPlay\\n4.0', 'GovTech\\n3.6',\n",
       "       'Samba TV\\n3.3', 'SV Microwave\\n3.4', 'Sumo Logic\\n3.8',\n",
       "       'EAB\\n3.5', 'Brighthouse Financial\\n3.5',\n",
       "       'Monte Rosa Therapeutics', 'Citadel Federal Credit Union\\n3.9',\n",
       "       'CALIBRE Systems\\n3.7', 'Motorola Solutions\\n3.7',\n",
       "       'Reynolds American\\n3.1', 'Infosys\\n3.0',\n",
       "       'Alignment Healthcare\\n3.5', 'FrankCrum Staffing\\n3.3',\n",
       "       'Cboe Global Markets\\n3.7', 'Guidepoint\\n3.2',\n",
       "       'Cerus Corporation\\n2.1', 'Vail Health\\n3.7',\n",
       "       'Qualifacts Systems, Inc.\\n3.1', 'Sterling National Bank\\n2.7',\n",
       "       'AstraZeneca\\n3.9', 'MathWorks\\n4.4', 'MetroStar Systems\\n3.4',\n",
       "       'NJF Global Holdings\\n4.1', 'Audentes Therapeutics\\n2.9',\n",
       "       'National Interstate\\n3.3', 'Moser Consulting\\n4.5',\n",
       "       'Mcphail Associates\\n3.3', 'Crown Bioscience\\n2.4', 'HOVER\\n4.8',\n",
       "       'Q2 Solutions\\n2.9', 'Arbella Insurance\\n3.4', 'Kronos Bio',\n",
       "       'IGNW\\n4.8', 'Health Union\\n4.8', 'Associated Banc-Corp\\n3.8',\n",
       "       'Shine Systems\\n3.6', 'Genesys\\n4.3', 'Moda Operandi\\n1.9',\n",
       "       'QK\\n4.7', 'Santander\\n3.1', 'Tivity Health\\n3.4', 'BRMi\\n4.4',\n",
       "       'Luminar Technologies\\n3.9', 'Emtec, Inc.\\n3.9',\n",
       "       'Veterans United Home Loans\\n4.7', 'Praetorian\\n4.7',\n",
       "       'Agios Pharmaceuticals\\n3.8', 'Meridian Technologies, Inc\\n4.0',\n",
       "       'Orange Coast Memorial Medical Center\\n3.4', 'Glassdoor\\n4.0',\n",
       "       'Assurant\\n3.4', 'F&G\\n3.7',\n",
       "       'Collinwood Technology Partners, LLC\\n4.7',\n",
       "       'Homology Medicines, Inc.\\n4.4', 'FHLBank Pittsburgh\\n3.7',\n",
       "       'Sanofi\\n3.7', 'GreatAmerica Financial Services\\n4.6',\n",
       "       'Acceleron Pharma\\n4.4', 'AmeriHealth Caritas\\n3.0',\n",
       "       'Strategic Employment Partners\\n4.7',\n",
       "       'Catholic Health Initiatives\\n3.2', 'FLEETCOR\\n2.7',\n",
       "       'Applied Research Laboratories\\n3.7', 'Raytheon\\n3.7',\n",
       "       'OneThree Biotech', 'RTI International\\n4.3', 'TRANZACT\\n3.6',\n",
       "       'United BioSource\\n2.1', 'Figure Eight\\n3.9',\n",
       "       'Senti Biosciences\\n5.0', 'Royce Geospatial\\n5.0', 'Citi\\n3.6',\n",
       "       'Sage Intacct\\n4.7', 'Scale AI\\n3.5', 'Delphi-US\\n3.6',\n",
       "       'Astreya\\n3.4', 'Change Healthcare\\n2.7', 'MZ\\n3.4',\n",
       "       'HG Insights\\n4.7', '1-800-FLOWERS.COM, Inc.\\n2.8',\n",
       "       'CBS Interactive\\n3.5', 'Samsung Research America\\n3.7',\n",
       "       'Cuboid IT Solutions\\n3.9', 'Pyramid Consulting, Inc.\\n3.9',\n",
       "       'Lorven Technologies Inc\\n4.0', 'CareDx\\n2.5', 'Serigor Inc.\\n3.9',\n",
       "       'Leidos\\n3.4', 'Beckman Coulter Diagnostics\\n3.6',\n",
       "       'IHS Markit\\n3.5', 'ALIN', 'e-IT Professionals Corp.\\n3.5',\n",
       "       'TechProjects\\n4.8', 'Biz2Credit Inc\\n4.0', 'PeoplesBank\\n4.2',\n",
       "       'Capgemini\\n3.8', 'GNY Insurance Companies\\n3.7', 'Watchful\\n4.4',\n",
       "       'Quality Consulting Group\\n5.0', 'Conch Technologies, Inc\\n4.6',\n",
       "       'Medidata Solutions\\n4.3', 'Healthfirst\\n2.9',\n",
       "       'Quartet Health\\n3.9', 'Success Academy Charter Schools\\n3.1',\n",
       "       'CompuForce', 'AXION Healthcare Solutions\\n3.6', 'WeRide.ai',\n",
       "       'ExecOnline\\n4.2', 'ODSC Hiring Partner', 'Mteq\\n4.0',\n",
       "       'Brillient\\n3.7', 'Entefy\\n4.4', 'Point72 Ventures', 'Trace3\\n3.4',\n",
       "       'Saama Technologies Inc\\n3.5', 'Two Sigma\\n4.4',\n",
       "       'Strategic Financial Solutions\\n4.0',\n",
       "       'Remedy BPCI Partners, LLC.\\n3.4', 'The Climate Corporation\\n3.2',\n",
       "       'Crossix Solutions\\n3.5', 'GSK\\n3.9', 'Factual\\n4.3',\n",
       "       'TriNet\\n3.3', 'Signpost\\n3.9', 'Adobe\\n4.0',\n",
       "       'UPM Pharmaceutical Inc\\n2.3', 'Equian LLC\\n3.2',\n",
       "       'Information Builders\\n3.2', 'Greenway Health\\n3.0',\n",
       "       'Confluent\\n4.7', 'Life360\\n3.9', 'IQVIA\\n3.6',\n",
       "       'Riverside Research Institute\\n3.6',\n",
       "       'Icon Health and Fitness\\n3.1', 'Shipt\\n3.8', 'PACT Pharma\\n3.5',\n",
       "       'Job Juncture\\n4.7', 'IntraEdge\\n3.4', 'COUNTRY Financial\\n3.8',\n",
       "       'Mentor Graphics\\n4.1', 'Maxar Technologies\\n3.7',\n",
       "       'ICW Group\\n2.8', 'Exelixis\\n3.0', 'Grand Rounds\\n4.2',\n",
       "       'SPINS, LLC\\n3.5', 'DTCC\\n3.3', \"Macy's\\n3.2\", 'SafeGraph\\n4.4',\n",
       "       'Carilion Clinic\\n3.7', 'DoubleVerify\\n3.2',\n",
       "       'Mitsubishi Electric Research Labs\\n4.6',\n",
       "       'Rodan and Fields, LLC\\n2.2', 'Oportun. Inc\\n3.8', 'DESC\\n3.4',\n",
       "       'Johns Hopkins Health Care\\n3.3',\n",
       "       'Community Behavioral Health\\n3.7', 'FORMA THERAPEUTICS\\n3.8',\n",
       "       'Bridg\\n2.7', 'Charter Spectrum\\n3.5',\n",
       "       'Two95 International Inc.\\n4.0', 'Vbeyond Corporation\\n4.4',\n",
       "       'Adyen N.V.', 'Technosoft Corporation\\n3.5', 'CompQsoft\\n3.4',\n",
       "       'SentiLink', 'GA Telesis\\n3.8', 'Solugenix Corporation\\n4.3',\n",
       "       'West Coast University\\n2.6', 'SoftBank Robotics\\n3.8',\n",
       "       'Mathematica Policy Research\\n3.3', 'Eliassen Group\\n4.5',\n",
       "       'Edison Software, Inc.\\n5.0', 'SkySync\\n5.0',\n",
       "       'ConsultNet, LLC\\n4.3', 'DatamanUSA, LLC\\n3.4',\n",
       "       'HireResources a Tailored Solutions Company (WO)\\n5.0',\n",
       "       'Jobot\\n5.0', 'Creative Circle, LLC\\n3.6',\n",
       "       'GTN Technical Staffing\\n4.2', 'Steel Point Solutions, LLC\\n4.7',\n",
       "       'Miracle Software Systems\\n3.3', '23andMe\\n4.0', 'Fivestars\\n3.9'],\n",
       "      dtype=object)"
      ]
     },
     "execution_count": 21,
     "metadata": {},
     "output_type": "execute_result"
    }
   ],
   "source": [
    "data['Company Name'].unique()"
   ]
  },
  {
   "cell_type": "markdown",
   "metadata": {},
   "source": [
    "Note that there are new line characters and rating after the company name. We are removing it."
   ]
  },
  {
   "cell_type": "code",
   "execution_count": 22,
   "metadata": {},
   "outputs": [
    {
     "data": {
      "text/plain": [
       "'Tecolote Research'"
      ]
     },
     "execution_count": 22,
     "metadata": {},
     "output_type": "execute_result"
    }
   ],
   "source": [
    "data['Company Name'][0].split('\\n')[0]"
   ]
  },
  {
   "cell_type": "code",
   "execution_count": 23,
   "metadata": {},
   "outputs": [
    {
     "data": {
      "text/plain": [
       "Novartis                          14\n",
       "MassMutual                        14\n",
       "Takeda Pharmaceuticals            14\n",
       "Reynolds American                 14\n",
       "Software Engineering Institute    13\n",
       "                                  ..\n",
       "Systems Evolution Inc.             1\n",
       "Centro                             1\n",
       "comScore                           1\n",
       "Genesis Research                   1\n",
       "Fivestars                          1\n",
       "Name: Company Name, Length: 448, dtype: int64"
      ]
     },
     "execution_count": 23,
     "metadata": {},
     "output_type": "execute_result"
    }
   ],
   "source": [
    "# remove numbers from company name\n",
    "data['Company Name'] = data['Company Name'].apply(lambda x : x.split(\"\\n\")[0])\n",
    "data['Company Name'].value_counts()"
   ]
  },
  {
   "cell_type": "markdown",
   "metadata": {},
   "source": [
    "### Head quarters Handling"
   ]
  },
  {
   "cell_type": "code",
   "execution_count": 24,
   "metadata": {},
   "outputs": [
    {
     "data": {
      "text/plain": [
       "array(['Goleta, CA', 'Baltimore, MD', 'Clearwater, FL', 'Richland, WA',\n",
       "       'New York, NY', 'Dallas, TX', 'Seattle, WA', 'Rochester, NY',\n",
       "       'San Francisco, CA', 'Herndon, VA', 'Bentonville, AR',\n",
       "       'OSAKA, Japan', 'Newark, NJ', 'Cambridge, MA', 'Mountain View, CA',\n",
       "       'Denver, CO', 'New Plymouth, ID', 'Peachtree City, GA',\n",
       "       'Mc Lean, VA', 'San Jose, CA', 'Worcester, MA', 'Detroit, MI',\n",
       "       'Basel, Switzerland', 'Sunnyvale, CA', 'Ipswich, MA',\n",
       "       'Chicago, IL', 'Redlands, CA', 'Woburn, MA', 'Gottingen, Germany',\n",
       "       'Long Beach, NY', 'Lowell, MA', 'Shelton, CT', 'Alexandria, VA',\n",
       "       'Foster City, CA', 'Omaha, NE', 'Chantilly, VA', 'Deerfield, IL',\n",
       "       'London, United Kingdom', 'Fort Lauderdale, FL', 'Boston, MA',\n",
       "       'Huntsville, AL', 'Zurich, Switzerland', 'Falls Church, VA',\n",
       "       'Santa Clara, CA', 'Saint Louis, MO', 'Lincoln, RI',\n",
       "       'Cincinnati, OH', 'Palo Alto, CA', 'Coraopolis, PA',\n",
       "       'Framingham, MA', 'Atlanta, GA', 'Holmdel, NJ', 'Chadds Ford, PA',\n",
       "       'Pleasanton, CA', 'Lake Forest, IL', 'San Diego, CA', 'Reston, VA',\n",
       "       'Louvain-la-Neuve, Belgium', 'Beijing, China', 'Harrisburg, PA',\n",
       "       'Laurel, MD', 'Arlington, VA', 'Tacoma, WA', 'Miami, FL',\n",
       "       'New Orleans, LA', 'Park Ridge, IL', 'Vienna, VA', 'Fairfax, VA',\n",
       "       'Bedford, MA', 'Silver Spring, MD', 'South San Francisco, CA',\n",
       "       'Syracuse, NY', 'Gainesville, FL', 'Washington, DC',\n",
       "       'Richmond, VA', 'Pompano Beach, FL', 'Rochester, MN',\n",
       "       'Phoenix, AZ', 'Lyndhurst, NJ', 'San Rafael, CA', 'Atlanta, IN',\n",
       "       'Rockville, MD', 'Minneapolis, MN', 'Santa Barbara, CA',\n",
       "       'Bethesda, MD', 'Los Angeles, CA', 'Fort Mill, SC', 'Decatur, AL',\n",
       "       'Santa Fe Springs, CA', 'Kansas City, MO', 'Fort Worth, TX',\n",
       "       'West Hills, CA', 'Aurora, CO', 'Waltham, MA', 'Camarillo, CA',\n",
       "       'Salt Lake City, UT', 'Pittsburgh, PA', 'Tempe, AZ',\n",
       "       'Chattanooga, TN', 'Indianapolis, IN', 'Ewing, NJ',\n",
       "       'Springfield, MA', 'Frederick, MD', 'Marlborough, MA',\n",
       "       'Newport Beach, CA', 'Reading, PA', 'Madison, WI',\n",
       "       'Winter Park, FL', 'Hamilton, NJ', 'Fremont, CA', 'Lewes, DE',\n",
       "       'Hamilton, Bermuda', 'Springfield, MO', 'Austin, TX',\n",
       "       'Westlake Village, CA', 'Burbank, CA', 'Newton, MA',\n",
       "       'Annapolis Junction, MD', 'Campbell, CA', 'Carlsbad, CA',\n",
       "       'Highland, CA', 'Arlington, TX', 'Flower Mound, TX',\n",
       "       'Scotts Valley, CA', 'Knoxville, TN', 'Milwaukee, WI',\n",
       "       'Sheboygan, WI', 'Seoul, South Korea', 'Dayton, OH',\n",
       "       'San Luis Obispo, CA', 'Akron, OH', 'Cherry Hill, NJ',\n",
       "       'Anchorage, AK', 'Lincoln, NE', 'Hoboken, NJ',\n",
       "       'Port Washington, NY', 'Grand Rapids, MI', 'Chesterfield, MO',\n",
       "       'Providence, RI', 'Santa Ana, CA', 'Boise, ID', 'Las Vegas, NV',\n",
       "       'Lynchburg, VA', 'Pella, IA', 'Woodinville, WA', 'Mumbai, India',\n",
       "       'Toms River, NJ', 'Torrance, CA', 'Charlotte, NC',\n",
       "       'San Antonio, TX', 'Irvine, CA', 'Cedar Falls, IA',\n",
       "       'Singapore, Singapore', 'West Palm Beach, FL', 'Redwood City, CA',\n",
       "       '-1', 'Exton, PA', 'Winston-Salem, NC', 'Bengaluru, India',\n",
       "       'Orange, CA', 'Concord, CA', 'Vail, CO', 'Nashville, TN',\n",
       "       'Cambridge, United Kingdom', 'Natick, MA', 'Richfield, OH',\n",
       "       'Morrisville, NC', 'Quincy, MA', 'San Mateo, CA', 'Portland, OR',\n",
       "       'Philadelphia, PA', 'Green Bay, WI', 'Charlottesville, VA',\n",
       "       'Daly City, CA', 'Visalia, CA', 'Madrid, Spain', 'Franklin, TN',\n",
       "       'Orlando, FL', 'Jacksonville, FL', 'Columbia, MO',\n",
       "       'Farmington Hills, MI', 'Fountain Valley, CA', 'Mill Valley, CA',\n",
       "       'Des Moines, IA', 'Schaumburg, IL', 'Paris, France',\n",
       "       'Cedar Rapids, IA', 'Englewood, CO', 'Peachtree Corners, GA',\n",
       "       'Research Triangle Park, NC', 'Fort Lee, NJ', 'Blue Bell, PA',\n",
       "       'Newport, RI', 'Carle Place, NY', 'Alpharetta, GA',\n",
       "       'Plainsboro, NJ', 'Brisbane, CA', 'Brea, CA', 'Noida, India',\n",
       "       'Canton, MI', 'North Brunswick, NJ', 'Holyoke, MA', 'Apopka, FL',\n",
       "       'Guaynabo, PR', 'Memphis, TN', 'Lorton, VA', 'Norwalk, CT',\n",
       "       'Brentford, United Kingdom', 'Dublin, CA', 'Bristol, TN',\n",
       "       'Tampa, FL', 'Durham, NC', 'Logan, UT', 'Birmingham, AL',\n",
       "       'Houston, TX', 'Chandler, AZ', 'Bloomington, IL',\n",
       "       'Wilsonville, OR', 'Westminster, CO', 'Alameda, CA', 'Roanoke, VA',\n",
       "       'San Carlos, CA', 'Phila, PA', 'Watertown, MA',\n",
       "       'North Salt Lake, UT', 'Hillsborough, NJ', 'Southfield, MI',\n",
       "       'Princeton, NJ', 'Reading, MA', 'Ann Arbor, MI',\n",
       "       'South Jordan, UT', 'Centennial, CO', 'Monroe, CT',\n",
       "       'Calverton, MD', 'Novi, MI'], dtype=object)"
      ]
     },
     "execution_count": 24,
     "metadata": {},
     "output_type": "execute_result"
    }
   ],
   "source": [
    "data['Headquarters'].unique()"
   ]
  },
  {
   "cell_type": "markdown",
   "metadata": {},
   "source": [
    "We can extract the most common state and the count"
   ]
  },
  {
   "cell_type": "code",
   "execution_count": 25,
   "metadata": {},
   "outputs": [
    {
     "data": {
      "text/plain": [
       " CA    223\n",
       " MA    101\n",
       " NY     86\n",
       " VA     72\n",
       " IL     42\n",
       "Name: Hquarters, dtype: int64"
      ]
     },
     "execution_count": 25,
     "metadata": {},
     "output_type": "execute_result"
    }
   ],
   "source": [
    "data['Hquarters'] = data['Headquarters'].str.split(',').str[1]\n",
    "data['Hquarters'].value_counts().head()"
   ]
  },
  {
   "cell_type": "markdown",
   "metadata": {},
   "source": [
    "### Location Handling"
   ]
  },
  {
   "cell_type": "code",
   "execution_count": 26,
   "metadata": {},
   "outputs": [
    {
     "data": {
      "text/plain": [
       "array(['Albuquerque, NM', 'Linthicum, MD', 'Clearwater, FL',\n",
       "       'Richland, WA', 'New York, NY', 'Dallas, TX', 'Baltimore, MD',\n",
       "       'San Jose, CA', 'Rochester, NY', 'Chantilly, VA', 'Plano, TX',\n",
       "       'Seattle, WA', 'Cambridge, MA', 'Newark, NJ', 'Mountain View, CA',\n",
       "       'San Francisco, CA', 'Denver, CO', 'Chicago, IL', 'Louisville, KY',\n",
       "       'Oregon', 'Herndon, VA', 'Hillsboro, OR', 'Worcester, MA',\n",
       "       'Groton, CT', 'Detroit, MI', 'Sunnyvale, CA', 'Ipswich, MA',\n",
       "       'Redlands, CA', 'Woburn, MA', 'Fremont, CA', 'Long Beach, NY',\n",
       "       'Marlborough, MA', 'Allendale, NJ', 'Chandler, AZ',\n",
       "       'Washington, DC', 'Bellevue, WA', 'Longmont, CO',\n",
       "       'Beavercreek, OH', 'Peoria, IL', 'Kingdom, IL',\n",
       "       'Fort Lauderdale, FL', 'Boston, MA', 'Huntsville, AL',\n",
       "       'Armonk, NY', 'San Diego, CA', 'Saint Louis, MO', 'Lincoln, RI',\n",
       "       'Cincinnati, OH', 'Palo Alto, CA', 'Coraopolis, PA',\n",
       "       'Framingham, MA', 'Atlanta, GA', 'New Jersey', 'Philadelphia, PA',\n",
       "       'Vancouver, WA', 'Indianapolis, IN', 'Lake Forest, IL',\n",
       "       'Maryland Heights, MO', 'Charlottesville, VA', 'Pittsburgh, PA',\n",
       "       'Harrisburg, PA', 'Laurel, MD', 'Arlington, VA', 'Tacoma, WA',\n",
       "       'Miami, FL', 'New Orleans, LA', 'Landover, MD',\n",
       "       'Patuxent River, MD', 'Suitland, MD', 'McLean, VA',\n",
       "       'Fort Belvoir, VA', 'Milwaukee, WI', 'Silver Spring, MD',\n",
       "       'South San Francisco, CA', 'Syracuse, NY', 'Gainesville, FL',\n",
       "       'Virginia', 'Houston, TX', 'Charlotte, NC', 'Southfield, MI',\n",
       "       'Matawan, NJ', 'Rochester, MN', 'Phoenix, AZ', 'Omaha, NE',\n",
       "       'Lyndhurst, NJ', 'Atlanta, IN', 'Rockville, MD', 'Minneapolis, MN',\n",
       "       'Santa Barbara, CA', 'Bethesda, MD', 'Los Angeles, CA',\n",
       "       'Alabaster, AL', 'Mount Olive, NJ',\n",
       "       'Santa Fe Springs, Los Angeles, CA', 'Kansas City, MO',\n",
       "       'Ashburn, VA', 'Fort Worth, TX', 'Valencia, CA', 'Novato, CA',\n",
       "       'Reston, VA', 'Aurora, CO', 'Waltham, MA', 'Tampa, FL',\n",
       "       'Camarillo, CA', 'Riverton, UT', 'Chattanooga, TN', 'Milpitas, CA',\n",
       "       'Ewing, NJ', 'Cupertino, CA', 'Alexandria, VA', 'Frederick, MD',\n",
       "       'Fort Lee, NJ', 'West Reading, PA', 'Madison, WI', 'Dearborn, MI',\n",
       "       'Winter Park, FL', 'San Rafael, CA', 'Hamilton, NJ',\n",
       "       'Woodbridge, NJ', 'Lewes, DE', 'Springfield, MO', 'Burbank, CA',\n",
       "       'Newton, MA', 'Salt Lake City, UT', 'Lafayette, LA',\n",
       "       'Annapolis Junction, MD', 'Carlsbad, CA', 'Highland, CA',\n",
       "       'Burleson, TX', 'Hoopeston, IL', 'Georgia Southern, GA',\n",
       "       'Scotts Valley, CA', 'Knoxville, TN', 'Millville, DE',\n",
       "       'Sheboygan, WI', 'San Mateo, CA', 'Dayton, OH', 'Parlier, CA',\n",
       "       'Meridian, ID', 'Cherry Hill, NJ', 'Columbia, MD', 'Anchorage, AK',\n",
       "       'Lincoln, NE', 'Nashville, TN', 'Portland, OR', 'Hoboken, NJ',\n",
       "       'Port Washington, NY', 'Austin, TX', 'Grand Rapids, MI',\n",
       "       'Creve Coeur, MO', 'United States', 'Providence, RI',\n",
       "       'Raleigh, NC', 'Phila, PA', 'Oakland, CA', 'Bloomington, MN',\n",
       "       'Boise, ID', 'Oak Ridge, TN', 'Agoura Hills, CA', 'Pella, IA',\n",
       "       'Burlington, MA', 'Woodinville, WA', 'San Ramon, CA',\n",
       "       'Red Bank, NJ', 'Pomona, CA', 'Columbia, SC', 'Springfield, MA',\n",
       "       'San Antonio, TX', 'Portsmouth, VA', 'West Palm Beach, FL',\n",
       "       'Newark, CA', 'Exton, PA', 'Owensboro, KY', 'Hartford, CT',\n",
       "       'Orange, CA', 'Tallahassee, FL', 'Lenexa, KS', 'Concord, CA',\n",
       "       'Vail, CO', 'Dulles, VA', 'Natick, MA', 'Winston-Salem, NC',\n",
       "       'Richfield, OH', 'Hampton, VA', 'Ithaca, NY', 'Marietta, GA',\n",
       "       'Quincy, MA', 'Green Bay, WI', 'Durham, NC', 'Clovis, CA',\n",
       "       'Orlando, FL', 'Columbia, MO', 'Fountain Valley, CA',\n",
       "       'Westlake, OH', 'Des Moines, IA', 'Bedford, MA',\n",
       "       'Cedar Rapids, IA', 'Blue Bell, PA', 'Springfield, VA',\n",
       "       'Jersey City, NJ', 'Emeryville, CA', 'Carle Place, NY',\n",
       "       'King of Prussia, PA', 'Santa Clara, CA', 'Piscataway, NJ',\n",
       "       'Brisbane, CA', 'Foster City, CA', 'Holyoke, MA', 'Juncos, PR',\n",
       "       'Corvallis, OR', 'Gaithersburg, MD', 'Aliso Viejo, CA',\n",
       "       'Dublin, CA', 'Bristol, TN', 'Arvada, CO', 'Franklin, TN',\n",
       "       'Plymouth Meeting, PA', 'Allentown, PA', 'Logan, UT',\n",
       "       'Birmingham, AL', 'Scottsdale, AZ', 'Bloomington, IL',\n",
       "       'Alameda, CA', 'Johns Creek, GA', 'Roanoke, VA', 'Maryland',\n",
       "       'Glen Burnie, MD', 'Watertown, MA', 'Cambridge, MD',\n",
       "       'Amsterdam, NY', 'Irvine, CA', 'Ann Arbor, MI', 'Sandy, UT',\n",
       "       'Olympia, WA', 'Richmond, VA', 'Tempe, AZ', 'Michigan'],\n",
       "      dtype=object)"
      ]
     },
     "execution_count": 26,
     "metadata": {},
     "output_type": "execute_result"
    }
   ],
   "source": [
    "data['Location'].unique()"
   ]
  },
  {
   "cell_type": "code",
   "execution_count": 27,
   "metadata": {},
   "outputs": [
    {
     "data": {
      "text/plain": [
       " CA    210\n",
       " MA    124\n",
       " NY     96\n",
       " VA     56\n",
       " IL     48\n",
       "Name: loaction spots, dtype: int64"
      ]
     },
     "execution_count": 27,
     "metadata": {},
     "output_type": "execute_result"
    }
   ],
   "source": [
    "\n",
    "data['loaction spots'] = data['Location'].str.split(',').str[1]\n",
    "data['loaction spots'].value_counts().head()"
   ]
  },
  {
   "cell_type": "markdown",
   "metadata": {},
   "source": [
    "### Competitors Handling"
   ]
  },
  {
   "cell_type": "code",
   "execution_count": 28,
   "metadata": {},
   "outputs": [
    {
     "data": {
      "text/plain": [
       "array(['-1',\n",
       "       'Oak Ridge National Laboratory, National Renewable Energy Lab, Los Alamos National Laboratory',\n",
       "       'Commerce Signals, Cardlytics, Yodlee',\n",
       "       'Digital Realty, CoreSite, Equinix', 'Clicktripz, SmarterTravel',\n",
       "       'Target, Costco Wholesale, Amazon', 'Novartis, Baxter, Pfizer',\n",
       "       'bluebird bio, Agios Pharmaceuticals, Celgene',\n",
       "       \"Angie's List, HomeAdvisor, Thumbtack\",\n",
       "       'Leidos, CACI International, Booz Allen Hamilton',\n",
       "       'Thermo Fisher Scientific, Enzymatics, Illumina', 'Pitney Bowes',\n",
       "       'BrowserStack, Selenium Master, Perfecto Mobile',\n",
       "       'Unilever, Procter & Gamble, Henkel',\n",
       "       'UDR, AvalonBay Communities, Essex Property Trust',\n",
       "       'American Express, Mastercard, Discover',\n",
       "       'TASC, Vencore, Booz Allen Hamilton',\n",
       "       'John Deere, Komatsu, CNH Industrial',\n",
       "       'Travelers, Allstate, State Farm', 'Munich Re, Hannover RE, SCOR',\n",
       "       'Skyhigh Networks, Zscaler, NortonLifeLock',\n",
       "       'Slalom, Daugherty Business Solutions',\n",
       "       \"REI, Academy Sports + Outdoors, Cabela's\",\n",
       "       'IDEO, Gongos, Inc., Ipsos',\n",
       "       'ManTech, Booz Allen Hamilton, Leidos',\n",
       "       'Lhoist, Graymont, Sibelco Group', 'Infosys, EPAM, Accenture',\n",
       "       'MIT Lincoln Laboratory, Lockheed Martin, Northrop Grumman',\n",
       "       'Numerator, Rise Interactive, Salom',\n",
       "       'Bristol-Myers Squibb, Merck, GlaxoSmithKline',\n",
       "       'SAIC, Leidos, Northrop Grumman',\n",
       "       'Battelle, General Atomics, SAIC',\n",
       "       'MCNA Dental Plans, United Concordia, Delta Dental Plans Association',\n",
       "       'COPS Monitoring, National Monitoring Center, Affiliated Monitoring',\n",
       "       'General Assembly, Kaplan University, Ironhack',\n",
       "       'Advisory Board, Booz Allen Hamilton, McKinsey & Company',\n",
       "       'Accenture, North Highland, Deloitte',\n",
       "       'DataFinch Technologies, Accupoint Software Solution, CodeMetro',\n",
       "       \"Nebraska Medicine, Children's Hospital & Medical Center, Methodist Health System - NE and IA\",\n",
       "       'Engagio, Bombora, Terminus', 'Zocdoc, Healthgrades',\n",
       "       'Solution Design Group, Intertech (Minnesota)',\n",
       "       'Frog Street Press, Scholastic',\n",
       "       'Health Net, Kaiser Permanente, Molina Healthcare',\n",
       "       'Clearlink, Credit Karma, LendingTree',\n",
       "       'USAA, Navy Federal Credit Union, Raymond James Financial',\n",
       "       \"The Nature's Bounty Co., Schiff Nutrition International\",\n",
       "       'Genentech, Ultragenyx Pharmaceutical, Gilead Sciences',\n",
       "       'McKinsey & Company, Accenture, Deloitte',\n",
       "       'Ecolab, Eurofin Private Investment Office',\n",
       "       'Greystar, The Related Companies, Prometheus Real Estate Group',\n",
       "       'Slalom, Cognizant Technology Solutions, Deloitte',\n",
       "       'Outcome Health, Health Media Network, Mesmerize Marketing',\n",
       "       'CDW, PCM, SHI International', 'Seagate Technology, Toshiba',\n",
       "       'CSC, ManTech, SAIC', 'Shire, GlaxoSmithKline, Allergan',\n",
       "       'Ellucian, Parchment, College Board', 'Linqia, Collective Bias',\n",
       "       'Arbella Insurance, Safety Insurance',\n",
       "       'Nationstar Mortgage, Caliber Funding, Quicken Loans',\n",
       "       'Torch Technologies, American Systems', 'FLURRY, Chartboost',\n",
       "       'Credit Karma, LendUp, SoFi',\n",
       "       \"TravelCenters of America, Love's Travel Stops & Country Stores, Wawa\",\n",
       "       'C.H. Robinson, Total Quality Logistics, Coyote Logistics',\n",
       "       'Boeing, Northrop Grumman, Raytheon',\n",
       "       'Expedia Group, Orbitz Worldwide, Priceline.com',\n",
       "       'Blizzard Entertainment, Riot Games, Electronic Arts',\n",
       "       'Old Dominion Freight, Pitt Ohio Express',\n",
       "       'See Tickets, TicketWeb, Vendini',\n",
       "       'Mediaocean, The Trade Desk, MediaMath',\n",
       "       'Nielsen, Hitwise, Coremetrics',\n",
       "       'Mercer, Korn Ferry, Integrated Healthcare Strategies',\n",
       "       'UnitedHealth Group',\n",
       "       'Boys & Girls Clubs of America, AdoptUSKids, Foster Care to Success',\n",
       "       'MetLife, Northwestern Mutual, Prudential',\n",
       "       'Caterpillar, John Deere, CNH Industrial',\n",
       "       'Infosys, Accenture, Capgemini',\n",
       "       'McKim and Creed, CDM Smith, Kimley-Horn',\n",
       "       'Los Alamos National Laboratory, Battelle, SRI International',\n",
       "       'Geometry Global, TracyLocke, Saatchi & Saatchi X',\n",
       "       'Splunk, Datadog, Elastic',\n",
       "       'TruMark Financial, North Island Credit Union, CommunityAmerica Credit Union',\n",
       "       'CSC, Booz Allen Hamilton, ManTech',\n",
       "       'Cisco Systems, Huawei Technologies, IBM',\n",
       "       'Tata Consultancy Services, Accenture, Cognizant Technology Solutions',\n",
       "       'Coleman Research, AlphaSights, Third Bridge', 'Netsmart',\n",
       "       'J.P. Morgan, New York Community Bancorp, Citi',\n",
       "       'Roche, GlaxoSmithKline, Novartis',\n",
       "       'BioMarin Pharmaceutical, Sangamo Therapeutics, bluebird bio',\n",
       "       'Slalom', 'Wells Fargo, BMO Harris Bank, U.S. Bank',\n",
       "       'Avaya, Five9, Salesforce',\n",
       "       'YOOX NET-A-PORTER GROUP, Farfetch, MATCHESFASHION',\n",
       "       \"St. Joseph Health System, Cedars-Sinai Medical Center, Children's Hospital Los Angeles\",\n",
       "       'Indeed, LinkedIn',\n",
       "       'Asurion, SquareTrade, National General Insurance',\n",
       "       'SPR, MATRIX Resources, NueVista', 'Pfizer, GlaxoSmithKline',\n",
       "       'UnitedHealth Group, Molina Healthcare, Centene',\n",
       "       'Dignity Health, Trinity Health',\n",
       "       'Westat, Abt Associates, Chemonics International', 'Covance, ICON',\n",
       "       'Milestone Technologies, Taos, GDH Consulting',\n",
       "       'NBCUniversal, Comcast, Netflix', 'Sony, LG Electronics, Nokia',\n",
       "       'TEKsystems, Collabera, Artech Information Systems', 'Sequenom',\n",
       "       'Abbott Laboratories, Roche, Thermo Fisher Scientific',\n",
       "       'Thomson Reuters, International Data Group',\n",
       "       'Fundera, Bond Street, OnDeck', 'Accenture, CGI, Sopra Steria',\n",
       "       'Travelers, Chubb, Crum & Forster',\n",
       "       'Ultimate Solutions, Flexible & Integrated Technical Services, Mentor Technical Group',\n",
       "       'Oracle', 'EmblemHealth, UnitedHealth Group, Aetna',\n",
       "       'The Execu|Search Group, Prime Staffing',\n",
       "       'Harvard Business School, Coursera, edX', 'Harris, Fibertek',\n",
       "       'World Wide Technology, Presidio, Optiv',\n",
       "       'Accenture, Deloitte, IBM',\n",
       "       'National Debt Relief, Freedom Financial Network',\n",
       "       'Healthfirst (New York), naviHealth',\n",
       "       'Granular, Intuit, John Deere', 'Pfizer, AstraZeneca, Merck',\n",
       "       'Foursquare', 'Paychex, Insperity, ADP', 'Apple, Microsoft',\n",
       "       'Qlik, Tableau Software, Informatica',\n",
       "       'eClinicalWorks, NextGen Healthcare, athenahealth',\n",
       "       'PPD, INC Research, PRA Health Sciences',\n",
       "       'Life Fitness, Brooks Running, Under Armour',\n",
       "       'Northwestern Mutual, American Family Insurance, MetLife',\n",
       "       'Cadence Design Systems, Synopsys, Altium Limited',\n",
       "       'Liberty Mutual Insurance, EMPLOYERS, Travelers',\n",
       "       'Genentech, Novartis, AstraZeneca',\n",
       "       \"Dillard's, J. C. Penney, Nordstrom\", 'Google, Amazon, NVIDIA',\n",
       "       'LendingClub, SoFi, Capital One',\n",
       "       'MedStar Health, University of Maryland Medical Center, LifeBridge Health',\n",
       "       'AAR, HEICO, AerSale', 'TEKsystems, Kforce, Randstad US',\n",
       "       'Aquent, 24 Seven Talent',\n",
       "       'MATRIX Resources, The Insource Group, TEKsystems', 'CSC, IBM',\n",
       "       'Ancestry, Verily Life Sciences, Abbott Laboratories',\n",
       "       'Belly, SpotOn'], dtype=object)"
      ]
     },
     "execution_count": 28,
     "metadata": {},
     "output_type": "execute_result"
    }
   ],
   "source": [
    "data['Competitors'].unique()"
   ]
  },
  {
   "cell_type": "code",
   "execution_count": 29,
   "metadata": {},
   "outputs": [],
   "source": [
    "data['competitor company'] = data['Competitors'].str.split(',').str[0].replace('-1', 'no competitor')"
   ]
  },
  {
   "cell_type": "code",
   "execution_count": 30,
   "metadata": {},
   "outputs": [
    {
     "data": {
      "text/plain": [
       "no competitor                    634\n",
       "Novartis                          14\n",
       "Oak Ridge National Laboratory     12\n",
       "Travelers                         11\n",
       "Roche                              9\n",
       "                                ... \n",
       "Greystar                           1\n",
       "Ecolab                             1\n",
       "USAA                               1\n",
       "Clearlink                          1\n",
       "Belly                              1\n",
       "Name: competitor company, Length: 137, dtype: int64"
      ]
     },
     "execution_count": 30,
     "metadata": {},
     "output_type": "execute_result"
    }
   ],
   "source": [
    "\n",
    "data['competitor company'].value_counts()"
   ]
  },
  {
   "cell_type": "markdown",
   "metadata": {},
   "source": [
    "The majoring of the values in competitor field says 'no competitor'. This concludes that the feature is less significant "
   ]
  },
  {
   "cell_type": "markdown",
   "metadata": {},
   "source": [
    "### Type of ownership Handling"
   ]
  },
  {
   "cell_type": "code",
   "execution_count": 31,
   "metadata": {},
   "outputs": [
    {
     "data": {
      "text/plain": [
       "array(['Company - Private', 'Other Organization', 'Government',\n",
       "       'Company - Public', 'Hospital', 'Subsidiary or Business Segment',\n",
       "       'Nonprofit Organization', 'Contract', 'Unknown',\n",
       "       'College / University', 'Private Practice / Firm', '-1',\n",
       "       'School / School District'], dtype=object)"
      ]
     },
     "execution_count": 31,
     "metadata": {},
     "output_type": "execute_result"
    }
   ],
   "source": [
    "data['Type of ownership'].unique()"
   ]
  },
  {
   "cell_type": "code",
   "execution_count": 32,
   "metadata": {},
   "outputs": [
    {
     "data": {
      "text/plain": [
       " Private    532\n",
       " Public     237\n",
       "others      176\n",
       "1            11\n",
       "Name: Ownership, dtype: int64"
      ]
     },
     "execution_count": 32,
     "metadata": {},
     "output_type": "execute_result"
    }
   ],
   "source": [
    "\n",
    "data['Ownership'] = data['Type of ownership'].str.split('-').str[1].replace(np.NaN, 'others')\n",
    "data['Ownership'].value_counts()"
   ]
  },
  {
   "cell_type": "markdown",
   "metadata": {},
   "source": [
    "### Revenue Handling"
   ]
  },
  {
   "cell_type": "code",
   "execution_count": 33,
   "metadata": {},
   "outputs": [
    {
     "data": {
      "text/plain": [
       "array(['$50 to $100 million (USD)', '$2 to $5 billion (USD)',\n",
       "       '$100 to $500 million (USD)', '$500 million to $1 billion (USD)',\n",
       "       'Unknown / Non-Applicable', '$1 to $2 billion (USD)',\n",
       "       '$25 to $50 million (USD)', '$10+ billion (USD)',\n",
       "       '$1 to $5 million (USD)', '$10 to $25 million (USD)',\n",
       "       '$5 to $10 billion (USD)', 'Less than $1 million (USD)',\n",
       "       '$5 to $10 million (USD)', '-1'], dtype=object)"
      ]
     },
     "execution_count": 33,
     "metadata": {},
     "output_type": "execute_result"
    }
   ],
   "source": [
    "data['Revenue'].unique()"
   ]
  },
  {
   "cell_type": "code",
   "execution_count": 34,
   "metadata": {},
   "outputs": [],
   "source": [
    "data['Revenue'] = data['Revenue'].str.replace('-1','others')"
   ]
  },
  {
   "cell_type": "code",
   "execution_count": 35,
   "metadata": {},
   "outputs": [
    {
     "data": {
      "text/plain": [
       "Unknown / Non-Applicable            299\n",
       "$10+ billion (USD)                  140\n",
       "$100 to $500 million (USD)          107\n",
       "$1 to $2 billion (USD)               68\n",
       "$500 million to $1 billion (USD)     62\n",
       "$25 to $50 million (USD)             59\n",
       "$50 to $100 million (USD)            52\n",
       "$2 to $5 billion (USD)               44\n",
       "$10 to $25 million (USD)             39\n",
       "$5 to $10 million (USD)              29\n",
       "$5 to $10 billion (USD)              20\n",
       "$1 to $5 million (USD)               17\n",
       "others                               11\n",
       "Less than $1 million (USD)            9\n",
       "Name: Revenue, dtype: int64"
      ]
     },
     "execution_count": 35,
     "metadata": {},
     "output_type": "execute_result"
    }
   ],
   "source": [
    "data['Revenue'].value_counts()"
   ]
  },
  {
   "cell_type": "markdown",
   "metadata": {},
   "source": [
    "### Size Handling"
   ]
  },
  {
   "cell_type": "code",
   "execution_count": 36,
   "metadata": {},
   "outputs": [
    {
     "data": {
      "text/plain": [
       "array(['501 to 1000 employees', '10000+ employees',\n",
       "       '1001 to 5000 employees', '51 to 200 employees',\n",
       "       '201 to 500 employees', '5001 to 10000 employees',\n",
       "       '1 to 50 employees', 'Unknown', '-1'], dtype=object)"
      ]
     },
     "execution_count": 36,
     "metadata": {},
     "output_type": "execute_result"
    }
   ],
   "source": [
    "data['Size'].unique()"
   ]
  },
  {
   "cell_type": "code",
   "execution_count": 37,
   "metadata": {},
   "outputs": [
    {
     "data": {
      "text/plain": [
       "1001 to 5000 employees     177\n",
       "201 to 500 employees       160\n",
       "51 to 200 employees        155\n",
       "10000+ employees           154\n",
       "501 to 1000 employees      144\n",
       "5001 to 10000 employees     79\n",
       "1 to 50 employees           61\n",
       "Unknown                     15\n",
       "others                      11\n",
       "Name: Size, dtype: int64"
      ]
     },
     "execution_count": 37,
     "metadata": {},
     "output_type": "execute_result"
    }
   ],
   "source": [
    "data['Size'] = data['Size'].str.replace('-1','others')\n",
    "data['Size'].value_counts()"
   ]
  },
  {
   "cell_type": "markdown",
   "metadata": {},
   "source": [
    "### Salary estimate Handling"
   ]
  },
  {
   "cell_type": "code",
   "execution_count": 38,
   "metadata": {},
   "outputs": [
    {
     "data": {
      "text/plain": [
       "array(['$53K-$91K (Glassdoor est.)', '$63K-$112K (Glassdoor est.)',\n",
       "       '$80K-$90K (Glassdoor est.)', '$56K-$97K (Glassdoor est.)',\n",
       "       '$86K-$143K (Glassdoor est.)', '$71K-$119K (Glassdoor est.)',\n",
       "       '$54K-$93K (Glassdoor est.)', '$86K-$142K (Glassdoor est.)',\n",
       "       '$38K-$84K (Glassdoor est.)', '$120K-$160K (Glassdoor est.)',\n",
       "       '$126K-$201K (Glassdoor est.)', '$64K-$106K (Glassdoor est.)',\n",
       "       '$106K-$172K (Glassdoor est.)', '$46K-$85K (Glassdoor est.)',\n",
       "       '$83K-$144K (Glassdoor est.)', '$102K-$190K (Glassdoor est.)',\n",
       "       '$67K-$137K (Glassdoor est.)', '$118K-$189K (Glassdoor est.)',\n",
       "       '$110K-$175K (Glassdoor est.)', '$64K-$111K (Glassdoor est.)',\n",
       "       '$81K-$130K (Glassdoor est.)', '$73K-$119K (Glassdoor est.)',\n",
       "       '$86K-$139K (Glassdoor est.)', '$63K-$105K (Glassdoor est.)', '-1',\n",
       "       '$109K-$177K (Glassdoor est.)', '$63K-$110K (Glassdoor est.)',\n",
       "       '$75K-$124K (Glassdoor est.)', '$34K-$61K (Glassdoor est.)',\n",
       "       '$72K-$120K (Glassdoor est.)', '$93K-$149K (Glassdoor est.)',\n",
       "       '$85K-$140K (Glassdoor est.)', '$77K-$135K (Glassdoor est.)',\n",
       "       '$82K-$132K (Glassdoor est.)', '$83K-$137K (Glassdoor est.)',\n",
       "       '$115K-$180K (Glassdoor est.)', '$74K-$138K (Glassdoor est.)',\n",
       "       '$64K-$112K (Glassdoor est.)', '$68K-$129K (Glassdoor est.)',\n",
       "       '$52K-$113K (Glassdoor est.)', '$110K-$150K(Employer est.)',\n",
       "       'Employer Provided Salary:$150K-$160K',\n",
       "       '$158K-$211K (Glassdoor est.)', '$20K-$39K (Glassdoor est.)',\n",
       "       '$56K-$117K (Glassdoor est.)', '$63K-$99K (Glassdoor est.)',\n",
       "       '$68K-$114K (Glassdoor est.)', '$41K-$95K (Glassdoor est.)',\n",
       "       '$86K-$144K (Glassdoor est.)', '$80K-$139K (Glassdoor est.)',\n",
       "       '$56K-$95K (Glassdoor est.)', '$120K-$189K (Glassdoor est.)',\n",
       "       '$111K-$176K (Glassdoor est.)', '$84K-$146K (Glassdoor est.)',\n",
       "       '$107K-$172K (Glassdoor est.)', '$49K-$85K (Glassdoor est.)',\n",
       "       '$61K-$109K (Glassdoor est.)', '$88K-$148K (Glassdoor est.)',\n",
       "       '$60K-$99K (Glassdoor est.)', '$41K-$72K (Glassdoor est.)',\n",
       "       '$96K-$161K (Glassdoor est.)', '$65K-$130K (Glassdoor est.)',\n",
       "       '$52K-$81K (Glassdoor est.)', '$139K-$220K (Glassdoor est.)',\n",
       "       '$50K-$102K (Glassdoor est.)', '$85K-$139K (Glassdoor est.)',\n",
       "       '$74K-$122K (Glassdoor est.)', '$99K-$157K (Glassdoor est.)',\n",
       "       '$79K-$222K (Glassdoor est.)', '$57K-$118K (Glassdoor est.)',\n",
       "       '$86K-$141K (Glassdoor est.)', '$94K-$154K (Glassdoor est.)',\n",
       "       '$37K-$76K (Glassdoor est.)', '$100K-$160K (Glassdoor est.)',\n",
       "       '$55K-$100K (Glassdoor est.)', '$60K-$114K (Glassdoor est.)',\n",
       "       '$39K-$68K (Glassdoor est.)', '$64K-$107K (Glassdoor est.)',\n",
       "       '$31K-$65K (Glassdoor est.)', '$34K-$62K (Glassdoor est.)',\n",
       "       '$117K-$231K (Glassdoor est.)', '$79K-$134K (Glassdoor est.)',\n",
       "       '$52K-$93K (Glassdoor est.)', '$55K-$116K (Glassdoor est.)',\n",
       "       '$72K-$123K (Glassdoor est.)', '$74K-$124K (Glassdoor est.)',\n",
       "       '$40K-$73K (Glassdoor est.)', '$102K-$164K (Glassdoor est.)',\n",
       "       '$89K-$153K (Glassdoor est.)', '$61K-$110K (Glassdoor est.)',\n",
       "       '$65K-$110K (Glassdoor est.)', '$200K-$275K(Employer est.)',\n",
       "       '$68K-$123K (Glassdoor est.)', '$80K-$129K (Glassdoor est.)',\n",
       "       '$39K-$71K (Glassdoor est.)', '$38K-$85K (Glassdoor est.)',\n",
       "       '$121K-$193K (Glassdoor est.)', '$54K-$102K (Glassdoor est.)',\n",
       "       '$102K-$163K (Glassdoor est.)', '$76K-$140K (Glassdoor est.)',\n",
       "       '$60K-$101K (Glassdoor est.)', '$82K-$133K (Glassdoor est.)',\n",
       "       '$65K-$125K (Glassdoor est.)', '$91K-$148K (Glassdoor est.)',\n",
       "       '$95K-$173K (Glassdoor est.)', '$77K-$124K (Glassdoor est.)',\n",
       "       '$80K-$135K (Glassdoor est.)', '$85K-$159K (Glassdoor est.)',\n",
       "       '$80K-$105K(Employer est.)', '$43K-$81K (Glassdoor est.)',\n",
       "       '$29K-$50K (Glassdoor est.)', '$26K-$55K (Glassdoor est.)',\n",
       "       '$61K-$118K (Glassdoor est.)', '$60K-$102K (Glassdoor est.)',\n",
       "       '$112K-$182K (Glassdoor est.)', '$51K-$112K (Glassdoor est.)',\n",
       "       '$113K-$223K (Glassdoor est.)', '$72K-$129K (Glassdoor est.)',\n",
       "       '$71K-$123K (Glassdoor est.)',\n",
       "       'Employer Provided Salary:$120K-$145K',\n",
       "       '$80K-$120K (Glassdoor est.)', '$80K-$130K (Glassdoor est.)',\n",
       "       '$59K-$115K (Glassdoor est.)', '$71K-$136K (Glassdoor est.)',\n",
       "       '$81K-$167K (Glassdoor est.)', '$71K-$204K (Glassdoor est.)',\n",
       "       '$75K-$125K (Glassdoor est.)', '$77K-$136K (Glassdoor est.)',\n",
       "       '$74K-$123K (Glassdoor est.)', '$44K-$78K (Glassdoor est.)',\n",
       "       '$65K-$148K (Glassdoor est.)', '$59K-$110K (Glassdoor est.)',\n",
       "       '$85K-$134K (Glassdoor est.)', '$124K-$204K (Glassdoor est.)',\n",
       "       '$131K-$207K (Glassdoor est.)', '$110K-$174K (Glassdoor est.)',\n",
       "       '$52K-$101K (Glassdoor est.)', '$81K-$133K (Glassdoor est.)',\n",
       "       '$132K-$211K (Glassdoor est.)', '$74K-$140K (Glassdoor est.)',\n",
       "       '$100K-$190K (Glassdoor est.)', '$43K-$80K (Glassdoor est.)',\n",
       "       '$17-$24 Per Hour(Glassdoor est.)', '$91K-$149K (Glassdoor est.)',\n",
       "       '$42K-$82K (Glassdoor est.)', '$116K-$185K (Glassdoor est.)',\n",
       "       '$59K-$116K (Glassdoor est.)', '$48K-$95K (Glassdoor est.)',\n",
       "       '$31K-$72K (Glassdoor est.)', '$105K-$198K (Glassdoor est.)',\n",
       "       '$98K-$182K (Glassdoor est.)', '$73K-$124K (Glassdoor est.)',\n",
       "       'Employer Provided Salary:$200K-$250K',\n",
       "       '$21-$34 Per Hour(Glassdoor est.)', '$117K-$206K (Glassdoor est.)',\n",
       "       '$111K-$183K (Glassdoor est.)', '$81K-$159K (Glassdoor est.)',\n",
       "       '$83K-$166K (Glassdoor est.)', '$114K-$182K (Glassdoor est.)',\n",
       "       '$42K-$76K (Glassdoor est.)', '$114K-$179K (Glassdoor est.)',\n",
       "       '$60K-$123K (Glassdoor est.)', '$100K-$166K (Glassdoor est.)',\n",
       "       '$108K-$173K (Glassdoor est.)', '$48K-$93K (Glassdoor est.)',\n",
       "       '$54K-$115K (Glassdoor est.)', '$60K-$127K (Glassdoor est.)',\n",
       "       '$90K-$179K (Glassdoor est.)', '$138K-$224K (Glassdoor est.)',\n",
       "       '$190K-$220K(Employer est.)', '$35K-$62K (Glassdoor est.)',\n",
       "       '$18-$25 Per Hour(Glassdoor est.)', '$39K-$66K (Glassdoor est.)',\n",
       "       '$42K-$86K (Glassdoor est.)', '$69K-$127K (Glassdoor est.)',\n",
       "       '$40K-$68K (Glassdoor est.)', '$49K-$113K (Glassdoor est.)',\n",
       "       '$75K-$140K (Glassdoor est.)', '$66K-$112K (Glassdoor est.)',\n",
       "       '$76K-$125K (Glassdoor est.)', '$44K-$86K (Glassdoor est.)',\n",
       "       '$15-$25 Per Hour(Glassdoor est.)', '$53K-$92K (Glassdoor est.)',\n",
       "       '$65K-$120K (Glassdoor est.)', '$60K-$103K (Glassdoor est.)',\n",
       "       '$53K-$105K (Glassdoor est.)', '$33K-$62K (Glassdoor est.)',\n",
       "       '$48K-$90K (Glassdoor est.)', '$34K-$64K (Glassdoor est.)',\n",
       "       '$66K-$111K (Glassdoor est.)', '$91K-$138K (Glassdoor est.)',\n",
       "       '$62K-$114K (Glassdoor est.)', '$71K-$129K (Glassdoor est.)',\n",
       "       '$74K-$119K (Glassdoor est.)', '$55K-$97K (Glassdoor est.)',\n",
       "       '$15K-$16K(Employer est.)', '$61K-$106K (Glassdoor est.)',\n",
       "       '$127K-$199K (Glassdoor est.)', '$74K-$126K (Glassdoor est.)',\n",
       "       '$33K-$72K (Glassdoor est.)', '$37K-$63K (Glassdoor est.)',\n",
       "       '$67K-$119K (Glassdoor est.)', '$72K-$117K (Glassdoor est.)',\n",
       "       '$78K-$126K (Glassdoor est.)', '$116K-$194K (Glassdoor est.)',\n",
       "       '$83K-$133K (Glassdoor est.)', '$45K-$82K (Glassdoor est.)',\n",
       "       '$83K-$135K (Glassdoor est.)', '$70K-$122K (Glassdoor est.)',\n",
       "       '$70K-$132K (Glassdoor est.)', '$54K-$101K (Glassdoor est.)',\n",
       "       '$68K-$112K (Glassdoor est.)', '$42K-$74K (Glassdoor est.)',\n",
       "       '$95K-$161K (Glassdoor est.)', '$76K-$126K (Glassdoor est.)',\n",
       "       '$108K-$176K (Glassdoor est.)', '$130K-$208K (Glassdoor est.)',\n",
       "       '$37K-$68K (Glassdoor est.)', '$52K-$99K (Glassdoor est.)',\n",
       "       '$105K-$173K (Glassdoor est.)', '$71K-$134K (Glassdoor est.)',\n",
       "       '$39K-$82K (Glassdoor est.)', '$88K-$162K (Glassdoor est.)',\n",
       "       '$55K-$99K (Glassdoor est.)', '$67K-$117K (Glassdoor est.)',\n",
       "       '$92K-$150K (Glassdoor est.)', '$116K-$209K (Glassdoor est.)',\n",
       "       '$38K-$82K (Glassdoor est.)', 'Employer Provided Salary:$85K-$90K',\n",
       "       '$62K-$119K (Glassdoor est.)', '$84K-$136K (Glassdoor est.)',\n",
       "       '$52K-$89K (Glassdoor est.)', '$65K-$119K (Glassdoor est.)',\n",
       "       '$63K-$101K (Glassdoor est.)', '$127K-$202K (Glassdoor est.)',\n",
       "       '$31K-$57K (Glassdoor est.)', '$75K-$143K (Glassdoor est.)',\n",
       "       '$105K-$194K (Glassdoor est.)', '$45K-$86K (Glassdoor est.)',\n",
       "       '$95K-$154K (Glassdoor est.)', '$80K-$148K (Glassdoor est.)',\n",
       "       '$36K-$62K (Glassdoor est.)', '$50K-$92K (Glassdoor est.)',\n",
       "       '$67K-$135K (Glassdoor est.)', '$42K-$80K (Glassdoor est.)',\n",
       "       '$68K-$139K (Glassdoor est.)', '$34K-$92K (Glassdoor est.)',\n",
       "       '$54K-$71K (Glassdoor est.)', '$65K-$124K (Glassdoor est.)',\n",
       "       '$109K-$200K (Glassdoor est.)', '$61K-$113K (Glassdoor est.)',\n",
       "       '$43K-$86K (Glassdoor est.)', '$74K-$149K (Glassdoor est.)',\n",
       "       '$113K-$196K (Glassdoor est.)', '$97K-$160K (Glassdoor est.)',\n",
       "       '$24-$39 Per Hour(Glassdoor est.)', '$102K-$172K (Glassdoor est.)',\n",
       "       '$108K-$171K (Glassdoor est.)', '$76K-$142K (Glassdoor est.)',\n",
       "       '$202K-$306K (Glassdoor est.)', '$49K-$97K (Glassdoor est.)',\n",
       "       '$65K-$134K (Glassdoor est.)', '$32K-$59K (Glassdoor est.)',\n",
       "       '$87K-$158K (Glassdoor est.)', '$107K-$173K (Glassdoor est.)',\n",
       "       '$56K-$99K (Glassdoor est.)',\n",
       "       'Employer Provided Salary:$25-$28 Per Hour',\n",
       "       '$80K-$155K (Glassdoor est.)', '$43K-$98K (Glassdoor est.)',\n",
       "       '$45K-$78K (Glassdoor est.)', '$44K-$96K (Glassdoor est.)',\n",
       "       '$50K-$110K (Glassdoor est.)', '$61K-$119K (Glassdoor est.)',\n",
       "       'Employer Provided Salary:$100K-$140K',\n",
       "       '$56K-$91K (Glassdoor est.)', '$101K-$158K (Glassdoor est.)',\n",
       "       '$125K-$210K (Glassdoor est.)', '$43K-$77K (Glassdoor est.)',\n",
       "       '$139K-$221K (Glassdoor est.)', '$78K-$147K (Glassdoor est.)',\n",
       "       '$37K-$66K (Glassdoor est.)', '$38K-$64K (Glassdoor est.)',\n",
       "       '$43K-$82K (Glassdoor est.)', '$90K-$110K(Employer est.)',\n",
       "       '$93K-$151K (Glassdoor est.)', '$40K-$101K (Glassdoor est.)',\n",
       "       '$97K-$180K (Glassdoor est.)', '$81K-$134K (Glassdoor est.)',\n",
       "       '$84K-$157K (Glassdoor est.)', '$121K-$203K (Glassdoor est.)',\n",
       "       '$52K-$85K (Glassdoor est.)', '$81K-$140K (Glassdoor est.)',\n",
       "       '$83K-$148K (Glassdoor est.)', '$31K-$55K (Glassdoor est.)',\n",
       "       '$102K-$178K (Glassdoor est.)',\n",
       "       'Employer Provided Salary:$110K-$130K',\n",
       "       '$48K-$85K (Glassdoor est.)', '$66K-$123K (Glassdoor est.)',\n",
       "       '$92K-$146K (Glassdoor est.)', '$21-$29 Per Hour(Glassdoor est.)',\n",
       "       '$10-$17 Per Hour(Glassdoor est.)', '$150K-$239K (Glassdoor est.)',\n",
       "       '$52K-$91K (Glassdoor est.)', '$82K-$129K(Employer est.)',\n",
       "       '$47K-$101K (Glassdoor est.)', '$49K-$76K (Glassdoor est.)',\n",
       "       '$43K-$88K (Glassdoor est.)', '$124K-$199K (Glassdoor est.)',\n",
       "       '$97K-$181K (Glassdoor est.)', '$100K-$173K (Glassdoor est.)',\n",
       "       '$53K-$96K (Glassdoor est.)', '$65K-$96K (Glassdoor est.)',\n",
       "       '$75K-$127K (Glassdoor est.)', '$94K-$139K (Glassdoor est.)',\n",
       "       '$176K-$289K (Glassdoor est.)', '$92K-$149K (Glassdoor est.)',\n",
       "       '$118K-$188K (Glassdoor est.)', '$108K-$146K (Glassdoor est.)',\n",
       "       '$65K-$106K (Glassdoor est.)', '$55K-$98K (Glassdoor est.)',\n",
       "       '$94K-$162K (Glassdoor est.)', '$63K-$120K (Glassdoor est.)',\n",
       "       '$126K-$228K (Glassdoor est.)', '$80K-$134K (Glassdoor est.)',\n",
       "       '$85K-$142K (Glassdoor est.)', '$87K-$140K (Glassdoor est.)',\n",
       "       '$76K-$127K (Glassdoor est.)', '$54K-$92K (Glassdoor est.)',\n",
       "       '$61K-$100K (Glassdoor est.)', '$112K-$179K (Glassdoor est.)',\n",
       "       '$63K-$111K (Glassdoor est.)', '$75K-$126K (Glassdoor est.)',\n",
       "       '$110K-$184K (Glassdoor est.)', '$76K-$145K (Glassdoor est.)',\n",
       "       '$70K-$118K (Glassdoor est.)', '$94K-$153K (Glassdoor est.)',\n",
       "       '$150K-$180K (Glassdoor est.)', '$42K-$77K (Glassdoor est.)',\n",
       "       '$47K-$85K (Glassdoor est.)', '$62K-$112K (Glassdoor est.)',\n",
       "       '$64K-$108K (Glassdoor est.)', '$89K-$144K (Glassdoor est.)',\n",
       "       '$55K-$105K (Glassdoor est.)', '$135K-$211K (Glassdoor est.)',\n",
       "       '$57K-$80K (Glassdoor est.)', '$129K-$215K (Glassdoor est.)',\n",
       "       '$63K-$127K (Glassdoor est.)', '$50K-$89K (Glassdoor est.)',\n",
       "       '$71K-$124K (Glassdoor est.)', '$69K-$121K (Glassdoor est.)',\n",
       "       '$150K-$238K (Glassdoor est.)', '$77K-$132K (Glassdoor est.)',\n",
       "       '$59K-$112K (Glassdoor est.)', '$35K-$65K (Glassdoor est.)',\n",
       "       '$79K-$147K (Glassdoor est.)', '$119K-$187K (Glassdoor est.)',\n",
       "       '$90K-$157K (Glassdoor est.)', '$32K-$62K (Glassdoor est.)',\n",
       "       '$116K-$208K (Glassdoor est.)', '$102K-$165K (Glassdoor est.)',\n",
       "       '$91K-$159K (Glassdoor est.)', '$80K-$133K (Glassdoor est.)',\n",
       "       '$39K-$69K (Glassdoor est.)', '$27K-$48K (Glassdoor est.)',\n",
       "       '$36K-$71K (Glassdoor est.)', '$130K-$206K (Glassdoor est.)',\n",
       "       '$99K-$178K (Glassdoor est.)', '$86K-$137K (Glassdoor est.)',\n",
       "       '$37K-$100K (Glassdoor est.)', '$58K-$111K (Glassdoor est.)',\n",
       "       '$72K-$133K (Glassdoor est.)', '$61K-$126K (Glassdoor est.)',\n",
       "       '$95K-$160K (Glassdoor est.)', '$33K-$61K (Glassdoor est.)',\n",
       "       '$69K-$119K (Glassdoor est.)', '$67K-$127K (Glassdoor est.)',\n",
       "       '$66K-$117K (Glassdoor est.)', '$50K-$98K (Glassdoor est.)',\n",
       "       '$90K-$153K (Glassdoor est.)',\n",
       "       'Employer Provided Salary:$100K-$135K',\n",
       "       '$42K-$79K (Glassdoor est.)', '$84K-$153K (Glassdoor est.)',\n",
       "       '$44K-$73K (Glassdoor est.)', '$40K-$87K (Glassdoor est.)',\n",
       "       '$72K-$142K (Glassdoor est.)', '$74K-$137K (Glassdoor est.)',\n",
       "       '$57K-$109K (Glassdoor est.)', '$136K-$208K (Glassdoor est.)',\n",
       "       '$171K-$272K (Glassdoor est.)', '$65K-$126K (Glassdoor est.)',\n",
       "       '$118K-$228K (Glassdoor est.)', '$113K-$182K (Glassdoor est.)',\n",
       "       '$58K-$104K (Glassdoor est.)', '$58K-$108K (Glassdoor est.)',\n",
       "       '$81K-$161K (Glassdoor est.)', '$115K-$220K (Glassdoor est.)',\n",
       "       '$71K-$144K (Glassdoor est.)', '$32K-$57K (Glassdoor est.)',\n",
       "       '$79K-$136K (Glassdoor est.)', '$48K-$113K (Glassdoor est.)',\n",
       "       '$27-$47 Per Hour(Glassdoor est.)', '$68K-$125K (Glassdoor est.)',\n",
       "       '$39K-$67K (Glassdoor est.)', '$71K-$135K (Glassdoor est.)',\n",
       "       '$61K-$123K (Glassdoor est.)', '$87K-$141K (Glassdoor est.)',\n",
       "       '$71K-$121K (Glassdoor est.)', '$72K-$121K (Glassdoor est.)',\n",
       "       '$51K-$88K (Glassdoor est.)', '$101K-$141K (Glassdoor est.)',\n",
       "       '$79K-$127K (Glassdoor est.)', '$81K-$132K (Glassdoor est.)',\n",
       "       'Employer Provided Salary:$120K-$140K',\n",
       "       '$65K-$113K (Glassdoor est.)', '$59K-$125K (Glassdoor est.)',\n",
       "       '$80K-$142K (Glassdoor est.)', '$62K-$113K (Glassdoor est.)'],\n",
       "      dtype=object)"
      ]
     },
     "execution_count": 38,
     "metadata": {},
     "output_type": "execute_result"
    }
   ],
   "source": [
    "data[\"Salary Estimate\"].unique()"
   ]
  },
  {
   "cell_type": "markdown",
   "metadata": {},
   "source": [
    "We can remove the $ symbol, and the text 'Glassdoor est.' and add 2 more columns called min salary and max salary"
   ]
  },
  {
   "cell_type": "code",
   "execution_count": 39,
   "metadata": {},
   "outputs": [
    {
     "name": "stderr",
     "output_type": "stream",
     "text": [
      "/var/folders/4f/754nqwf50xs0h2gz6ck4c6f40000gn/T/ipykernel_5846/3849272555.py:1: FutureWarning: The default value of regex will change from True to False in a future version.\n",
      "  data['min_sal'] = data['Salary Estimate'].str.split(\",\").str[0].str.replace('(Glassdoor est.)','')\n"
     ]
    }
   ],
   "source": [
    "\n",
    "data['min_sal'] = data['Salary Estimate'].str.split(\",\").str[0].str.replace('(Glassdoor est.)','')"
   ]
  },
  {
   "cell_type": "code",
   "execution_count": 40,
   "metadata": {},
   "outputs": [
    {
     "name": "stderr",
     "output_type": "stream",
     "text": [
      "/var/folders/4f/754nqwf50xs0h2gz6ck4c6f40000gn/T/ipykernel_5846/2511411001.py:1: FutureWarning: The default value of regex will change from True to False in a future version.\n",
      "  data['min_sal'] = data['min_sal'].str.replace('(Glassdoor est.)','').str.split('-').str[0].str.replace('$','').str.replace('K','')\n",
      "/var/folders/4f/754nqwf50xs0h2gz6ck4c6f40000gn/T/ipykernel_5846/2511411001.py:1: FutureWarning: The default value of regex will change from True to False in a future version. In addition, single character regular expressions will *not* be treated as literal strings when regex=True.\n",
      "  data['min_sal'] = data['min_sal'].str.replace('(Glassdoor est.)','').str.split('-').str[0].str.replace('$','').str.replace('K','')\n"
     ]
    }
   ],
   "source": [
    "data['min_sal'] = data['min_sal'].str.replace('(Glassdoor est.)','').str.split('-').str[0].str.replace('$','').str.replace('K','')"
   ]
  },
  {
   "cell_type": "code",
   "execution_count": 41,
   "metadata": {},
   "outputs": [
    {
     "data": {
      "text/plain": [
       "array(['53', '63', '80', '56', '86', '71', '54', '38', '120', '126', '64',\n",
       "       '106', '46', '83', '102', '67', '118', '110', '81', '73', '',\n",
       "       '109', '75', '34', '72', '93', '85', '77', '82', '115', '74', '68',\n",
       "       '52', 'Employer Provided Salary:150', '158', '20', '41', '111',\n",
       "       '84', '107', '49', '61', '88', '60', '96', '65', '139', '50', '99',\n",
       "       '79', '57', '94', '37', '100', '55', '39', '31', '117', '40', '89',\n",
       "       '200', '121', '76', '91', '95', '43', '29', '26', '112', '51',\n",
       "       '113', 'Employer Provided Salary:120', '59', '44', '124', '131',\n",
       "       '132', '17', '42', '116', '48', '105', '98',\n",
       "       'Employer Provided Salary:200', '21', '114', '108', '90', '138',\n",
       "       '190', '35', '18', '69', '66', '15', '33', '62', '127', '78', '45',\n",
       "       '70', '130', '92', 'Employer Provided Salary:85', '36', '97', '24',\n",
       "       '202', '32', '87', 'Employer Provided Salary:25',\n",
       "       'Employer Provided Salary:100', '101', '125',\n",
       "       'Employer Provided Salary:110', '10', '150', '47', '176', '135',\n",
       "       '129', '119', '27', '58', '136', '171'], dtype=object)"
      ]
     },
     "execution_count": 41,
     "metadata": {},
     "output_type": "execute_result"
    }
   ],
   "source": [
    "data['min_sal'].unique()"
   ]
  },
  {
   "cell_type": "code",
   "execution_count": 42,
   "metadata": {},
   "outputs": [
    {
     "data": {
      "text/plain": [
       "array(['53', '63', '80', '56', '86', '71', '54', '38', '120', '126', '64',\n",
       "       '106', '46', '83', '102', '67', '118', '110', '81', '73', '',\n",
       "       '109', '75', '34', '72', '93', '85', '77', '82', '115', '74', '68',\n",
       "       '52', '150', '158', '20', '41', '111', '84', '107', '49', '61',\n",
       "       '88', '60', '96', '65', '139', '50', '99', '79', '57', '94', '37',\n",
       "       '100', '55', '39', '31', '117', '40', '89', '200', '121', '76',\n",
       "       '91', '95', '43', '29', '26', '112', '51', '113', '59', '44',\n",
       "       '124', '131', '132', '17', '42', '116', '48', '105', '98', '21',\n",
       "       '114', '108', '90', '138', '190', '35', '18', '69', '66', '15',\n",
       "       '33', '62', '127', '78', '45', '70', '130', '92', '36', '97', '24',\n",
       "       '202', '32', '87', '25', '101', '125', '10', '47', '176', '135',\n",
       "       '129', '119', '27', '58', '136', '171'], dtype=object)"
      ]
     },
     "execution_count": 42,
     "metadata": {},
     "output_type": "execute_result"
    }
   ],
   "source": [
    "data['min_sal'] = data['min_sal'].str.replace('Employer Provided Salary:','')\n",
    "data['min_sal'].unique()"
   ]
  },
  {
   "cell_type": "code",
   "execution_count": 43,
   "metadata": {},
   "outputs": [
    {
     "name": "stderr",
     "output_type": "stream",
     "text": [
      "/var/folders/4f/754nqwf50xs0h2gz6ck4c6f40000gn/T/ipykernel_5846/2379417924.py:1: FutureWarning: The default value of regex will change from True to False in a future version.\n",
      "  data['max_sal'] = data['Salary Estimate'].str.split(\",\").str[0].str.replace('(Glassdoor est.)','')\n"
     ]
    },
    {
     "data": {
      "text/plain": [
       "0       $53K-$91K ()\n",
       "1      $63K-$112K ()\n",
       "2       $80K-$90K ()\n",
       "3       $56K-$97K ()\n",
       "4      $86K-$143K ()\n",
       "           ...      \n",
       "951    $72K-$133K ()\n",
       "952     $56K-$91K ()\n",
       "953    $95K-$160K ()\n",
       "954               -1\n",
       "955    $61K-$126K ()\n",
       "Name: max_sal, Length: 956, dtype: object"
      ]
     },
     "execution_count": 43,
     "metadata": {},
     "output_type": "execute_result"
    }
   ],
   "source": [
    "data['max_sal'] = data['Salary Estimate'].str.split(\",\").str[0].str.replace('(Glassdoor est.)','')\n",
    "data['max_sal']"
   ]
  },
  {
   "cell_type": "code",
   "execution_count": 44,
   "metadata": {},
   "outputs": [
    {
     "name": "stderr",
     "output_type": "stream",
     "text": [
      "/var/folders/4f/754nqwf50xs0h2gz6ck4c6f40000gn/T/ipykernel_5846/3503997895.py:1: FutureWarning: The default value of regex will change from True to False in a future version.\n",
      "  data['max_sal'] = data['max_sal'].str.replace('(Glassdoor est.)','').str.split('-').str[1].str.replace('$','').str.replace('K','')\n",
      "/var/folders/4f/754nqwf50xs0h2gz6ck4c6f40000gn/T/ipykernel_5846/3503997895.py:1: FutureWarning: The default value of regex will change from True to False in a future version. In addition, single character regular expressions will *not* be treated as literal strings when regex=True.\n",
      "  data['max_sal'] = data['max_sal'].str.replace('(Glassdoor est.)','').str.split('-').str[1].str.replace('$','').str.replace('K','')\n"
     ]
    }
   ],
   "source": [
    "data['max_sal'] = data['max_sal'].str.replace('(Glassdoor est.)','').str.split('-').str[1].str.replace('$','').str.replace('K','')"
   ]
  },
  {
   "cell_type": "code",
   "execution_count": 45,
   "metadata": {},
   "outputs": [
    {
     "name": "stderr",
     "output_type": "stream",
     "text": [
      "/var/folders/4f/754nqwf50xs0h2gz6ck4c6f40000gn/T/ipykernel_5846/294843600.py:1: FutureWarning: The default value of regex will change from True to False in a future version.\n",
      "  data['max_sal'] = data['max_sal'].str.replace('(Employer est.)','')\n"
     ]
    }
   ],
   "source": [
    "\n",
    "data['max_sal'] = data['max_sal'].str.replace('(Employer est.)','')"
   ]
  },
  {
   "cell_type": "code",
   "execution_count": 46,
   "metadata": {},
   "outputs": [
    {
     "name": "stderr",
     "output_type": "stream",
     "text": [
      "/var/folders/4f/754nqwf50xs0h2gz6ck4c6f40000gn/T/ipykernel_5846/2557195457.py:1: FutureWarning: The default value of regex will change from True to False in a future version. In addition, single character regular expressions will *not* be treated as literal strings when regex=True.\n",
      "  data['max_sal'] = data['max_sal'].str.split().str[0].str.replace('(','').str.replace(')','')\n"
     ]
    }
   ],
   "source": [
    "data['max_sal'] = data['max_sal'].str.split().str[0].str.replace('(','').str.replace(')','')"
   ]
  },
  {
   "cell_type": "code",
   "execution_count": 47,
   "metadata": {},
   "outputs": [
    {
     "data": {
      "text/plain": [
       "array(['91', '112', '90', '97', '143', '119', '93', '142', '84', '160',\n",
       "       '201', '106', '172', '85', '144', '190', '137', '189', '175',\n",
       "       '111', '130', '139', '105', '1', '177', '110', '124', '61', '120',\n",
       "       '149', '140', '135', '132', '180', '138', '129', '113', '150',\n",
       "       '211', '39', '117', '99', '114', '95', '176', '146', '109', '148',\n",
       "       '72', '161', '81', '220', '102', '122', '157', '222', '118', '141',\n",
       "       '154', '76', '100', '68', '107', '65', '62', '231', '134', '116',\n",
       "       '123', '73', '164', '153', '275', '71', '193', '163', '101', '133',\n",
       "       '125', '173', '159', '50', '55', '182', '223', '145', '115', '136',\n",
       "       '167', '204', '78', '207', '174', '80', '24', '82', '185', '198',\n",
       "       '250', '34', '206', '183', '166', '179', '127', '224', '25', '66',\n",
       "       '86', '92', '103', '64', '16', '199', '126', '63', '194', '74',\n",
       "       '208', '162', '209', '89', '202', '57', '200', '196', '171', '306',\n",
       "       '59', '158', '28', '155', '98', '96', '210', '77', '221', '147',\n",
       "       '151', '203', '178', '29', '17', '239', '88', '181', '289', '188',\n",
       "       '228', '184', '108', '215', '121', '238', '187', '165', '69', '48',\n",
       "       '79', '87', '272', '104', '47', '67'], dtype=object)"
      ]
     },
     "execution_count": 47,
     "metadata": {},
     "output_type": "execute_result"
    }
   ],
   "source": [
    "data['max_sal'].unique()"
   ]
  },
  {
   "cell_type": "code",
   "execution_count": 48,
   "metadata": {},
   "outputs": [
    {
     "data": {
      "text/plain": [
       "pandas.core.series.Series"
      ]
     },
     "execution_count": 48,
     "metadata": {},
     "output_type": "execute_result"
    }
   ],
   "source": [
    "data['min_sal'] = pd.to_numeric(data['min_sal'], errors='coerce')\n",
    "type(data['min_sal'])"
   ]
  },
  {
   "cell_type": "code",
   "execution_count": 49,
   "metadata": {},
   "outputs": [
    {
     "data": {
      "text/plain": [
       "214"
      ]
     },
     "execution_count": 49,
     "metadata": {},
     "output_type": "execute_result"
    }
   ],
   "source": [
    "data['min_sal'].isna().sum()"
   ]
  },
  {
   "cell_type": "code",
   "execution_count": 50,
   "metadata": {},
   "outputs": [
    {
     "data": {
      "image/png": "[encoded data removed]",
      "text/plain": [
       "<Figure size 640x480 with 1 Axes>"
      ]
     },
     "metadata": {},
     "output_type": "display_data"
    }
   ],
   "source": [
    "data['min_sal'].hist()\n",
    "plt.show()"
   ]
  },
  {
   "cell_type": "code",
   "execution_count": 51,
   "metadata": {},
   "outputs": [
    {
     "data": {
      "text/plain": [
       "0"
      ]
     },
     "execution_count": 51,
     "metadata": {},
     "output_type": "execute_result"
    }
   ],
   "source": [
    "data['max_sal'].isna().sum()"
   ]
  },
  {
   "cell_type": "code",
   "execution_count": 52,
   "metadata": {},
   "outputs": [],
   "source": [
    "\n",
    "data['min_sal'] = data['min_sal'].replace(np.nan, data['min_sal'].mean())"
   ]
  },
  {
   "cell_type": "code",
   "execution_count": 53,
   "metadata": {},
   "outputs": [],
   "source": [
    "\n",
    "data['max_sal'] = pd.to_numeric(data['max_sal'], errors='coerce')"
   ]
  },
  {
   "cell_type": "code",
   "execution_count": 54,
   "metadata": {},
   "outputs": [
    {
     "data": {
      "image/png": "[encoded data removed]",
      "text/plain": [
       "<Figure size 640x480 with 1 Axes>"
      ]
     },
     "metadata": {},
     "output_type": "display_data"
    }
   ],
   "source": [
    "\n",
    "data['max_sal'].hist()\n",
    "plt.show()"
   ]
  },
  {
   "cell_type": "markdown",
   "metadata": {},
   "source": [
    "We can create a new column called 'Average Salary' which will be used to predict Salary later in the code using Machine Learning models"
   ]
  },
  {
   "cell_type": "code",
   "execution_count": 55,
   "metadata": {},
   "outputs": [],
   "source": [
    "\n",
    "data['avg.salary'] = (data['min_sal'] + data['max_sal'])/ 2"
   ]
  },
  {
   "cell_type": "code",
   "execution_count": 56,
   "metadata": {},
   "outputs": [
    {
     "data": {
      "image/png": "[encoded data removed]",
      "text/plain": [
       "<Figure size 640x480 with 1 Axes>"
      ]
     },
     "metadata": {},
     "output_type": "display_data"
    }
   ],
   "source": [
    "data['avg.salary'].hist()\n",
    "plt.show()"
   ]
  },
  {
   "cell_type": "code",
   "execution_count": 57,
   "metadata": {},
   "outputs": [
    {
     "data": {
      "image/png": "[encoded data removed]",
      "text/plain": [
       "<Figure size 1200x2000 with 10 Axes>"
      ]
     },
     "metadata": {},
     "output_type": "display_data"
    }
   ],
   "source": [
    "key_check=['Python','SQL', 'Machine Learning', 'Hadoop', 'Big Data', 'Excel', 'Tableau', 'AWS', 'Spark','Azure']\n",
    "\n",
    "\n",
    "num_rows = (len(key_check) + 1) // 2  # Round up for odd number of keywords\n",
    "num_cols = 2\n",
    "\n",
    "fig, axs = plt.subplots(num_rows, num_cols, figsize=(12, 4 * num_rows))\n",
    "\n",
    "for idx, keyword in enumerate(key_check):\n",
    "    row = idx // num_cols\n",
    "    col = idx % num_cols\n",
    "    \n",
    "    keyword_mask = data['Job Description'].str.contains(keyword, case=False)\n",
    "    keyword_df = data[keyword_mask]\n",
    "    average_salary_with_keyword = keyword_df['avg.salary'].mean()\n",
    "    \n",
    "    sns.barplot(x=[f'With {keyword}', 'Without'],\n",
    "                y=[average_salary_with_keyword, data['avg.salary'].mean()],\n",
    "                ax=axs[row, col])\n",
    "    axs[row, col].set_title(f'Average Salary with \"{keyword}\"')\n",
    "    axs[row, col].set_ylabel('avg.salary')\n",
    "\n",
    "plt.tight_layout()\n",
    "plt.show()"
   ]
  },
  {
   "cell_type": "code",
   "execution_count": 58,
   "metadata": {},
   "outputs": [
    {
     "data": {
      "image/png": "[encoded data removed]",
      "text/plain": [
       "<Figure size 640x480 with 1 Axes>"
      ]
     },
     "metadata": {},
     "output_type": "display_data"
    }
   ],
   "source": [
    "plt.hist(data['avg.salary'], bins=20, edgecolor='black')\n",
    "plt.xlabel('Average Salary')\n",
    "plt.ylabel('Frequency')\n",
    "plt.title('Distribution of Average Salary')\n",
    "plt.show()"
   ]
  },
  {
   "cell_type": "code",
   "execution_count": 59,
   "metadata": {},
   "outputs": [
    {
     "data": {
      "text/plain": [
       "0      NM\n",
       "1      MD\n",
       "2      FL\n",
       "3      WA\n",
       "4      NY\n",
       "       ..\n",
       "951    TN\n",
       "952    PA\n",
       "953    PA\n",
       "954    TX\n",
       "955    OH\n",
       "Name: State, Length: 956, dtype: object"
      ]
     },
     "execution_count": 59,
     "metadata": {},
     "output_type": "execute_result"
    }
   ],
   "source": [
    "# Job State\n",
    "data['State']=data.Location.str.split(',').str[1]\n",
    "data['City']=data.Location.str.split(',').str[0]\n",
    "data.State=data.State.str.lstrip()\n",
    "data.City=data.City.str.lstrip()\n",
    "data['City']\n",
    "data['State']"
   ]
  },
  {
   "cell_type": "code",
   "execution_count": 60,
   "metadata": {},
   "outputs": [
    {
     "data": {
      "image/png": "[encoded data removed]",
      "text/plain": [
       "<Figure size 640x480 with 1 Axes>"
      ]
     },
     "metadata": {},
     "output_type": "display_data"
    }
   ],
   "source": [
    "state_counts = data['State'].value_counts()\n",
    "state_counts.plot(kind='bar')\n",
    "plt.xlabel('State')\n",
    "plt.ylabel('Number of Jobs')\n",
    "plt.title('Number of Jobs by State')\n",
    "plt.show()"
   ]
  },
  {
   "cell_type": "code",
   "execution_count": 61,
   "metadata": {},
   "outputs": [],
   "source": [
    "# Rating\n",
    "bins = [0, 1, 2, 3, 4, 5, np.inf]\n",
    "labels = ['0-1', '1-2', '2-3', '3-4', '4-5', 'NaN']\n",
    "data['Rating Interval'] = pd.cut(data['Rating'], bins=bins, labels=labels, include_lowest=True)"
   ]
  },
  {
   "cell_type": "code",
   "execution_count": 62,
   "metadata": {},
   "outputs": [
    {
     "data": {
      "text/plain": [
       "0      3-4\n",
       "1      3-4\n",
       "2      4-5\n",
       "3      3-4\n",
       "4      2-3\n",
       "      ... \n",
       "951    4-5\n",
       "952    2-3\n",
       "953    3-4\n",
       "954    4-5\n",
       "955    3-4\n",
       "Name: Rating Interval, Length: 956, dtype: category\n",
       "Categories (6, object): ['0-1' < '1-2' < '2-3' < '3-4' < '4-5' < 'NaN']"
      ]
     },
     "execution_count": 62,
     "metadata": {},
     "output_type": "execute_result"
    }
   ],
   "source": [
    "data['Rating Interval']"
   ]
  },
  {
   "cell_type": "code",
   "execution_count": 63,
   "metadata": {},
   "outputs": [
    {
     "data": {
      "image/png": "[encoded data removed]",
      "text/plain": [
       "<Figure size 1000x600 with 1 Axes>"
      ]
     },
     "metadata": {},
     "output_type": "display_data"
    }
   ],
   "source": [
    "plt.figure(figsize=(10, 6))\n",
    "ax = sns.barplot(x='Rating Interval', y='avg.salary', data=data, capsize=0.2, palette='coolwarm')\n",
    "for p in ax.patches:\n",
    "    ax.annotate(format(p.get_height(), '.2f'), \n",
    "                (p.get_x() + p.get_width() / 2., p.get_height()), \n",
    "                ha='center', va='center', xytext=(0, 10), textcoords='offset points')\n",
    "plt.title('Average Salary by Rating Interval')\n",
    "plt.xlabel('Rating Interval')\n",
    "plt.ylabel('Average Salary')\n",
    "plt.show()"
   ]
  },
  {
   "cell_type": "markdown",
   "metadata": {},
   "source": [
    "### Data gathering"
   ]
  },
  {
   "cell_type": "code",
   "execution_count": 64,
   "metadata": {},
   "outputs": [
    {
     "name": "stdout",
     "output_type": "stream",
     "text": [
      "Graph for Size: total = 9\n"
     ]
    },
    {
     "data": {
      "image/png": "[encoded data removed]",
      "text/plain": [
       "<Figure size 640x480 with 1 Axes>"
      ]
     },
     "metadata": {},
     "output_type": "display_data"
    },
    {
     "name": "stdout",
     "output_type": "stream",
     "text": [
      "Graph for Type of ownership: total = 13\n"
     ]
    },
    {
     "data": {
      "image/png": "[encoded data removed]",
      "text/plain": [
       "<Figure size 640x480 with 1 Axes>"
      ]
     },
     "metadata": {},
     "output_type": "display_data"
    },
    {
     "name": "stdout",
     "output_type": "stream",
     "text": [
      "Graph for Industry: total = 63\n"
     ]
    },
    {
     "data": {
      "image/png": "[encoded data removed]",
      "text/plain": [
       "<Figure size 640x480 with 1 Axes>"
      ]
     },
     "metadata": {},
     "output_type": "display_data"
    },
    {
     "name": "stdout",
     "output_type": "stream",
     "text": [
      "Graph for Sector: total = 25\n"
     ]
    },
    {
     "data": {
      "image/png": "[encoded data removed]",
      "text/plain": [
       "<Figure size 640x480 with 1 Axes>"
      ]
     },
     "metadata": {},
     "output_type": "display_data"
    },
    {
     "name": "stdout",
     "output_type": "stream",
     "text": [
      "Graph for Revenue: total = 14\n"
     ]
    },
    {
     "data": {
      "image/png": "[encoded data removed]",
      "text/plain": [
       "<Figure size 640x480 with 1 Axes>"
      ]
     },
     "metadata": {},
     "output_type": "display_data"
    },
    {
     "name": "stdout",
     "output_type": "stream",
     "text": [
      "Graph for python_job: total = 2\n"
     ]
    },
    {
     "data": {
      "image/png": "[encoded data removed]",
      "text/plain": [
       "<Figure size 640x480 with 1 Axes>"
      ]
     },
     "metadata": {},
     "output_type": "display_data"
    },
    {
     "name": "stdout",
     "output_type": "stream",
     "text": [
      "Graph for r studio_job: total = 2\n"
     ]
    },
    {
     "data": {
      "image/png": "[encoded data removed]",
      "text/plain": [
       "<Figure size 640x480 with 1 Axes>"
      ]
     },
     "metadata": {},
     "output_type": "display_data"
    },
    {
     "name": "stdout",
     "output_type": "stream",
     "text": [
      "Graph for spark_job: total = 2\n"
     ]
    },
    {
     "data": {
      "image/png": "[encoded data removed]",
      "text/plain": [
       "<Figure size 640x480 with 1 Axes>"
      ]
     },
     "metadata": {},
     "output_type": "display_data"
    },
    {
     "name": "stdout",
     "output_type": "stream",
     "text": [
      "Graph for aws_job: total = 2\n"
     ]
    },
    {
     "data": {
      "image/png": "[encoded data removed]",
      "text/plain": [
       "<Figure size 640x480 with 1 Axes>"
      ]
     },
     "metadata": {},
     "output_type": "display_data"
    },
    {
     "name": "stdout",
     "output_type": "stream",
     "text": [
      "Graph for excel_job: total = 2\n"
     ]
    },
    {
     "data": {
      "image/png": "[encoded data removed]",
      "text/plain": [
       "<Figure size 640x480 with 1 Axes>"
      ]
     },
     "metadata": {},
     "output_type": "display_data"
    },
    {
     "name": "stdout",
     "output_type": "stream",
     "text": [
      "Graph for Job Seniority: total = 3\n"
     ]
    },
    {
     "data": {
      "image/png": "[encoded data removed]",
      "text/plain": [
       "<Figure size 640x480 with 1 Axes>"
      ]
     },
     "metadata": {},
     "output_type": "display_data"
    },
    {
     "name": "stdout",
     "output_type": "stream",
     "text": [
      "Graph for Hquarters: total = 50\n"
     ]
    },
    {
     "data": {
      "image/png": "[encoded data removed]",
      "text/plain": [
       "<Figure size 640x480 with 1 Axes>"
      ]
     },
     "metadata": {},
     "output_type": "display_data"
    }
   ],
   "source": [
    "# This is finding the co-relation of all the features having categorical values \n",
    "df_cat = data[['Size', 'Type of ownership', 'Industry', 'Sector', 'Revenue','python_job', 'r studio_job',\n",
    " 'spark_job', 'aws_job', 'excel_job', 'Job Seniority', 'Hquarters']]\n",
    "for i in df_cat.columns:\n",
    "    cat_num  = df_cat[i].value_counts()\n",
    "    print(\"Graph for %s: total = %d\" % (i, len(cat_num)))\n",
    "    chart = sns.barplot(x=cat_num.index, y=cat_num)\n",
    "    chart.set_xticklabels(chart.get_xticklabels() ,rotation=90)\n",
    "    plt.show()"
   ]
  },
  {
   "cell_type": "code",
   "execution_count": 65,
   "metadata": {},
   "outputs": [
    {
     "data": {
      "text/plain": [
       "Index(['Job Title', 'Salary Estimate', 'Job Description', 'Rating',\n",
       "       'Company Name', 'Location', 'Headquarters', 'Size', 'Founded',\n",
       "       'Type of ownership', 'Industry', 'Sector', 'Revenue', 'Competitors',\n",
       "       'JobTitles', 'Job Seniority', 'python_job', 'excel_job', 'r studio_job',\n",
       "       'spark_job', 'aws_job', 'Hquarters', 'loaction spots',\n",
       "       'competitor company', 'Ownership', 'min_sal', 'max_sal', 'avg.salary',\n",
       "       'State', 'City', 'Rating Interval'],\n",
       "      dtype='object')"
      ]
     },
     "execution_count": 65,
     "metadata": {},
     "output_type": "execute_result"
    }
   ],
   "source": [
    "\n",
    "data.columns\n"
   ]
  },
  {
   "cell_type": "code",
   "execution_count": 66,
   "metadata": {},
   "outputs": [
    {
     "data": {
      "text/html": [
       "<div>\n",
       "<style scoped>\n",
       "    .dataframe tbody tr th:only-of-type {\n",
       "        vertical-align: middle;\n",
       "    }\n",
       "\n",
       "    .dataframe tbody tr th {\n",
       "        vertical-align: top;\n",
       "    }\n",
       "\n",
       "    .dataframe thead th {\n",
       "        text-align: right;\n",
       "    }\n",
       "</style>\n",
       "<table border=\"1\" class=\"dataframe\">\n",
       "  <thead>\n",
       "    <tr style=\"text-align: right;\">\n",
       "      <th></th>\n",
       "      <th>Rating</th>\n",
       "      <th>Company Name</th>\n",
       "      <th>Size</th>\n",
       "      <th>Type of ownership</th>\n",
       "      <th>Sector</th>\n",
       "      <th>Revenue</th>\n",
       "      <th>JobTitles</th>\n",
       "      <th>Job Seniority</th>\n",
       "      <th>python_job</th>\n",
       "      <th>excel_job</th>\n",
       "      <th>r studio_job</th>\n",
       "      <th>spark_job</th>\n",
       "      <th>aws_job</th>\n",
       "      <th>Hquarters</th>\n",
       "      <th>loaction spots</th>\n",
       "      <th>competitor company</th>\n",
       "      <th>Ownership</th>\n",
       "      <th>avg.salary</th>\n",
       "    </tr>\n",
       "  </thead>\n",
       "  <tbody>\n",
       "    <tr>\n",
       "      <th>0</th>\n",
       "      <td>3.8</td>\n",
       "      <td>Tecolote Research</td>\n",
       "      <td>501 to 1000 employees</td>\n",
       "      <td>Company - Private</td>\n",
       "      <td>Aerospace &amp; Defense</td>\n",
       "      <td>$50 to $100 million (USD)</td>\n",
       "      <td>D-sci</td>\n",
       "      <td>No Desc</td>\n",
       "      <td>1</td>\n",
       "      <td>1</td>\n",
       "      <td>0</td>\n",
       "      <td>0</td>\n",
       "      <td>0</td>\n",
       "      <td>CA</td>\n",
       "      <td>NM</td>\n",
       "      <td>no competitor</td>\n",
       "      <td>Private</td>\n",
       "      <td>72.0</td>\n",
       "    </tr>\n",
       "    <tr>\n",
       "      <th>1</th>\n",
       "      <td>3.4</td>\n",
       "      <td>University of Maryland Medical System</td>\n",
       "      <td>10000+ employees</td>\n",
       "      <td>Other Organization</td>\n",
       "      <td>Health Care</td>\n",
       "      <td>$2 to $5 billion (USD)</td>\n",
       "      <td>D-sci</td>\n",
       "      <td>No Desc</td>\n",
       "      <td>1</td>\n",
       "      <td>0</td>\n",
       "      <td>0</td>\n",
       "      <td>0</td>\n",
       "      <td>0</td>\n",
       "      <td>MD</td>\n",
       "      <td>MD</td>\n",
       "      <td>no competitor</td>\n",
       "      <td>others</td>\n",
       "      <td>87.5</td>\n",
       "    </tr>\n",
       "    <tr>\n",
       "      <th>2</th>\n",
       "      <td>4.8</td>\n",
       "      <td>KnowBe4</td>\n",
       "      <td>501 to 1000 employees</td>\n",
       "      <td>Company - Private</td>\n",
       "      <td>Business Services</td>\n",
       "      <td>$100 to $500 million (USD)</td>\n",
       "      <td>D-sci</td>\n",
       "      <td>No Desc</td>\n",
       "      <td>1</td>\n",
       "      <td>1</td>\n",
       "      <td>0</td>\n",
       "      <td>1</td>\n",
       "      <td>0</td>\n",
       "      <td>FL</td>\n",
       "      <td>FL</td>\n",
       "      <td>no competitor</td>\n",
       "      <td>Private</td>\n",
       "      <td>85.0</td>\n",
       "    </tr>\n",
       "    <tr>\n",
       "      <th>3</th>\n",
       "      <td>3.8</td>\n",
       "      <td>PNNL</td>\n",
       "      <td>1001 to 5000 employees</td>\n",
       "      <td>Government</td>\n",
       "      <td>Oil, Gas, Energy &amp; Utilities</td>\n",
       "      <td>$500 million to $1 billion (USD)</td>\n",
       "      <td>D-sci</td>\n",
       "      <td>No Desc</td>\n",
       "      <td>1</td>\n",
       "      <td>0</td>\n",
       "      <td>0</td>\n",
       "      <td>0</td>\n",
       "      <td>0</td>\n",
       "      <td>WA</td>\n",
       "      <td>WA</td>\n",
       "      <td>Oak Ridge National Laboratory</td>\n",
       "      <td>others</td>\n",
       "      <td>76.5</td>\n",
       "    </tr>\n",
       "    <tr>\n",
       "      <th>4</th>\n",
       "      <td>2.9</td>\n",
       "      <td>Affinity Solutions</td>\n",
       "      <td>51 to 200 employees</td>\n",
       "      <td>Company - Private</td>\n",
       "      <td>Business Services</td>\n",
       "      <td>Unknown / Non-Applicable</td>\n",
       "      <td>D-sci</td>\n",
       "      <td>No Desc</td>\n",
       "      <td>1</td>\n",
       "      <td>1</td>\n",
       "      <td>0</td>\n",
       "      <td>0</td>\n",
       "      <td>0</td>\n",
       "      <td>NY</td>\n",
       "      <td>NY</td>\n",
       "      <td>Commerce Signals</td>\n",
       "      <td>Private</td>\n",
       "      <td>114.5</td>\n",
       "    </tr>\n",
       "  </tbody>\n",
       "</table>\n",
       "</div>"
      ],
      "text/plain": [
       "   Rating                           Company Name                    Size  \\\n",
       "0     3.8                      Tecolote Research   501 to 1000 employees   \n",
       "1     3.4  University of Maryland Medical System        10000+ employees   \n",
       "2     4.8                                KnowBe4   501 to 1000 employees   \n",
       "3     3.8                                   PNNL  1001 to 5000 employees   \n",
       "4     2.9                     Affinity Solutions     51 to 200 employees   \n",
       "\n",
       "    Type of ownership                        Sector  \\\n",
       "0   Company - Private           Aerospace & Defense   \n",
       "1  Other Organization                   Health Care   \n",
       "2   Company - Private             Business Services   \n",
       "3          Government  Oil, Gas, Energy & Utilities   \n",
       "4   Company - Private             Business Services   \n",
       "\n",
       "                            Revenue JobTitles Job Seniority  python_job  \\\n",
       "0         $50 to $100 million (USD)     D-sci       No Desc           1   \n",
       "1            $2 to $5 billion (USD)     D-sci       No Desc           1   \n",
       "2        $100 to $500 million (USD)     D-sci       No Desc           1   \n",
       "3  $500 million to $1 billion (USD)     D-sci       No Desc           1   \n",
       "4          Unknown / Non-Applicable     D-sci       No Desc           1   \n",
       "\n",
       "   excel_job  r studio_job  spark_job  aws_job Hquarters loaction spots  \\\n",
       "0          1             0          0        0        CA             NM   \n",
       "1          0             0          0        0        MD             MD   \n",
       "2          1             0          1        0        FL             FL   \n",
       "3          0             0          0        0        WA             WA   \n",
       "4          1             0          0        0        NY             NY   \n",
       "\n",
       "              competitor company Ownership  avg.salary  \n",
       "0                  no competitor   Private        72.0  \n",
       "1                  no competitor    others        87.5  \n",
       "2                  no competitor   Private        85.0  \n",
       "3  Oak Ridge National Laboratory    others        76.5  \n",
       "4               Commerce Signals   Private       114.5  "
      ]
     },
     "execution_count": 66,
     "metadata": {},
     "output_type": "execute_result"
    }
   ],
   "source": [
    "final_data = data[['Rating',\n",
    "       'Company Name', 'Size',\n",
    "       'Type of ownership','Sector', 'Revenue',\n",
    "       'JobTitles', 'Job Seniority', 'python_job', 'excel_job', 'r studio_job',\n",
    "       'spark_job', 'aws_job', 'Hquarters', 'loaction spots',\n",
    "       'competitor company', 'Ownership','avg.salary']]\n",
    "final_data.head()"
   ]
  },
  {
   "cell_type": "markdown",
   "metadata": {},
   "source": [
    "### Converting Categorical variable to Numerical variable using get_dummies function"
   ]
  },
  {
   "cell_type": "code",
   "execution_count": 67,
   "metadata": {},
   "outputs": [],
   "source": [
    "final_data = pd.get_dummies(data = final_data, columns = ['Company Name', 'Size', 'Type of ownership', 'Sector',\n",
    "       'Revenue', 'JobTitles', 'Job Seniority','Hquarters', 'loaction spots',\n",
    "       'competitor company', 'Ownership'])"
   ]
  },
  {
   "cell_type": "code",
   "execution_count": 68,
   "metadata": {},
   "outputs": [
    {
     "data": {
      "text/html": [
       "<div>\n",
       "<style scoped>\n",
       "    .dataframe tbody tr th:only-of-type {\n",
       "        vertical-align: middle;\n",
       "    }\n",
       "\n",
       "    .dataframe tbody tr th {\n",
       "        vertical-align: top;\n",
       "    }\n",
       "\n",
       "    .dataframe thead th {\n",
       "        text-align: right;\n",
       "    }\n",
       "</style>\n",
       "<table border=\"1\" class=\"dataframe\">\n",
       "  <thead>\n",
       "    <tr style=\"text-align: right;\">\n",
       "      <th></th>\n",
       "      <th>Rating</th>\n",
       "      <th>python_job</th>\n",
       "      <th>excel_job</th>\n",
       "      <th>r studio_job</th>\n",
       "      <th>spark_job</th>\n",
       "      <th>aws_job</th>\n",
       "      <th>avg.salary</th>\n",
       "      <th>Company Name_1-800-FLOWERS.COM, Inc.</th>\n",
       "      <th>Company Name_1904labs</th>\n",
       "      <th>Company Name_23andMe</th>\n",
       "      <th>...</th>\n",
       "      <th>competitor company_World Wide Technology</th>\n",
       "      <th>competitor company_YOOX NET-A-PORTER GROUP</th>\n",
       "      <th>competitor company_Zocdoc</th>\n",
       "      <th>competitor company_bluebird bio</th>\n",
       "      <th>competitor company_eClinicalWorks</th>\n",
       "      <th>competitor company_no competitor</th>\n",
       "      <th>Ownership_ Private</th>\n",
       "      <th>Ownership_ Public</th>\n",
       "      <th>Ownership_1</th>\n",
       "      <th>Ownership_others</th>\n",
       "    </tr>\n",
       "  </thead>\n",
       "  <tbody>\n",
       "    <tr>\n",
       "      <th>0</th>\n",
       "      <td>3.8</td>\n",
       "      <td>1</td>\n",
       "      <td>1</td>\n",
       "      <td>0</td>\n",
       "      <td>0</td>\n",
       "      <td>0</td>\n",
       "      <td>72.0</td>\n",
       "      <td>0</td>\n",
       "      <td>0</td>\n",
       "      <td>0</td>\n",
       "      <td>...</td>\n",
       "      <td>0</td>\n",
       "      <td>0</td>\n",
       "      <td>0</td>\n",
       "      <td>0</td>\n",
       "      <td>0</td>\n",
       "      <td>1</td>\n",
       "      <td>1</td>\n",
       "      <td>0</td>\n",
       "      <td>0</td>\n",
       "      <td>0</td>\n",
       "    </tr>\n",
       "    <tr>\n",
       "      <th>1</th>\n",
       "      <td>3.4</td>\n",
       "      <td>1</td>\n",
       "      <td>0</td>\n",
       "      <td>0</td>\n",
       "      <td>0</td>\n",
       "      <td>0</td>\n",
       "      <td>87.5</td>\n",
       "      <td>0</td>\n",
       "      <td>0</td>\n",
       "      <td>0</td>\n",
       "      <td>...</td>\n",
       "      <td>0</td>\n",
       "      <td>0</td>\n",
       "      <td>0</td>\n",
       "      <td>0</td>\n",
       "      <td>0</td>\n",
       "      <td>1</td>\n",
       "      <td>0</td>\n",
       "      <td>0</td>\n",
       "      <td>0</td>\n",
       "      <td>1</td>\n",
       "    </tr>\n",
       "    <tr>\n",
       "      <th>2</th>\n",
       "      <td>4.8</td>\n",
       "      <td>1</td>\n",
       "      <td>1</td>\n",
       "      <td>0</td>\n",
       "      <td>1</td>\n",
       "      <td>0</td>\n",
       "      <td>85.0</td>\n",
       "      <td>0</td>\n",
       "      <td>0</td>\n",
       "      <td>0</td>\n",
       "      <td>...</td>\n",
       "      <td>0</td>\n",
       "      <td>0</td>\n",
       "      <td>0</td>\n",
       "      <td>0</td>\n",
       "      <td>0</td>\n",
       "      <td>1</td>\n",
       "      <td>1</td>\n",
       "      <td>0</td>\n",
       "      <td>0</td>\n",
       "      <td>0</td>\n",
       "    </tr>\n",
       "    <tr>\n",
       "      <th>3</th>\n",
       "      <td>3.8</td>\n",
       "      <td>1</td>\n",
       "      <td>0</td>\n",
       "      <td>0</td>\n",
       "      <td>0</td>\n",
       "      <td>0</td>\n",
       "      <td>76.5</td>\n",
       "      <td>0</td>\n",
       "      <td>0</td>\n",
       "      <td>0</td>\n",
       "      <td>...</td>\n",
       "      <td>0</td>\n",
       "      <td>0</td>\n",
       "      <td>0</td>\n",
       "      <td>0</td>\n",
       "      <td>0</td>\n",
       "      <td>0</td>\n",
       "      <td>0</td>\n",
       "      <td>0</td>\n",
       "      <td>0</td>\n",
       "      <td>1</td>\n",
       "    </tr>\n",
       "    <tr>\n",
       "      <th>4</th>\n",
       "      <td>2.9</td>\n",
       "      <td>1</td>\n",
       "      <td>1</td>\n",
       "      <td>0</td>\n",
       "      <td>0</td>\n",
       "      <td>0</td>\n",
       "      <td>114.5</td>\n",
       "      <td>0</td>\n",
       "      <td>0</td>\n",
       "      <td>0</td>\n",
       "      <td>...</td>\n",
       "      <td>0</td>\n",
       "      <td>0</td>\n",
       "      <td>0</td>\n",
       "      <td>0</td>\n",
       "      <td>0</td>\n",
       "      <td>0</td>\n",
       "      <td>1</td>\n",
       "      <td>0</td>\n",
       "      <td>0</td>\n",
       "      <td>0</td>\n",
       "    </tr>\n",
       "  </tbody>\n",
       "</table>\n",
       "<p>5 rows × 758 columns</p>\n",
       "</div>"
      ],
      "text/plain": [
       "   Rating  python_job  excel_job  r studio_job  spark_job  aws_job  \\\n",
       "0     3.8           1          1             0          0        0   \n",
       "1     3.4           1          0             0          0        0   \n",
       "2     4.8           1          1             0          1        0   \n",
       "3     3.8           1          0             0          0        0   \n",
       "4     2.9           1          1             0          0        0   \n",
       "\n",
       "   avg.salary  Company Name_1-800-FLOWERS.COM, Inc.  Company Name_1904labs  \\\n",
       "0        72.0                                     0                      0   \n",
       "1        87.5                                     0                      0   \n",
       "2        85.0                                     0                      0   \n",
       "3        76.5                                     0                      0   \n",
       "4       114.5                                     0                      0   \n",
       "\n",
       "   Company Name_23andMe  ...  competitor company_World Wide Technology  \\\n",
       "0                     0  ...                                         0   \n",
       "1                     0  ...                                         0   \n",
       "2                     0  ...                                         0   \n",
       "3                     0  ...                                         0   \n",
       "4                     0  ...                                         0   \n",
       "\n",
       "   competitor company_YOOX NET-A-PORTER GROUP  competitor company_Zocdoc  \\\n",
       "0                                           0                          0   \n",
       "1                                           0                          0   \n",
       "2                                           0                          0   \n",
       "3                                           0                          0   \n",
       "4                                           0                          0   \n",
       "\n",
       "   competitor company_bluebird bio  competitor company_eClinicalWorks  \\\n",
       "0                                0                                  0   \n",
       "1                                0                                  0   \n",
       "2                                0                                  0   \n",
       "3                                0                                  0   \n",
       "4                                0                                  0   \n",
       "\n",
       "   competitor company_no competitor  Ownership_ Private  Ownership_ Public  \\\n",
       "0                                 1                   1                  0   \n",
       "1                                 1                   0                  0   \n",
       "2                                 1                   1                  0   \n",
       "3                                 0                   0                  0   \n",
       "4                                 0                   1                  0   \n",
       "\n",
       "   Ownership_1  Ownership_others  \n",
       "0            0                 0  \n",
       "1            0                 1  \n",
       "2            0                 0  \n",
       "3            0                 1  \n",
       "4            0                 0  \n",
       "\n",
       "[5 rows x 758 columns]"
      ]
     },
     "execution_count": 68,
     "metadata": {},
     "output_type": "execute_result"
    }
   ],
   "source": [
    "\n",
    "final_data.head()"
   ]
  },
  {
   "cell_type": "markdown",
   "metadata": {},
   "source": [
    "### Data Scaling using MinMaxScaler"
   ]
  },
  {
   "cell_type": "code",
   "execution_count": 69,
   "metadata": {},
   "outputs": [],
   "source": [
    "from sklearn.preprocessing import MinMaxScaler\n",
    "ms = MinMaxScaler()\n",
    "final_data[['Rating', 'avg.salary']] = ms.fit_transform(final_data[['Rating', 'avg.salary']])"
   ]
  },
  {
   "cell_type": "code",
   "execution_count": 70,
   "metadata": {},
   "outputs": [
    {
     "data": {
      "text/html": [
       "<div>\n",
       "<style scoped>\n",
       "    .dataframe tbody tr th:only-of-type {\n",
       "        vertical-align: middle;\n",
       "    }\n",
       "\n",
       "    .dataframe tbody tr th {\n",
       "        vertical-align: top;\n",
       "    }\n",
       "\n",
       "    .dataframe thead th {\n",
       "        text-align: right;\n",
       "    }\n",
       "</style>\n",
       "<table border=\"1\" class=\"dataframe\">\n",
       "  <thead>\n",
       "    <tr style=\"text-align: right;\">\n",
       "      <th></th>\n",
       "      <th>Rating</th>\n",
       "      <th>python_job</th>\n",
       "      <th>excel_job</th>\n",
       "      <th>r studio_job</th>\n",
       "      <th>spark_job</th>\n",
       "      <th>aws_job</th>\n",
       "      <th>avg.salary</th>\n",
       "      <th>Company Name_1-800-FLOWERS.COM, Inc.</th>\n",
       "      <th>Company Name_1904labs</th>\n",
       "      <th>Company Name_23andMe</th>\n",
       "      <th>...</th>\n",
       "      <th>competitor company_World Wide Technology</th>\n",
       "      <th>competitor company_YOOX NET-A-PORTER GROUP</th>\n",
       "      <th>competitor company_Zocdoc</th>\n",
       "      <th>competitor company_bluebird bio</th>\n",
       "      <th>competitor company_eClinicalWorks</th>\n",
       "      <th>competitor company_no competitor</th>\n",
       "      <th>Ownership_ Private</th>\n",
       "      <th>Ownership_ Public</th>\n",
       "      <th>Ownership_1</th>\n",
       "      <th>Ownership_others</th>\n",
       "    </tr>\n",
       "  </thead>\n",
       "  <tbody>\n",
       "    <tr>\n",
       "      <th>0</th>\n",
       "      <td>0.800000</td>\n",
       "      <td>1</td>\n",
       "      <td>1</td>\n",
       "      <td>0</td>\n",
       "      <td>0</td>\n",
       "      <td>0</td>\n",
       "      <td>0.243243</td>\n",
       "      <td>0</td>\n",
       "      <td>0</td>\n",
       "      <td>0</td>\n",
       "      <td>...</td>\n",
       "      <td>0</td>\n",
       "      <td>0</td>\n",
       "      <td>0</td>\n",
       "      <td>0</td>\n",
       "      <td>0</td>\n",
       "      <td>1</td>\n",
       "      <td>1</td>\n",
       "      <td>0</td>\n",
       "      <td>0</td>\n",
       "      <td>0</td>\n",
       "    </tr>\n",
       "    <tr>\n",
       "      <th>1</th>\n",
       "      <td>0.733333</td>\n",
       "      <td>1</td>\n",
       "      <td>0</td>\n",
       "      <td>0</td>\n",
       "      <td>0</td>\n",
       "      <td>0</td>\n",
       "      <td>0.307692</td>\n",
       "      <td>0</td>\n",
       "      <td>0</td>\n",
       "      <td>0</td>\n",
       "      <td>...</td>\n",
       "      <td>0</td>\n",
       "      <td>0</td>\n",
       "      <td>0</td>\n",
       "      <td>0</td>\n",
       "      <td>0</td>\n",
       "      <td>1</td>\n",
       "      <td>0</td>\n",
       "      <td>0</td>\n",
       "      <td>0</td>\n",
       "      <td>1</td>\n",
       "    </tr>\n",
       "    <tr>\n",
       "      <th>2</th>\n",
       "      <td>0.966667</td>\n",
       "      <td>1</td>\n",
       "      <td>1</td>\n",
       "      <td>0</td>\n",
       "      <td>1</td>\n",
       "      <td>0</td>\n",
       "      <td>0.297297</td>\n",
       "      <td>0</td>\n",
       "      <td>0</td>\n",
       "      <td>0</td>\n",
       "      <td>...</td>\n",
       "      <td>0</td>\n",
       "      <td>0</td>\n",
       "      <td>0</td>\n",
       "      <td>0</td>\n",
       "      <td>0</td>\n",
       "      <td>1</td>\n",
       "      <td>1</td>\n",
       "      <td>0</td>\n",
       "      <td>0</td>\n",
       "      <td>0</td>\n",
       "    </tr>\n",
       "    <tr>\n",
       "      <th>3</th>\n",
       "      <td>0.800000</td>\n",
       "      <td>1</td>\n",
       "      <td>0</td>\n",
       "      <td>0</td>\n",
       "      <td>0</td>\n",
       "      <td>0</td>\n",
       "      <td>0.261954</td>\n",
       "      <td>0</td>\n",
       "      <td>0</td>\n",
       "      <td>0</td>\n",
       "      <td>...</td>\n",
       "      <td>0</td>\n",
       "      <td>0</td>\n",
       "      <td>0</td>\n",
       "      <td>0</td>\n",
       "      <td>0</td>\n",
       "      <td>0</td>\n",
       "      <td>0</td>\n",
       "      <td>0</td>\n",
       "      <td>0</td>\n",
       "      <td>1</td>\n",
       "    </tr>\n",
       "    <tr>\n",
       "      <th>4</th>\n",
       "      <td>0.650000</td>\n",
       "      <td>1</td>\n",
       "      <td>1</td>\n",
       "      <td>0</td>\n",
       "      <td>0</td>\n",
       "      <td>0</td>\n",
       "      <td>0.419958</td>\n",
       "      <td>0</td>\n",
       "      <td>0</td>\n",
       "      <td>0</td>\n",
       "      <td>...</td>\n",
       "      <td>0</td>\n",
       "      <td>0</td>\n",
       "      <td>0</td>\n",
       "      <td>0</td>\n",
       "      <td>0</td>\n",
       "      <td>0</td>\n",
       "      <td>1</td>\n",
       "      <td>0</td>\n",
       "      <td>0</td>\n",
       "      <td>0</td>\n",
       "    </tr>\n",
       "  </tbody>\n",
       "</table>\n",
       "<p>5 rows × 758 columns</p>\n",
       "</div>"
      ],
      "text/plain": [
       "     Rating  python_job  excel_job  r studio_job  spark_job  aws_job  \\\n",
       "0  0.800000           1          1             0          0        0   \n",
       "1  0.733333           1          0             0          0        0   \n",
       "2  0.966667           1          1             0          1        0   \n",
       "3  0.800000           1          0             0          0        0   \n",
       "4  0.650000           1          1             0          0        0   \n",
       "\n",
       "   avg.salary  Company Name_1-800-FLOWERS.COM, Inc.  Company Name_1904labs  \\\n",
       "0    0.243243                                     0                      0   \n",
       "1    0.307692                                     0                      0   \n",
       "2    0.297297                                     0                      0   \n",
       "3    0.261954                                     0                      0   \n",
       "4    0.419958                                     0                      0   \n",
       "\n",
       "   Company Name_23andMe  ...  competitor company_World Wide Technology  \\\n",
       "0                     0  ...                                         0   \n",
       "1                     0  ...                                         0   \n",
       "2                     0  ...                                         0   \n",
       "3                     0  ...                                         0   \n",
       "4                     0  ...                                         0   \n",
       "\n",
       "   competitor company_YOOX NET-A-PORTER GROUP  competitor company_Zocdoc  \\\n",
       "0                                           0                          0   \n",
       "1                                           0                          0   \n",
       "2                                           0                          0   \n",
       "3                                           0                          0   \n",
       "4                                           0                          0   \n",
       "\n",
       "   competitor company_bluebird bio  competitor company_eClinicalWorks  \\\n",
       "0                                0                                  0   \n",
       "1                                0                                  0   \n",
       "2                                0                                  0   \n",
       "3                                0                                  0   \n",
       "4                                0                                  0   \n",
       "\n",
       "   competitor company_no competitor  Ownership_ Private  Ownership_ Public  \\\n",
       "0                                 1                   1                  0   \n",
       "1                                 1                   0                  0   \n",
       "2                                 1                   1                  0   \n",
       "3                                 0                   0                  0   \n",
       "4                                 0                   1                  0   \n",
       "\n",
       "   Ownership_1  Ownership_others  \n",
       "0            0                 0  \n",
       "1            0                 1  \n",
       "2            0                 0  \n",
       "3            0                 1  \n",
       "4            0                 0  \n",
       "\n",
       "[5 rows x 758 columns]"
      ]
     },
     "execution_count": 70,
     "metadata": {},
     "output_type": "execute_result"
    }
   ],
   "source": [
    "final_data.head()"
   ]
  },
  {
   "cell_type": "code",
   "execution_count": 71,
   "metadata": {},
   "outputs": [],
   "source": [
    "# split the data into attributes and lable\n",
    "X = final_data.drop(columns= 'avg.salary').values\n",
    "y = final_data.iloc[:, 6].values"
   ]
  },
  {
   "cell_type": "markdown",
   "metadata": {},
   "source": [
    "### train and test"
   ]
  },
  {
   "cell_type": "code",
   "execution_count": 72,
   "metadata": {},
   "outputs": [],
   "source": [
    "from sklearn.model_selection import train_test_split\n",
    "X_train, X_test, y_train,y_test = train_test_split(X, y, test_size = 0.2, random_state = 0)"
   ]
  },
  {
   "cell_type": "code",
   "execution_count": 73,
   "metadata": {},
   "outputs": [],
   "source": [
    "# Apply StandardScaler to the remaining columns in X_train and X_test\n",
    "from sklearn.preprocessing import StandardScaler\n",
    "\n",
    "scaler = StandardScaler()\n",
    "X_train_scaled = scaler.fit_transform(X_train)\n",
    "X_test_scaled = scaler.transform(X_test)\n"
   ]
  },
  {
   "cell_type": "markdown",
   "metadata": {},
   "source": [
    "### Model selection and Hyperparameter tuning using GridSearch"
   ]
  },
  {
   "cell_type": "code",
   "execution_count": 74,
   "metadata": {},
   "outputs": [
    {
     "name": "stderr",
     "output_type": "stream",
     "text": [
      "/Users/sivaranjanis/opt/anaconda3/lib/python3.9/site-packages/sklearn/linear_model/_base.py:141: FutureWarning: 'normalize' was deprecated in version 1.0 and will be removed in 1.2.\n",
      "If you wish to scale the data, use Pipeline with a StandardScaler in a preprocessing stage. To reproduce the previous behavior:\n",
      "\n",
      "from sklearn.pipeline import make_pipeline\n",
      "\n",
      "model = make_pipeline(StandardScaler(with_mean=False), LinearRegression())\n",
      "\n",
      "If you wish to pass a sample_weight parameter, you need to pass it as a fit parameter to each step of the pipeline as follows:\n",
      "\n",
      "kwargs = {s[0] + '__sample_weight': sample_weight for s in model.steps}\n",
      "model.fit(X, y, **kwargs)\n",
      "\n",
      "\n",
      "  warnings.warn(\n",
      "/Users/sivaranjanis/opt/anaconda3/lib/python3.9/site-packages/sklearn/linear_model/_base.py:141: FutureWarning: 'normalize' was deprecated in version 1.0 and will be removed in 1.2.\n",
      "If you wish to scale the data, use Pipeline with a StandardScaler in a preprocessing stage. To reproduce the previous behavior:\n",
      "\n",
      "from sklearn.pipeline import make_pipeline\n",
      "\n",
      "model = make_pipeline(StandardScaler(with_mean=False), LinearRegression())\n",
      "\n",
      "If you wish to pass a sample_weight parameter, you need to pass it as a fit parameter to each step of the pipeline as follows:\n",
      "\n",
      "kwargs = {s[0] + '__sample_weight': sample_weight for s in model.steps}\n",
      "model.fit(X, y, **kwargs)\n",
      "\n",
      "\n",
      "  warnings.warn(\n",
      "/Users/sivaranjanis/opt/anaconda3/lib/python3.9/site-packages/sklearn/linear_model/_base.py:141: FutureWarning: 'normalize' was deprecated in version 1.0 and will be removed in 1.2.\n",
      "If you wish to scale the data, use Pipeline with a StandardScaler in a preprocessing stage. To reproduce the previous behavior:\n",
      "\n",
      "from sklearn.pipeline import make_pipeline\n",
      "\n",
      "model = make_pipeline(StandardScaler(with_mean=False), LinearRegression())\n",
      "\n",
      "If you wish to pass a sample_weight parameter, you need to pass it as a fit parameter to each step of the pipeline as follows:\n",
      "\n",
      "kwargs = {s[0] + '__sample_weight': sample_weight for s in model.steps}\n",
      "model.fit(X, y, **kwargs)\n",
      "\n",
      "\n",
      "  warnings.warn(\n",
      "/Users/sivaranjanis/opt/anaconda3/lib/python3.9/site-packages/sklearn/linear_model/_base.py:141: FutureWarning: 'normalize' was deprecated in version 1.0 and will be removed in 1.2.\n",
      "If you wish to scale the data, use Pipeline with a StandardScaler in a preprocessing stage. To reproduce the previous behavior:\n",
      "\n",
      "from sklearn.pipeline import make_pipeline\n",
      "\n",
      "model = make_pipeline(StandardScaler(with_mean=False), LinearRegression())\n",
      "\n",
      "If you wish to pass a sample_weight parameter, you need to pass it as a fit parameter to each step of the pipeline as follows:\n",
      "\n",
      "kwargs = {s[0] + '__sample_weight': sample_weight for s in model.steps}\n",
      "model.fit(X, y, **kwargs)\n",
      "\n",
      "\n",
      "  warnings.warn(\n",
      "/Users/sivaranjanis/opt/anaconda3/lib/python3.9/site-packages/sklearn/linear_model/_base.py:141: FutureWarning: 'normalize' was deprecated in version 1.0 and will be removed in 1.2.\n",
      "If you wish to scale the data, use Pipeline with a StandardScaler in a preprocessing stage. To reproduce the previous behavior:\n",
      "\n",
      "from sklearn.pipeline import make_pipeline\n",
      "\n",
      "model = make_pipeline(StandardScaler(with_mean=False), LinearRegression())\n",
      "\n",
      "If you wish to pass a sample_weight parameter, you need to pass it as a fit parameter to each step of the pipeline as follows:\n",
      "\n",
      "kwargs = {s[0] + '__sample_weight': sample_weight for s in model.steps}\n",
      "model.fit(X, y, **kwargs)\n",
      "\n",
      "\n",
      "  warnings.warn(\n",
      "/Users/sivaranjanis/opt/anaconda3/lib/python3.9/site-packages/sklearn/linear_model/_base.py:148: FutureWarning: 'normalize' was deprecated in version 1.0 and will be removed in 1.2. Please leave the normalize parameter to its default value to silence this warning. The default behavior of this estimator is to not do any normalization. If normalization is needed please use sklearn.preprocessing.StandardScaler instead.\n",
      "  warnings.warn(\n",
      "/Users/sivaranjanis/opt/anaconda3/lib/python3.9/site-packages/sklearn/linear_model/_base.py:148: FutureWarning: 'normalize' was deprecated in version 1.0 and will be removed in 1.2. Please leave the normalize parameter to its default value to silence this warning. The default behavior of this estimator is to not do any normalization. If normalization is needed please use sklearn.preprocessing.StandardScaler instead.\n",
      "  warnings.warn(\n",
      "/Users/sivaranjanis/opt/anaconda3/lib/python3.9/site-packages/sklearn/linear_model/_base.py:148: FutureWarning: 'normalize' was deprecated in version 1.0 and will be removed in 1.2. Please leave the normalize parameter to its default value to silence this warning. The default behavior of this estimator is to not do any normalization. If normalization is needed please use sklearn.preprocessing.StandardScaler instead.\n",
      "  warnings.warn(\n",
      "/Users/sivaranjanis/opt/anaconda3/lib/python3.9/site-packages/sklearn/linear_model/_base.py:148: FutureWarning: 'normalize' was deprecated in version 1.0 and will be removed in 1.2. Please leave the normalize parameter to its default value to silence this warning. The default behavior of this estimator is to not do any normalization. If normalization is needed please use sklearn.preprocessing.StandardScaler instead.\n",
      "  warnings.warn(\n",
      "/Users/sivaranjanis/opt/anaconda3/lib/python3.9/site-packages/sklearn/linear_model/_base.py:148: FutureWarning: 'normalize' was deprecated in version 1.0 and will be removed in 1.2. Please leave the normalize parameter to its default value to silence this warning. The default behavior of this estimator is to not do any normalization. If normalization is needed please use sklearn.preprocessing.StandardScaler instead.\n",
      "  warnings.warn(\n",
      "/Users/sivaranjanis/opt/anaconda3/lib/python3.9/site-packages/sklearn/linear_model/_base.py:148: FutureWarning: 'normalize' was deprecated in version 1.0 and will be removed in 1.2. Please leave the normalize parameter to its default value to silence this warning. The default behavior of this estimator is to not do any normalization. If normalization is needed please use sklearn.preprocessing.StandardScaler instead.\n",
      "  warnings.warn(\n"
     ]
    },
    {
     "name": "stdout",
     "output_type": "stream",
     "text": [
      "                    Model                              Best Parameters  \\\n",
      "0       Linear Regression                         {'normalize': False}   \n",
      "1        Lasso Regression                               {'alpha': 0.1}   \n",
      "2        Ridge Regression                               {'alpha': 1.0}   \n",
      "3           Decision Tree                            {'max_depth': 10}   \n",
      "4           Random Forest                        {'n_estimators': 200}   \n",
      "5       Gradient Boosting  {'learning_rate': 0.5, 'n_estimators': 150}   \n",
      "6  Support Vector Machine                   {'C': 20, 'kernel': 'rbf'}   \n",
      "\n",
      "     Test Score  \n",
      "0 -2.541923e+25  \n",
      "1 -2.211658e-03  \n",
      "2  4.914835e-01  \n",
      "3  3.902574e-01  \n",
      "4  5.681173e-01  \n",
      "5  5.750382e-01  \n",
      "6  5.014507e-01  \n"
     ]
    }
   ],
   "source": [
    "from sklearn.model_selection import GridSearchCV, ShuffleSplit\n",
    "from sklearn.linear_model import LinearRegression, Lasso, Ridge\n",
    "from sklearn.tree import DecisionTreeRegressor\n",
    "from sklearn.ensemble import RandomForestRegressor, GradientBoostingRegressor\n",
    "from sklearn.svm import SVR\n",
    "import pandas as pd\n",
    "\n",
    "def find_best_model(X, y):\n",
    "    models = {\n",
    "        'Linear Regression': {\n",
    "            'model': LinearRegression(),\n",
    "            'parameters': {\n",
    "                'normalize': [True, False]\n",
    "            }\n",
    "        },\n",
    "        \n",
    "        'Lasso Regression': {\n",
    "            'model': Lasso(),\n",
    "            'parameters': {\n",
    "                'alpha': [0.1, 1.0, 10.0]\n",
    "            }\n",
    "        },\n",
    "        \n",
    "        'Ridge Regression': {\n",
    "            'model': Ridge(),\n",
    "            'parameters': {\n",
    "                'alpha': [0.1, 1.0, 10.0]\n",
    "            }\n",
    "        },\n",
    "        \n",
    "        'Decision Tree': {\n",
    "            'model': DecisionTreeRegressor(random_state=0),\n",
    "            'parameters': {\n",
    "                'max_depth': [5, 10]\n",
    "            }\n",
    "        },\n",
    "        \n",
    "        'Random Forest': {\n",
    "            'model': RandomForestRegressor(random_state=0),\n",
    "            'parameters': {\n",
    "                'n_estimators': [10, 15, 20, 50, 100, 200]\n",
    "            }\n",
    "        },\n",
    "        \n",
    "        'Gradient Boosting': {\n",
    "            'model': GradientBoostingRegressor(random_state=0),\n",
    "            'parameters': {\n",
    "                'n_estimators': [50, 100, 150],\n",
    "                'learning_rate': [0.01, 0.1, 0.5]\n",
    "            }\n",
    "        },\n",
    "        \n",
    "        'Support Vector Machine': {\n",
    "            'model': SVR(),\n",
    "            'parameters': {\n",
    "                'C': [1, 10, 20],\n",
    "                'kernel': ['rbf', 'linear']\n",
    "            }\n",
    "        }\n",
    "    }\n",
    "    \n",
    "    results = []\n",
    "    cv_shuffle = ShuffleSplit(n_splits=5, test_size=0.20, random_state=0)\n",
    "    \n",
    "    for model_name, model_params in models.items():\n",
    "        gs = GridSearchCV(model_params['model'], model_params['parameters'], cv=cv_shuffle, return_train_score=False)\n",
    "        gs.fit(X, y)\n",
    "        results.append({\n",
    "            'Model': model_name,\n",
    "            'Best Parameters': gs.best_params_,\n",
    "            'Test Score': gs.best_score_\n",
    "        })\n",
    "        \n",
    "    return pd.DataFrame(results)\n",
    "\n",
    "# Call the function with your X_train, y_train data\n",
    "best_models_results = find_best_model(X_train, y_train)\n",
    "\n",
    "# Print the results\n",
    "print(best_models_results)\n"
   ]
  },
  {
   "cell_type": "code",
   "execution_count": 75,
   "metadata": {},
   "outputs": [],
   "source": [
    "from sklearn.metrics import mean_squared_error\n"
   ]
  },
  {
   "cell_type": "code",
   "execution_count": 76,
   "metadata": {},
   "outputs": [
    {
     "name": "stdout",
     "output_type": "stream",
     "text": [
      "Linear Regression: Training Accuracy - 91.94%, Test Accuracy - -1594303035780299630191837184.00%\n",
      "Mean Squared Error (Linear Regression): 4.879806413154905e+23\n"
     ]
    }
   ],
   "source": [
    "from sklearn.linear_model import LinearRegression\n",
    "\n",
    "# Linear Regression\n",
    "lr_model = LinearRegression()\n",
    "lr_model.fit(X_train, y_train)\n",
    "lr_train_accuracy = lr_model.score(X_train, y_train)\n",
    "lr_test_accuracy = lr_model.score(X_test, y_test)\n",
    "print(\"Linear Regression: Training Accuracy - {:.2f}%, Test Accuracy - {:.2f}%\".format(lr_train_accuracy * 100, lr_test_accuracy * 100))\n",
    "# Make predictions using the Linear Regression model\n",
    "y_pred_lr = lr_model.predict(X_test)\n",
    "\n",
    "# Calculate Mean Squared Error for Linear Regression\n",
    "mse_lr = mean_squared_error(y_test, y_pred_lr)\n",
    "print(\"Mean Squared Error (Linear Regression):\", mse_lr)"
   ]
  },
  {
   "cell_type": "code",
   "execution_count": 77,
   "metadata": {},
   "outputs": [
    {
     "name": "stdout",
     "output_type": "stream",
     "text": [
      "Lasso Regression: Training Accuracy - 0.00%, Test Accuracy - -0.03%\n"
     ]
    }
   ],
   "source": [
    "# Lasso Regression\n",
    "lasso_model = Lasso(alpha=1.0)  \n",
    "lasso_model.fit(X_train, y_train)\n",
    "lasso_train_accuracy = lasso_model.score(X_train, y_train)\n",
    "lasso_test_accuracy = lasso_model.score(X_test, y_test)\n",
    "print(\"Lasso Regression: Training Accuracy - {:.2f}%, Test Accuracy - {:.2f}%\".format(lasso_train_accuracy * 100, lasso_test_accuracy * 100))\n"
   ]
  },
  {
   "cell_type": "code",
   "execution_count": 78,
   "metadata": {},
   "outputs": [
    {
     "name": "stdout",
     "output_type": "stream",
     "text": [
      "Mean Squared Error: 0.030617699058597472\n"
     ]
    }
   ],
   "source": [
    "from sklearn.metrics import mean_squared_error\n",
    "\n",
    "# Example for Mean Squared Error\n",
    "y_pred = lasso_model.predict(X_test_scaled)\n",
    "mse = mean_squared_error(y_test, y_pred)\n",
    "print(\"Mean Squared Error:\", mse)"
   ]
  },
  {
   "cell_type": "markdown",
   "metadata": {},
   "source": [
    "Linear Regression, lasso regression gave very bad training and testing accuracy. Hence, we can use other regression models"
   ]
  },
  {
   "cell_type": "code",
   "execution_count": 79,
   "metadata": {},
   "outputs": [
    {
     "name": "stdout",
     "output_type": "stream",
     "text": [
      "Ridge Regression: Training Accuracy - 85.31%, Test Accuracy - 58.96%\n"
     ]
    }
   ],
   "source": [
    "# Ridge Regression\n",
    "ridge_model = Ridge(alpha=1.0)  # You can adjust the alpha parameter\n",
    "ridge_model.fit(X_train, y_train)\n",
    "ridge_train_accuracy = ridge_model.score(X_train, y_train)\n",
    "ridge_test_accuracy = ridge_model.score(X_test, y_test)\n",
    "print(\"Ridge Regression: Training Accuracy - {:.2f}%, Test Accuracy - {:.2f}%\".format(ridge_train_accuracy * 100, ridge_test_accuracy * 100))"
   ]
  },
  {
   "cell_type": "code",
   "execution_count": 80,
   "metadata": {},
   "outputs": [
    {
     "name": "stdout",
     "output_type": "stream",
     "text": [
      "Mean Squared Error (Ridge Regression): 0.012560982830011122\n"
     ]
    }
   ],
   "source": [
    "y_pred_ridge = ridge_model.predict(X_test)\n",
    "\n",
    "# Calculate Mean Squared Error for Ridge Regression\n",
    "mse_ridge = mean_squared_error(y_test, y_pred_ridge)\n",
    "print(\"Mean Squared Error (Ridge Regression):\", mse_ridge)\n"
   ]
  },
  {
   "cell_type": "code",
   "execution_count": 81,
   "metadata": {},
   "outputs": [
    {
     "name": "stdout",
     "output_type": "stream",
     "text": [
      "Decision Tree: Training Accuracy - 47.69%, Test Accuracy - 16.91%\n"
     ]
    }
   ],
   "source": [
    "# Decision Tree\n",
    "dt_model = DecisionTreeRegressor(max_depth=5, random_state=0)  # You can adjust the max_depth parameter\n",
    "dt_model.fit(X_train, y_train)\n",
    "dt_train_accuracy = dt_model.score(X_train, y_train)\n",
    "dt_test_accuracy = dt_model.score(X_test, y_test)\n",
    "print(\"Decision Tree: Training Accuracy - {:.2f}%, Test Accuracy - {:.2f}%\".format(dt_train_accuracy * 100, dt_test_accuracy * 100))\n"
   ]
  },
  {
   "cell_type": "code",
   "execution_count": 82,
   "metadata": {},
   "outputs": [
    {
     "name": "stdout",
     "output_type": "stream",
     "text": [
      "Mean Squared Error (Decision Tree): 0.025431389292545525\n"
     ]
    }
   ],
   "source": [
    "# Make predictions using the Decision Tree model\n",
    "y_pred_dt = dt_model.predict(X_test)\n",
    "\n",
    "# Calculate Mean Squared Error for Decision Tree\n",
    "mse_dt = mean_squared_error(y_test, y_pred_dt)\n",
    "print(\"Mean Squared Error (Decision Tree):\", mse_dt)"
   ]
  },
  {
   "cell_type": "code",
   "execution_count": 83,
   "metadata": {},
   "outputs": [
    {
     "name": "stdout",
     "output_type": "stream",
     "text": [
      "Random Forest: Training Accuracy - 94.28%, Test Accuracy - 61.38%\n"
     ]
    }
   ],
   "source": [
    "# Random Forest\n",
    "rf_model = RandomForestRegressor(n_estimators=100, random_state=0)  # You can adjust the n_estimators parameter\n",
    "rf_model.fit(X_train, y_train)\n",
    "rf_train_accuracy = rf_model.score(X_train, y_train)\n",
    "rf_test_accuracy = rf_model.score(X_test, y_test)\n",
    "print(\"Random Forest: Training Accuracy - {:.2f}%, Test Accuracy - {:.2f}%\".format(rf_train_accuracy * 100, rf_test_accuracy * 100))\n"
   ]
  },
  {
   "cell_type": "code",
   "execution_count": 84,
   "metadata": {},
   "outputs": [
    {
     "name": "stdout",
     "output_type": "stream",
     "text": [
      "Mean Squared Error (Random Forest): 0.011821835588359517\n"
     ]
    }
   ],
   "source": [
    "y_pred_rf = rf_model.predict(X_test)\n",
    "\n",
    "# Calculate Mean Squared Error for Random Forest\n",
    "mse_rf = mean_squared_error(y_test, y_pred_rf)\n",
    "print(\"Mean Squared Error (Random Forest):\", mse_rf)"
   ]
  },
  {
   "cell_type": "code",
   "execution_count": 85,
   "metadata": {},
   "outputs": [
    {
     "name": "stdout",
     "output_type": "stream",
     "text": [
      "Gradient Boosting: Training Accuracy - 65.21%, Test Accuracy - 45.55%\n"
     ]
    }
   ],
   "source": [
    "# Gradient Boosting\n",
    "gb_model = GradientBoostingRegressor(n_estimators=100, learning_rate=0.1, random_state=0)  # You can adjust the parameters\n",
    "gb_model.fit(X_train, y_train)\n",
    "gb_train_accuracy = gb_model.score(X_train, y_train)\n",
    "gb_test_accuracy = gb_model.score(X_test, y_test)\n",
    "print(\"Gradient Boosting: Training Accuracy - {:.2f}%, Test Accuracy - {:.2f}%\".format(gb_train_accuracy * 100, gb_test_accuracy * 100))\n"
   ]
  },
  {
   "cell_type": "code",
   "execution_count": 86,
   "metadata": {},
   "outputs": [
    {
     "name": "stdout",
     "output_type": "stream",
     "text": [
      "Mean Squared Error (Gradient Boosting): 0.01666507823693792\n"
     ]
    }
   ],
   "source": [
    "# Make predictions using the Gradient Boosting model\n",
    "y_pred_gb = gb_model.predict(X_test)\n",
    "\n",
    "# Calculate Mean Squared Error for Gradient Boosting\n",
    "mse_gb = mean_squared_error(y_test, y_pred_gb)\n",
    "print(\"Mean Squared Error (Gradient Boosting):\", mse_gb)"
   ]
  },
  {
   "cell_type": "code",
   "execution_count": 87,
   "metadata": {},
   "outputs": [
    {
     "name": "stdout",
     "output_type": "stream",
     "text": [
      "Support Vector Machine: Training Accuracy - 77.26%, Test Accuracy - 58.78%\n"
     ]
    }
   ],
   "source": [
    "# Support Vector Machine\n",
    "svm_model = SVR(C=1.0, kernel='rbf')  # You can adjust the C and kernel parameters\n",
    "svm_model.fit(X_train, y_train)\n",
    "svm_train_accuracy = svm_model.score(X_train, y_train)\n",
    "svm_test_accuracy = svm_model.score(X_test, y_test)\n",
    "print(\"Support Vector Machine: Training Accuracy - {:.2f}%, Test Accuracy - {:.2f}%\".format(svm_train_accuracy * 100, svm_test_accuracy * 100))"
   ]
  },
  {
   "cell_type": "code",
   "execution_count": 88,
   "metadata": {},
   "outputs": [
    {
     "name": "stdout",
     "output_type": "stream",
     "text": [
      "Mean Squared Error (Support Vector Machine): 0.012617509089067494\n"
     ]
    }
   ],
   "source": [
    "y_pred_svm = svm_model.predict(X_test)\n",
    "\n",
    "# Calculate Mean Squared Error for Support Vector Machine\n",
    "mse_svm = mean_squared_error(y_test, y_pred_svm)\n",
    "print(\"Mean Squared Error (Support Vector Machine):\", mse_svm)"
   ]
  },
  {
   "cell_type": "code",
   "execution_count": 89,
   "metadata": {},
   "outputs": [
    {
     "name": "stdout",
     "output_type": "stream",
     "text": [
      "Linear Regression Model Evaluation:\n",
      "Mean Squared Error (MSE): 487980641315490476589056.00\n",
      "R-squared (R2): -15943030357802996130119680.00\n",
      "------------------------------\n",
      "Lasso Regression Model Evaluation:\n",
      "Mean Squared Error (MSE): 0.03\n",
      "R-squared (R2): -0.00\n",
      "------------------------------\n",
      "Ridge Regression Model Evaluation:\n",
      "Mean Squared Error (MSE): 0.01\n",
      "R-squared (R2): 0.59\n",
      "------------------------------\n",
      "Decision Tree Model Evaluation:\n",
      "Mean Squared Error (MSE): 0.03\n",
      "R-squared (R2): 0.17\n",
      "------------------------------\n",
      "Random Forest Model Evaluation:\n",
      "Mean Squared Error (MSE): 0.01\n",
      "R-squared (R2): 0.61\n",
      "------------------------------\n",
      "Gradient Boosting Model Evaluation:\n",
      "Mean Squared Error (MSE): 0.02\n",
      "R-squared (R2): 0.46\n",
      "------------------------------\n",
      "Support Vector Machine Model Evaluation:\n",
      "Mean Squared Error (MSE): 0.01\n",
      "R-squared (R2): 0.59\n",
      "------------------------------\n"
     ]
    }
   ],
   "source": [
    "from sklearn.metrics import mean_squared_error, r2_score\n",
    "\n",
    "# Making predictions using the models\n",
    "linear_regression_predictions = lr_model.predict(X_test)\n",
    "lasso_predictions = lasso_model.predict(X_test)\n",
    "ridge_predictions = ridge_model.predict(X_test)\n",
    "decision_tree_predictions = dt_model.predict(X_test)\n",
    "random_forest_predictions = rf_model.predict(X_test)\n",
    "gradient_boosting_predictions = gb_model.predict(X_test)\n",
    "svm_predictions = svm_model.predict(X_test)\n",
    "\n",
    "# Evaluating the models\n",
    "def evaluate_model(predictions, model_name):\n",
    "    mse = mean_squared_error(y_test, predictions)\n",
    "    r2 = r2_score(y_test, predictions)\n",
    "    print(f\"{model_name} Model Evaluation:\")\n",
    "    print(f\"Mean Squared Error (MSE): {mse:.2f}\")\n",
    "    print(f\"R-squared (R2): {r2:.2f}\")\n",
    "    print(\"-\" * 30)\n",
    "\n",
    "# Evaluate each model\n",
    "evaluate_model(linear_regression_predictions, \"Linear Regression\")\n",
    "evaluate_model(lasso_predictions, \"Lasso Regression\")\n",
    "evaluate_model(ridge_predictions, \"Ridge Regression\")\n",
    "evaluate_model(decision_tree_predictions, \"Decision Tree\")\n",
    "evaluate_model(random_forest_predictions, \"Random Forest\")\n",
    "evaluate_model(gradient_boosting_predictions, \"Gradient Boosting\")\n",
    "evaluate_model(svm_predictions, \"Support Vector Machine\")\n"
   ]
  },
  {
   "cell_type": "markdown",
   "metadata": {},
   "source": [
    "Lets try one more regression model "
   ]
  },
  {
   "cell_type": "code",
   "execution_count": 90,
   "metadata": {},
   "outputs": [
    {
     "name": "stdout",
     "output_type": "stream",
     "text": [
      "Accuracy of the AdaBoost Regression Model on Training set is : 45.989999999999995% and on Test set is 30.75%\n"
     ]
    }
   ],
   "source": [
    "# Creating AdaBoost regression model\n",
    "from sklearn.ensemble import AdaBoostRegressor\n",
    "adb_model = AdaBoostRegressor(base_estimator=dt_model, n_estimators=250, learning_rate=1, random_state=0)\n",
    "# Fitting the dataset to the model\n",
    "adb_model.fit(X_train, y_train)\n",
    "print(\"Accuracy of the AdaBoost Regression Model on Training set is : {}% and on Test set is {}%\".format(round(adb_model.score(X_train, y_train),4)*100, round(adb_model.score(X_test, y_test),4)*100))"
   ]
  },
  {
   "cell_type": "code",
   "execution_count": 91,
   "metadata": {},
   "outputs": [
    {
     "name": "stdout",
     "output_type": "stream",
     "text": [
      "Mean Squared Error (AdaBoost Regression): 0.021194623645848842\n",
      "R-squared (AdaBoost Regression): 0.31\n"
     ]
    }
   ],
   "source": [
    "adb_predictions = adb_model.predict(X_test)\n",
    "\n",
    "# Calculate Mean Squared Error for AdaBoost Regression\n",
    "mse_adb = mean_squared_error(y_test, adb_predictions)\n",
    "print(\"Mean Squared Error (AdaBoost Regression):\", mse_adb)\n",
    "r2_adb = r2_score(y_test, adb_predictions)\n",
    "print(\"R-squared (AdaBoost Regression): {:.2f}\".format(r2_adb))"
   ]
  },
  {
   "cell_type": "markdown",
   "metadata": {},
   "source": [
    "### Conclusion"
   ]
  },
  {
   "cell_type": "markdown",
   "metadata": {},
   "source": [
    "The Random Forest model performed the best with the lowest MSE and the highest R-squared value, indicating it explains 61% of the variance in the data."
   ]
  },
  {
   "cell_type": "markdown",
   "metadata": {},
   "source": [
    "1. Random Forest Model:\n",
    "    MSE: 0.01\n",
    "    R-squared: 0.61\n",
    "2. Ridge Regression Model:\n",
    "    MSE: 0.01\n",
    "    R-squared: 0.59\n",
    "3. Support Vector Machine Model:\n",
    "    MSE: 0.01\n",
    "    R-squared: 0.59\n",
    "4. AdaBoost Regression Model:\n",
    "    MSE: 0.0143\n",
    "    R-squared: 0.53\n",
    "5. Gradient Boosting Model:\n",
    "    MSE: 0.02\n",
    "    R-squared: 0.46\n",
    "6. Decision Tree Model:\n",
    "    MSE: 0.03\n",
    "    R-squared: 0.17\n",
    "7. Lasso Regression Model:\n",
    "    MSE: 0.03\n",
    "    R-squared: -0.00\n",
    "8. Linear Regression Model:\n",
    "    MSE: Extremely high\n",
    "    R-squared: Extremely low (negative)"
   ]
  }
 ],
 "metadata": {
  "kernelspec": {
   "display_name": "Python 3 (ipykernel)",
   "language": "python",
   "name": "python3"
  },
  "language_info": {
   "codemirror_mode": {
    "name": "ipython",
    "version": 3
   },
   "file_extension": ".py",
   "mimetype": "text/x-python",
   "name": "python",
   "nbconvert_exporter": "python",
   "pygments_lexer": "ipython3",
   "version": "3.9.13"
  }
 },
 "nbformat": 4,
 "nbformat_minor": 4
}
